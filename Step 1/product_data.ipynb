{
 "cells": [
  {
   "cell_type": "code",
   "execution_count": 56,
   "metadata": {},
   "outputs": [],
   "source": [
    "import time\n",
    "import random\n",
    "import numpy as np\n",
    "import pandas as pd\n",
    "from datetime import datetime\n",
    "import matplotlib.pyplot as plt\n",
    "from IPython.display import clear_output"
   ]
  },
  {
   "cell_type": "code",
   "execution_count": 7,
   "metadata": {},
   "outputs": [
    {
     "name": "stdout",
     "output_type": "stream",
     "text": [
      "Collecting chardetNote: you may need to restart the kernel to use updated packages.\n",
      "\n",
      "  Downloading chardet-5.2.0-py3-none-any.whl (199 kB)\n",
      "     -------------------------------------- 199.4/199.4 kB 1.7 MB/s eta 0:00:00\n",
      "Installing collected packages: chardet\n",
      "Successfully installed chardet-5.2.0\n"
     ]
    },
    {
     "name": "stderr",
     "output_type": "stream",
     "text": [
      "\n",
      "[notice] A new release of pip is available: 23.0.1 -> 24.2\n",
      "[notice] To update, run: python.exe -m pip install --upgrade pip\n"
     ]
    }
   ],
   "source": [
    "# pip install chardet"
   ]
  },
  {
   "cell_type": "code",
   "execution_count": 8,
   "metadata": {},
   "outputs": [],
   "source": [
    "# import chardet\n",
    "# import pandas as pd\n",
    "\n",
    "# # Detect the encoding\n",
    "# with open('dummy_dataset_1.csv', 'rb') as rawdata:\n",
    "#     result = chardet.detect(rawdata.read(10000))  # Read the first 10,000 bytes\n",
    "#     encoding = result['encoding']\n",
    "\n",
    "# # Load the file using the detected encoding\n",
    "# df = pd.read_csv('dummy_dataset_1.csv', encoding=encoding)"
   ]
  },
  {
   "cell_type": "code",
   "execution_count": 75,
   "metadata": {},
   "outputs": [],
   "source": [
    "product=pd.read_csv(\"product_data.csv\",header=None,encoding='latin-1')"
   ]
  },
  {
   "cell_type": "code",
   "execution_count": 77,
   "metadata": {},
   "outputs": [
    {
     "data": {
      "text/html": [
       "<div>\n",
       "<style scoped>\n",
       "    .dataframe tbody tr th:only-of-type {\n",
       "        vertical-align: middle;\n",
       "    }\n",
       "\n",
       "    .dataframe tbody tr th {\n",
       "        vertical-align: top;\n",
       "    }\n",
       "\n",
       "    .dataframe thead th {\n",
       "        text-align: right;\n",
       "    }\n",
       "</style>\n",
       "<table border=\"1\" class=\"dataframe\">\n",
       "  <thead>\n",
       "    <tr style=\"text-align: right;\">\n",
       "      <th></th>\n",
       "      <th>product_id</th>\n",
       "      <th>product_description</th>\n",
       "      <th>product_group</th>\n",
       "    </tr>\n",
       "  </thead>\n",
       "  <tbody>\n",
       "    <tr>\n",
       "      <th>0</th>\n",
       "      <td>000052</td>\n",
       "      <td>PUNCH II MSW1 1500mm PUN</td>\n",
       "      <td>35_Leuchten</td>\n",
       "    </tr>\n",
       "    <tr>\n",
       "      <th>1</th>\n",
       "      <td>1036628</td>\n",
       "      <td>H05VV-F2X1 5WS 50M</td>\n",
       "      <td>16_Sonderverkäufe</td>\n",
       "    </tr>\n",
       "    <tr>\n",
       "      <th>2</th>\n",
       "      <td>1052053</td>\n",
       "      <td>H07RN-F3G1 100M</td>\n",
       "      <td>16_Sonderverkäufe</td>\n",
       "    </tr>\n",
       "    <tr>\n",
       "      <th>3</th>\n",
       "      <td>110109</td>\n",
       "      <td>SIEM DELTA Doppelta 2S 5TD2111</td>\n",
       "      <td>32_Schalter_Steckvorrichtg</td>\n",
       "    </tr>\n",
       "    <tr>\n",
       "      <th>4</th>\n",
       "      <td>110125</td>\n",
       "      <td>SIEM PLUS Wip Univ ews 5TG7581</td>\n",
       "      <td>32_Schalter_Steckvorrichtg</td>\n",
       "    </tr>\n",
       "  </tbody>\n",
       "</table>\n",
       "</div>"
      ],
      "text/plain": [
       "  product_id             product_description               product_group\n",
       "0     000052        PUNCH II MSW1 1500mm PUN                 35_Leuchten\n",
       "1    1036628              H05VV-F2X1 5WS 50M           16_Sonderverkäufe\n",
       "2    1052053                 H07RN-F3G1 100M           16_Sonderverkäufe\n",
       "3     110109  SIEM DELTA Doppelta 2S 5TD2111  32_Schalter_Steckvorrichtg\n",
       "4     110125  SIEM PLUS Wip Univ ews 5TG7581  32_Schalter_Steckvorrichtg"
      ]
     },
     "execution_count": 77,
     "metadata": {},
     "output_type": "execute_result"
    }
   ],
   "source": [
    "product.head()"
   ]
  },
  {
   "cell_type": "code",
   "execution_count": 82,
   "metadata": {},
   "outputs": [
    {
     "data": {
      "text/plain": [
       "2199593"
      ]
     },
     "execution_count": 82,
     "metadata": {},
     "output_type": "execute_result"
    }
   ],
   "source": [
    "len(product)"
   ]
  },
  {
   "cell_type": "code",
   "execution_count": 76,
   "metadata": {},
   "outputs": [],
   "source": [
    "product.columns=[\"product_id\",\"product_description\",\"product_group\"]"
   ]
  },
  {
   "cell_type": "code",
   "execution_count": 78,
   "metadata": {},
   "outputs": [
    {
     "data": {
      "text/html": [
       "<div>\n",
       "<style scoped>\n",
       "    .dataframe tbody tr th:only-of-type {\n",
       "        vertical-align: middle;\n",
       "    }\n",
       "\n",
       "    .dataframe tbody tr th {\n",
       "        vertical-align: top;\n",
       "    }\n",
       "\n",
       "    .dataframe thead th {\n",
       "        text-align: right;\n",
       "    }\n",
       "</style>\n",
       "<table border=\"1\" class=\"dataframe\">\n",
       "  <thead>\n",
       "    <tr style=\"text-align: right;\">\n",
       "      <th></th>\n",
       "      <th>product_id</th>\n",
       "      <th>product_description</th>\n",
       "      <th>product_group</th>\n",
       "    </tr>\n",
       "  </thead>\n",
       "  <tbody>\n",
       "    <tr>\n",
       "      <th>count</th>\n",
       "      <td>2199593</td>\n",
       "      <td>2193570</td>\n",
       "      <td>2199593</td>\n",
       "    </tr>\n",
       "    <tr>\n",
       "      <th>unique</th>\n",
       "      <td>2199593</td>\n",
       "      <td>1422888</td>\n",
       "      <td>18</td>\n",
       "    </tr>\n",
       "    <tr>\n",
       "      <th>top</th>\n",
       "      <td>000052</td>\n",
       "      <td>Klemmenmarkierung</td>\n",
       "      <td>33_Schaltgeräte</td>\n",
       "    </tr>\n",
       "    <tr>\n",
       "      <th>freq</th>\n",
       "      <td>1</td>\n",
       "      <td>11251</td>\n",
       "      <td>557163</td>\n",
       "    </tr>\n",
       "  </tbody>\n",
       "</table>\n",
       "</div>"
      ],
      "text/plain": [
       "       product_id product_description    product_group\n",
       "count     2199593             2193570          2199593\n",
       "unique    2199593             1422888               18\n",
       "top        000052   Klemmenmarkierung  33_Schaltgeräte\n",
       "freq            1               11251           557163"
      ]
     },
     "execution_count": 78,
     "metadata": {},
     "output_type": "execute_result"
    }
   ],
   "source": [
    "product.describe()"
   ]
  },
  {
   "cell_type": "code",
   "execution_count": 60,
   "metadata": {},
   "outputs": [
    {
     "data": {
      "text/plain": [
       "product_id             object\n",
       "product_description    object\n",
       "product_group          object\n",
       "dtype: object"
      ]
     },
     "execution_count": 60,
     "metadata": {},
     "output_type": "execute_result"
    }
   ],
   "source": [
    "product.dtypes"
   ]
  },
  {
   "cell_type": "code",
   "execution_count": 79,
   "metadata": {},
   "outputs": [
    {
     "data": {
      "text/plain": [
       "product_id                0\n",
       "product_description    6023\n",
       "product_group             0\n",
       "dtype: int64"
      ]
     },
     "execution_count": 79,
     "metadata": {},
     "output_type": "execute_result"
    }
   ],
   "source": [
    "product.isna().sum()"
   ]
  },
  {
   "cell_type": "code",
   "execution_count": 66,
   "metadata": {},
   "outputs": [
    {
     "data": {
      "text/html": [
       "<div>\n",
       "<style scoped>\n",
       "    .dataframe tbody tr th:only-of-type {\n",
       "        vertical-align: middle;\n",
       "    }\n",
       "\n",
       "    .dataframe tbody tr th {\n",
       "        vertical-align: top;\n",
       "    }\n",
       "\n",
       "    .dataframe thead th {\n",
       "        text-align: right;\n",
       "    }\n",
       "</style>\n",
       "<table border=\"1\" class=\"dataframe\">\n",
       "  <thead>\n",
       "    <tr style=\"text-align: right;\">\n",
       "      <th></th>\n",
       "      <th>product_id</th>\n",
       "      <th>product_description</th>\n",
       "    </tr>\n",
       "    <tr>\n",
       "      <th>product_group</th>\n",
       "      <th></th>\n",
       "      <th></th>\n",
       "    </tr>\n",
       "  </thead>\n",
       "  <tbody>\n",
       "    <tr>\n",
       "      <th>16_Sonderverkäufe</th>\n",
       "      <td>2</td>\n",
       "      <td>0</td>\n",
       "    </tr>\n",
       "    <tr>\n",
       "      <th>18_Haustechnik_Hausgeräte</th>\n",
       "      <td>4</td>\n",
       "      <td>0</td>\n",
       "    </tr>\n",
       "    <tr>\n",
       "      <th>19_Werkzeug</th>\n",
       "      <td>9</td>\n",
       "      <td>0</td>\n",
       "    </tr>\n",
       "    <tr>\n",
       "      <th>31_Install.-Befestigungs-Mat.</th>\n",
       "      <td>2880</td>\n",
       "      <td>0</td>\n",
       "    </tr>\n",
       "    <tr>\n",
       "      <th>32_Schalter_Steckvorrichtg</th>\n",
       "      <td>6</td>\n",
       "      <td>0</td>\n",
       "    </tr>\n",
       "    <tr>\n",
       "      <th>33_Schaltgeräte</th>\n",
       "      <td>1237</td>\n",
       "      <td>0</td>\n",
       "    </tr>\n",
       "    <tr>\n",
       "      <th>34_Verteiler_Schränke</th>\n",
       "      <td>41</td>\n",
       "      <td>0</td>\n",
       "    </tr>\n",
       "    <tr>\n",
       "      <th>35_Leuchten</th>\n",
       "      <td>76</td>\n",
       "      <td>0</td>\n",
       "    </tr>\n",
       "    <tr>\n",
       "      <th>36_Entladungs-Leuchten</th>\n",
       "      <td>502</td>\n",
       "      <td>0</td>\n",
       "    </tr>\n",
       "    <tr>\n",
       "      <th>37_Leuchtmittel</th>\n",
       "      <td>9</td>\n",
       "      <td>0</td>\n",
       "    </tr>\n",
       "    <tr>\n",
       "      <th>40_Sprechen_Schwachstrom</th>\n",
       "      <td>1239</td>\n",
       "      <td>0</td>\n",
       "    </tr>\n",
       "    <tr>\n",
       "      <th>41_Antenne</th>\n",
       "      <td>12</td>\n",
       "      <td>0</td>\n",
       "    </tr>\n",
       "    <tr>\n",
       "      <th>42_Netzwerktechnik</th>\n",
       "      <td>6</td>\n",
       "      <td>0</td>\n",
       "    </tr>\n",
       "  </tbody>\n",
       "</table>\n",
       "</div>"
      ],
      "text/plain": [
       "                               product_id  product_description\n",
       "product_group                                                 \n",
       "16_Sonderverkäufe                       2                    0\n",
       "18_Haustechnik_Hausgeräte               4                    0\n",
       "19_Werkzeug                             9                    0\n",
       "31_Install.-Befestigungs-Mat.        2880                    0\n",
       "32_Schalter_Steckvorrichtg              6                    0\n",
       "33_Schaltgeräte                      1237                    0\n",
       "34_Verteiler_Schränke                  41                    0\n",
       "35_Leuchten                            76                    0\n",
       "36_Entladungs-Leuchten                502                    0\n",
       "37_Leuchtmittel                         9                    0\n",
       "40_Sprechen_Schwachstrom             1239                    0\n",
       "41_Antenne                             12                    0\n",
       "42_Netzwerktechnik                      6                    0"
      ]
     },
     "execution_count": 66,
     "metadata": {},
     "output_type": "execute_result"
    }
   ],
   "source": [
    "missing_product_description = product[product['product_description'].isna()]\n",
    "missing_product_description.describe()\n",
    "missing_product_description.groupby([\"product_group\"]).count()\n"
   ]
  },
  {
   "cell_type": "code",
   "execution_count": 42,
   "metadata": {},
   "outputs": [
    {
     "data": {
      "text/plain": [
       "product_id          0\n",
       "product_desc     6023\n",
       "product_group       0\n",
       "dtype: int64"
      ]
     },
     "execution_count": 42,
     "metadata": {},
     "output_type": "execute_result"
    }
   ],
   "source": [
    "# product= pd.read_csv(\"product_name.csv\",header=None,encoding='latin-1')\n",
    "# product.columns=[\"product_id\",\"product_desc\",\"product_group\"]\n",
    "# product.isna().sum()"
   ]
  },
  {
   "cell_type": "code",
   "execution_count": 35,
   "metadata": {},
   "outputs": [],
   "source": [
    "df_nan = product.replace({np.nan: None})"
   ]
  },
  {
   "cell_type": "code",
   "execution_count": 67,
   "metadata": {},
   "outputs": [
    {
     "data": {
      "text/html": [
       "<div>\n",
       "<style scoped>\n",
       "    .dataframe tbody tr th:only-of-type {\n",
       "        vertical-align: middle;\n",
       "    }\n",
       "\n",
       "    .dataframe tbody tr th {\n",
       "        vertical-align: top;\n",
       "    }\n",
       "\n",
       "    .dataframe thead th {\n",
       "        text-align: right;\n",
       "    }\n",
       "</style>\n",
       "<table border=\"1\" class=\"dataframe\">\n",
       "  <thead>\n",
       "    <tr style=\"text-align: right;\">\n",
       "      <th></th>\n",
       "      <th>product_id</th>\n",
       "      <th>product_desc</th>\n",
       "      <th>product_group</th>\n",
       "      <th>product_group_id</th>\n",
       "      <th>product_group_description</th>\n",
       "    </tr>\n",
       "  </thead>\n",
       "  <tbody>\n",
       "    <tr>\n",
       "      <th>0</th>\n",
       "      <td>000052</td>\n",
       "      <td>PUNCH II MSW1 1500mm PUN</td>\n",
       "      <td>35_Leuchten</td>\n",
       "      <td>35</td>\n",
       "      <td>Leuchten</td>\n",
       "    </tr>\n",
       "    <tr>\n",
       "      <th>1</th>\n",
       "      <td>1036628</td>\n",
       "      <td>H05VV-F2X1 5WS 50M</td>\n",
       "      <td>16_Sonderverkäufe</td>\n",
       "      <td>16</td>\n",
       "      <td>Sonderverkäufe</td>\n",
       "    </tr>\n",
       "    <tr>\n",
       "      <th>2</th>\n",
       "      <td>1052053</td>\n",
       "      <td>H07RN-F3G1 100M</td>\n",
       "      <td>16_Sonderverkäufe</td>\n",
       "      <td>16</td>\n",
       "      <td>Sonderverkäufe</td>\n",
       "    </tr>\n",
       "    <tr>\n",
       "      <th>3</th>\n",
       "      <td>110109</td>\n",
       "      <td>SIEM DELTA Doppelta 2S 5TD2111</td>\n",
       "      <td>32_Schalter_Steckvorrichtg</td>\n",
       "      <td>32</td>\n",
       "      <td>Schalter_Steckvorrichtg</td>\n",
       "    </tr>\n",
       "    <tr>\n",
       "      <th>4</th>\n",
       "      <td>110125</td>\n",
       "      <td>SIEM PLUS Wip Univ ews 5TG7581</td>\n",
       "      <td>32_Schalter_Steckvorrichtg</td>\n",
       "      <td>32</td>\n",
       "      <td>Schalter_Steckvorrichtg</td>\n",
       "    </tr>\n",
       "  </tbody>\n",
       "</table>\n",
       "</div>"
      ],
      "text/plain": [
       "  product_id                    product_desc               product_group  \\\n",
       "0     000052        PUNCH II MSW1 1500mm PUN                 35_Leuchten   \n",
       "1    1036628              H05VV-F2X1 5WS 50M           16_Sonderverkäufe   \n",
       "2    1052053                 H07RN-F3G1 100M           16_Sonderverkäufe   \n",
       "3     110109  SIEM DELTA Doppelta 2S 5TD2111  32_Schalter_Steckvorrichtg   \n",
       "4     110125  SIEM PLUS Wip Univ ews 5TG7581  32_Schalter_Steckvorrichtg   \n",
       "\n",
       "  product_group_id product_group_description  \n",
       "0               35                  Leuchten  \n",
       "1               16            Sonderverkäufe  \n",
       "2               16            Sonderverkäufe  \n",
       "3               32   Schalter_Steckvorrichtg  \n",
       "4               32   Schalter_Steckvorrichtg  "
      ]
     },
     "execution_count": 67,
     "metadata": {},
     "output_type": "execute_result"
    }
   ],
   "source": [
    "df_nan.head()"
   ]
  },
  {
   "cell_type": "code",
   "execution_count": 81,
   "metadata": {},
   "outputs": [
    {
     "data": {
      "text/plain": [
       "(2199593, 2199593)"
      ]
     },
     "execution_count": 81,
     "metadata": {},
     "output_type": "execute_result"
    }
   ],
   "source": [
    "len(product[~product.isna()]), len(product[product.isna()])"
   ]
  },
  {
   "cell_type": "code",
   "execution_count": 85,
   "metadata": {},
   "outputs": [
    {
     "data": {
      "text/html": [
       "<div>\n",
       "<style scoped>\n",
       "    .dataframe tbody tr th:only-of-type {\n",
       "        vertical-align: middle;\n",
       "    }\n",
       "\n",
       "    .dataframe tbody tr th {\n",
       "        vertical-align: top;\n",
       "    }\n",
       "\n",
       "    .dataframe thead th {\n",
       "        text-align: right;\n",
       "    }\n",
       "</style>\n",
       "<table border=\"1\" class=\"dataframe\">\n",
       "  <thead>\n",
       "    <tr style=\"text-align: right;\">\n",
       "      <th></th>\n",
       "      <th>product_id</th>\n",
       "      <th>product_description</th>\n",
       "      <th>product_group</th>\n",
       "    </tr>\n",
       "  </thead>\n",
       "  <tbody>\n",
       "    <tr>\n",
       "      <th>9328</th>\n",
       "      <td>256092</td>\n",
       "      <td>NaN</td>\n",
       "      <td>31_Install.-Befestigungs-Mat.</td>\n",
       "    </tr>\n",
       "    <tr>\n",
       "      <th>13246</th>\n",
       "      <td>363612</td>\n",
       "      <td>NaN</td>\n",
       "      <td>37_Leuchtmittel</td>\n",
       "    </tr>\n",
       "    <tr>\n",
       "      <th>14712</th>\n",
       "      <td>1849999</td>\n",
       "      <td>NaN</td>\n",
       "      <td>42_Netzwerktechnik</td>\n",
       "    </tr>\n",
       "    <tr>\n",
       "      <th>16676</th>\n",
       "      <td>470240</td>\n",
       "      <td>NaN</td>\n",
       "      <td>18_Haustechnik_Hausgeräte</td>\n",
       "    </tr>\n",
       "    <tr>\n",
       "      <th>19138</th>\n",
       "      <td>470239</td>\n",
       "      <td>NaN</td>\n",
       "      <td>18_Haustechnik_Hausgeräte</td>\n",
       "    </tr>\n",
       "    <tr>\n",
       "      <th>...</th>\n",
       "      <td>...</td>\n",
       "      <td>...</td>\n",
       "      <td>...</td>\n",
       "    </tr>\n",
       "    <tr>\n",
       "      <th>1999494</th>\n",
       "      <td>Z02686</td>\n",
       "      <td>NaN</td>\n",
       "      <td>42_Netzwerktechnik</td>\n",
       "    </tr>\n",
       "    <tr>\n",
       "      <th>2001975</th>\n",
       "      <td>Z02687</td>\n",
       "      <td>NaN</td>\n",
       "      <td>42_Netzwerktechnik</td>\n",
       "    </tr>\n",
       "    <tr>\n",
       "      <th>2014789</th>\n",
       "      <td>Z02685</td>\n",
       "      <td>NaN</td>\n",
       "      <td>42_Netzwerktechnik</td>\n",
       "    </tr>\n",
       "    <tr>\n",
       "      <th>2021922</th>\n",
       "      <td>Z02688</td>\n",
       "      <td>NaN</td>\n",
       "      <td>42_Netzwerktechnik</td>\n",
       "    </tr>\n",
       "    <tr>\n",
       "      <th>2131610</th>\n",
       "      <td>X26375</td>\n",
       "      <td>NaN</td>\n",
       "      <td>40_Sprechen_Schwachstrom</td>\n",
       "    </tr>\n",
       "  </tbody>\n",
       "</table>\n",
       "<p>6023 rows × 3 columns</p>\n",
       "</div>"
      ],
      "text/plain": [
       "        product_id product_description                  product_group\n",
       "9328        256092                 NaN  31_Install.-Befestigungs-Mat.\n",
       "13246       363612                 NaN                37_Leuchtmittel\n",
       "14712      1849999                 NaN             42_Netzwerktechnik\n",
       "16676       470240                 NaN      18_Haustechnik_Hausgeräte\n",
       "19138       470239                 NaN      18_Haustechnik_Hausgeräte\n",
       "...            ...                 ...                            ...\n",
       "1999494     Z02686                 NaN             42_Netzwerktechnik\n",
       "2001975     Z02687                 NaN             42_Netzwerktechnik\n",
       "2014789     Z02685                 NaN             42_Netzwerktechnik\n",
       "2021922     Z02688                 NaN             42_Netzwerktechnik\n",
       "2131610     X26375                 NaN       40_Sprechen_Schwachstrom\n",
       "\n",
       "[6023 rows x 3 columns]"
      ]
     },
     "execution_count": 85,
     "metadata": {},
     "output_type": "execute_result"
    }
   ],
   "source": [
    "product[product[\"product_description\"].isna()]"
   ]
  },
  {
   "cell_type": "code",
   "execution_count": 74,
   "metadata": {},
   "outputs": [
    {
     "data": {
      "text/html": [
       "<div>\n",
       "<style scoped>\n",
       "    .dataframe tbody tr th:only-of-type {\n",
       "        vertical-align: middle;\n",
       "    }\n",
       "\n",
       "    .dataframe tbody tr th {\n",
       "        vertical-align: top;\n",
       "    }\n",
       "\n",
       "    .dataframe thead th {\n",
       "        text-align: right;\n",
       "    }\n",
       "</style>\n",
       "<table border=\"1\" class=\"dataframe\">\n",
       "  <thead>\n",
       "    <tr style=\"text-align: right;\">\n",
       "      <th></th>\n",
       "      <th>product_id</th>\n",
       "      <th>product_description</th>\n",
       "      <th>product_group</th>\n",
       "    </tr>\n",
       "  </thead>\n",
       "  <tbody>\n",
       "    <tr>\n",
       "      <th>0</th>\n",
       "      <td>NaN</td>\n",
       "      <td>NaN</td>\n",
       "      <td>NaN</td>\n",
       "    </tr>\n",
       "    <tr>\n",
       "      <th>1</th>\n",
       "      <td>NaN</td>\n",
       "      <td>NaN</td>\n",
       "      <td>NaN</td>\n",
       "    </tr>\n",
       "    <tr>\n",
       "      <th>2</th>\n",
       "      <td>NaN</td>\n",
       "      <td>NaN</td>\n",
       "      <td>NaN</td>\n",
       "    </tr>\n",
       "    <tr>\n",
       "      <th>3</th>\n",
       "      <td>NaN</td>\n",
       "      <td>NaN</td>\n",
       "      <td>NaN</td>\n",
       "    </tr>\n",
       "    <tr>\n",
       "      <th>4</th>\n",
       "      <td>NaN</td>\n",
       "      <td>NaN</td>\n",
       "      <td>NaN</td>\n",
       "    </tr>\n",
       "    <tr>\n",
       "      <th>...</th>\n",
       "      <td>...</td>\n",
       "      <td>...</td>\n",
       "      <td>...</td>\n",
       "    </tr>\n",
       "    <tr>\n",
       "      <th>2199588</th>\n",
       "      <td>NaN</td>\n",
       "      <td>NaN</td>\n",
       "      <td>NaN</td>\n",
       "    </tr>\n",
       "    <tr>\n",
       "      <th>2199589</th>\n",
       "      <td>NaN</td>\n",
       "      <td>NaN</td>\n",
       "      <td>NaN</td>\n",
       "    </tr>\n",
       "    <tr>\n",
       "      <th>2199590</th>\n",
       "      <td>NaN</td>\n",
       "      <td>NaN</td>\n",
       "      <td>NaN</td>\n",
       "    </tr>\n",
       "    <tr>\n",
       "      <th>2199591</th>\n",
       "      <td>NaN</td>\n",
       "      <td>NaN</td>\n",
       "      <td>NaN</td>\n",
       "    </tr>\n",
       "    <tr>\n",
       "      <th>2199592</th>\n",
       "      <td>NaN</td>\n",
       "      <td>NaN</td>\n",
       "      <td>NaN</td>\n",
       "    </tr>\n",
       "  </tbody>\n",
       "</table>\n",
       "<p>2199593 rows × 3 columns</p>\n",
       "</div>"
      ],
      "text/plain": [
       "        product_id product_description product_group\n",
       "0              NaN                 NaN           NaN\n",
       "1              NaN                 NaN           NaN\n",
       "2              NaN                 NaN           NaN\n",
       "3              NaN                 NaN           NaN\n",
       "4              NaN                 NaN           NaN\n",
       "...            ...                 ...           ...\n",
       "2199588        NaN                 NaN           NaN\n",
       "2199589        NaN                 NaN           NaN\n",
       "2199590        NaN                 NaN           NaN\n",
       "2199591        NaN                 NaN           NaN\n",
       "2199592        NaN                 NaN           NaN\n",
       "\n",
       "[2199593 rows x 3 columns]"
      ]
     },
     "execution_count": 74,
     "metadata": {},
     "output_type": "execute_result"
    }
   ],
   "source": [
    "product[product.isna()]"
   ]
  },
  {
   "cell_type": "code",
   "execution_count": null,
   "metadata": {},
   "outputs": [
    {
     "data": {
      "text/html": [
       "<div>\n",
       "<style scoped>\n",
       "    .dataframe tbody tr th:only-of-type {\n",
       "        vertical-align: middle;\n",
       "    }\n",
       "\n",
       "    .dataframe tbody tr th {\n",
       "        vertical-align: top;\n",
       "    }\n",
       "\n",
       "    .dataframe thead th {\n",
       "        text-align: right;\n",
       "    }\n",
       "</style>\n",
       "<table border=\"1\" class=\"dataframe\">\n",
       "  <thead>\n",
       "    <tr style=\"text-align: right;\">\n",
       "      <th></th>\n",
       "      <th>product_id</th>\n",
       "      <th>product_description</th>\n",
       "      <th>product_group</th>\n",
       "    </tr>\n",
       "  </thead>\n",
       "  <tbody>\n",
       "  </tbody>\n",
       "</table>\n",
       "</div>"
      ],
      "text/plain": [
       "Empty DataFrame\n",
       "Columns: [product_id, product_description, product_group]\n",
       "Index: []"
      ]
     },
     "execution_count": 71,
     "metadata": {},
     "output_type": "execute_result"
    }
   ],
   "source": [
    "product.iloc"
   ]
  },
  {
   "cell_type": "code",
   "execution_count": 36,
   "metadata": {},
   "outputs": [],
   "source": [
    "df_nan_only = df_nan[df_nan['product_desc'].isna()]"
   ]
  },
  {
   "cell_type": "code",
   "execution_count": 35,
   "metadata": {},
   "outputs": [],
   "source": [
    "#product[\"product_desc\"] = product[\"product_desc\"].replace({np.nan: None})\n"
   ]
  },
  {
   "cell_type": "code",
   "execution_count": 37,
   "metadata": {},
   "outputs": [],
   "source": [
    "df_nan_only = product[product['product_desc'].isna()]"
   ]
  },
  {
   "cell_type": "code",
   "execution_count": 40,
   "metadata": {},
   "outputs": [
    {
     "data": {
      "text/html": [
       "<div>\n",
       "<style scoped>\n",
       "    .dataframe tbody tr th:only-of-type {\n",
       "        vertical-align: middle;\n",
       "    }\n",
       "\n",
       "    .dataframe tbody tr th {\n",
       "        vertical-align: top;\n",
       "    }\n",
       "\n",
       "    .dataframe thead th {\n",
       "        text-align: right;\n",
       "    }\n",
       "</style>\n",
       "<table border=\"1\" class=\"dataframe\">\n",
       "  <thead>\n",
       "    <tr style=\"text-align: right;\">\n",
       "      <th></th>\n",
       "      <th>product_id</th>\n",
       "      <th>product_desc</th>\n",
       "      <th>product_group</th>\n",
       "    </tr>\n",
       "  </thead>\n",
       "  <tbody>\n",
       "  </tbody>\n",
       "</table>\n",
       "</div>"
      ],
      "text/plain": [
       "Empty DataFrame\n",
       "Columns: [product_id, product_desc, product_group]\n",
       "Index: []"
      ]
     },
     "execution_count": 40,
     "metadata": {},
     "output_type": "execute_result"
    }
   ],
   "source": [
    "df_nan_only"
   ]
  },
  {
   "cell_type": "code",
   "execution_count": 41,
   "metadata": {},
   "outputs": [
    {
     "data": {
      "text/plain": [
       "0"
      ]
     },
     "execution_count": 41,
     "metadata": {},
     "output_type": "execute_result"
    }
   ],
   "source": [
    "df_nan[\"product_desc\"].isna().sum()"
   ]
  },
  {
   "cell_type": "code",
   "execution_count": null,
   "metadata": {},
   "outputs": [],
   "source": [
    "#product[\"product_desc\"].isna()"
   ]
  },
  {
   "cell_type": "code",
   "execution_count": 42,
   "metadata": {},
   "outputs": [
    {
     "data": {
      "text/html": [
       "<div>\n",
       "<style scoped>\n",
       "    .dataframe tbody tr th:only-of-type {\n",
       "        vertical-align: middle;\n",
       "    }\n",
       "\n",
       "    .dataframe tbody tr th {\n",
       "        vertical-align: top;\n",
       "    }\n",
       "\n",
       "    .dataframe thead th {\n",
       "        text-align: right;\n",
       "    }\n",
       "</style>\n",
       "<table border=\"1\" class=\"dataframe\">\n",
       "  <thead>\n",
       "    <tr style=\"text-align: right;\">\n",
       "      <th></th>\n",
       "      <th>product_id</th>\n",
       "      <th>product_desc</th>\n",
       "      <th>product_group</th>\n",
       "    </tr>\n",
       "  </thead>\n",
       "  <tbody>\n",
       "    <tr>\n",
       "      <th>count</th>\n",
       "      <td>2193570</td>\n",
       "      <td>2193570</td>\n",
       "      <td>2193570</td>\n",
       "    </tr>\n",
       "    <tr>\n",
       "      <th>unique</th>\n",
       "      <td>2193570</td>\n",
       "      <td>1422888</td>\n",
       "      <td>18</td>\n",
       "    </tr>\n",
       "    <tr>\n",
       "      <th>top</th>\n",
       "      <td>000052</td>\n",
       "      <td>Klemmenmarkierung</td>\n",
       "      <td>33_Schaltgeräte</td>\n",
       "    </tr>\n",
       "    <tr>\n",
       "      <th>freq</th>\n",
       "      <td>1</td>\n",
       "      <td>11251</td>\n",
       "      <td>555926</td>\n",
       "    </tr>\n",
       "  </tbody>\n",
       "</table>\n",
       "</div>"
      ],
      "text/plain": [
       "       product_id       product_desc    product_group\n",
       "count     2193570            2193570          2193570\n",
       "unique    2193570            1422888               18\n",
       "top        000052  Klemmenmarkierung  33_Schaltgeräte\n",
       "freq            1              11251           555926"
      ]
     },
     "execution_count": 42,
     "metadata": {},
     "output_type": "execute_result"
    }
   ],
   "source": [
    "product.describe()"
   ]
  },
  {
   "cell_type": "code",
   "execution_count": 43,
   "metadata": {},
   "outputs": [
    {
     "data": {
      "text/html": [
       "<div>\n",
       "<style scoped>\n",
       "    .dataframe tbody tr th:only-of-type {\n",
       "        vertical-align: middle;\n",
       "    }\n",
       "\n",
       "    .dataframe tbody tr th {\n",
       "        vertical-align: top;\n",
       "    }\n",
       "\n",
       "    .dataframe thead th {\n",
       "        text-align: right;\n",
       "    }\n",
       "</style>\n",
       "<table border=\"1\" class=\"dataframe\">\n",
       "  <thead>\n",
       "    <tr style=\"text-align: right;\">\n",
       "      <th></th>\n",
       "      <th>product_id</th>\n",
       "      <th>product_desc</th>\n",
       "    </tr>\n",
       "    <tr>\n",
       "      <th>product_group</th>\n",
       "      <th></th>\n",
       "      <th></th>\n",
       "    </tr>\n",
       "  </thead>\n",
       "  <tbody>\n",
       "    <tr>\n",
       "      <th>16_Sonderverkäufe</th>\n",
       "      <td>5770</td>\n",
       "      <td>5770</td>\n",
       "    </tr>\n",
       "    <tr>\n",
       "      <th>18_Haustechnik_Hausgeräte</th>\n",
       "      <td>38955</td>\n",
       "      <td>38955</td>\n",
       "    </tr>\n",
       "    <tr>\n",
       "      <th>19_Werkzeug</th>\n",
       "      <td>79210</td>\n",
       "      <td>79210</td>\n",
       "    </tr>\n",
       "    <tr>\n",
       "      <th>2000_Alka_Bürobedarf</th>\n",
       "      <td>78177</td>\n",
       "      <td>78177</td>\n",
       "    </tr>\n",
       "    <tr>\n",
       "      <th>20_C-Artikel</th>\n",
       "      <td>279</td>\n",
       "      <td>279</td>\n",
       "    </tr>\n",
       "    <tr>\n",
       "      <th>31_Install.-Befestigungs-Mat.</th>\n",
       "      <td>334304</td>\n",
       "      <td>334304</td>\n",
       "    </tr>\n",
       "    <tr>\n",
       "      <th>32_Schalter_Steckvorrichtg</th>\n",
       "      <td>105501</td>\n",
       "      <td>105501</td>\n",
       "    </tr>\n",
       "    <tr>\n",
       "      <th>33_Schaltgeräte</th>\n",
       "      <td>555926</td>\n",
       "      <td>555926</td>\n",
       "    </tr>\n",
       "    <tr>\n",
       "      <th>34_Verteiler_Schränke</th>\n",
       "      <td>189307</td>\n",
       "      <td>189307</td>\n",
       "    </tr>\n",
       "    <tr>\n",
       "      <th>35_Leuchten</th>\n",
       "      <td>446778</td>\n",
       "      <td>446778</td>\n",
       "    </tr>\n",
       "    <tr>\n",
       "      <th>36_Entladungs-Leuchten</th>\n",
       "      <td>133073</td>\n",
       "      <td>133073</td>\n",
       "    </tr>\n",
       "    <tr>\n",
       "      <th>37_Leuchtmittel</th>\n",
       "      <td>87568</td>\n",
       "      <td>87568</td>\n",
       "    </tr>\n",
       "    <tr>\n",
       "      <th>38_Leitungen</th>\n",
       "      <td>3711</td>\n",
       "      <td>3711</td>\n",
       "    </tr>\n",
       "    <tr>\n",
       "      <th>39_Metalle</th>\n",
       "      <td>8</td>\n",
       "      <td>8</td>\n",
       "    </tr>\n",
       "    <tr>\n",
       "      <th>40_Sprechen_Schwachstrom</th>\n",
       "      <td>71650</td>\n",
       "      <td>71650</td>\n",
       "    </tr>\n",
       "    <tr>\n",
       "      <th>41_Antenne</th>\n",
       "      <td>23130</td>\n",
       "      <td>23130</td>\n",
       "    </tr>\n",
       "    <tr>\n",
       "      <th>42_Netzwerktechnik</th>\n",
       "      <td>40222</td>\n",
       "      <td>40222</td>\n",
       "    </tr>\n",
       "    <tr>\n",
       "      <th>61_Kataloge</th>\n",
       "      <td>1</td>\n",
       "      <td>1</td>\n",
       "    </tr>\n",
       "  </tbody>\n",
       "</table>\n",
       "</div>"
      ],
      "text/plain": [
       "                               product_id  product_desc\n",
       "product_group                                          \n",
       "16_Sonderverkäufe                    5770          5770\n",
       "18_Haustechnik_Hausgeräte           38955         38955\n",
       "19_Werkzeug                         79210         79210\n",
       "2000_Alka_Bürobedarf                78177         78177\n",
       "20_C-Artikel                          279           279\n",
       "31_Install.-Befestigungs-Mat.      334304        334304\n",
       "32_Schalter_Steckvorrichtg         105501        105501\n",
       "33_Schaltgeräte                    555926        555926\n",
       "34_Verteiler_Schränke              189307        189307\n",
       "35_Leuchten                        446778        446778\n",
       "36_Entladungs-Leuchten             133073        133073\n",
       "37_Leuchtmittel                     87568         87568\n",
       "38_Leitungen                         3711          3711\n",
       "39_Metalle                              8             8\n",
       "40_Sprechen_Schwachstrom            71650         71650\n",
       "41_Antenne                          23130         23130\n",
       "42_Netzwerktechnik                  40222         40222\n",
       "61_Kataloge                             1             1"
      ]
     },
     "execution_count": 43,
     "metadata": {},
     "output_type": "execute_result"
    }
   ],
   "source": [
    "df_nan.groupby([\"product_group\"]).count()"
   ]
  },
  {
   "cell_type": "markdown",
   "metadata": {},
   "source": [
    "#### Separating product_group column into two separate columns. Newly split columns will be named \"product_group_number\" and \"product group description\""
   ]
  },
  {
   "cell_type": "code",
   "execution_count": 44,
   "metadata": {},
   "outputs": [],
   "source": [
    "df_nan[['product_group_id', 'product_group_description']] = df_nan[\"product_group\"].str.split('_', n=1, expand=True)\n"
   ]
  },
  {
   "cell_type": "code",
   "execution_count": 45,
   "metadata": {},
   "outputs": [
    {
     "data": {
      "text/html": [
       "<div>\n",
       "<style scoped>\n",
       "    .dataframe tbody tr th:only-of-type {\n",
       "        vertical-align: middle;\n",
       "    }\n",
       "\n",
       "    .dataframe tbody tr th {\n",
       "        vertical-align: top;\n",
       "    }\n",
       "\n",
       "    .dataframe thead th {\n",
       "        text-align: right;\n",
       "    }\n",
       "</style>\n",
       "<table border=\"1\" class=\"dataframe\">\n",
       "  <thead>\n",
       "    <tr style=\"text-align: right;\">\n",
       "      <th></th>\n",
       "      <th>product_id</th>\n",
       "      <th>product_desc</th>\n",
       "      <th>product_group</th>\n",
       "      <th>product_group_id</th>\n",
       "      <th>product_group_description</th>\n",
       "    </tr>\n",
       "  </thead>\n",
       "  <tbody>\n",
       "    <tr>\n",
       "      <th>0</th>\n",
       "      <td>000052</td>\n",
       "      <td>PUNCH II MSW1 1500mm PUN</td>\n",
       "      <td>35_Leuchten</td>\n",
       "      <td>35</td>\n",
       "      <td>Leuchten</td>\n",
       "    </tr>\n",
       "    <tr>\n",
       "      <th>1</th>\n",
       "      <td>1036628</td>\n",
       "      <td>H05VV-F2X1 5WS 50M</td>\n",
       "      <td>16_Sonderverkäufe</td>\n",
       "      <td>16</td>\n",
       "      <td>Sonderverkäufe</td>\n",
       "    </tr>\n",
       "    <tr>\n",
       "      <th>2</th>\n",
       "      <td>1052053</td>\n",
       "      <td>H07RN-F3G1 100M</td>\n",
       "      <td>16_Sonderverkäufe</td>\n",
       "      <td>16</td>\n",
       "      <td>Sonderverkäufe</td>\n",
       "    </tr>\n",
       "    <tr>\n",
       "      <th>3</th>\n",
       "      <td>110109</td>\n",
       "      <td>SIEM DELTA Doppelta 2S 5TD2111</td>\n",
       "      <td>32_Schalter_Steckvorrichtg</td>\n",
       "      <td>32</td>\n",
       "      <td>Schalter_Steckvorrichtg</td>\n",
       "    </tr>\n",
       "    <tr>\n",
       "      <th>4</th>\n",
       "      <td>110125</td>\n",
       "      <td>SIEM PLUS Wip Univ ews 5TG7581</td>\n",
       "      <td>32_Schalter_Steckvorrichtg</td>\n",
       "      <td>32</td>\n",
       "      <td>Schalter_Steckvorrichtg</td>\n",
       "    </tr>\n",
       "    <tr>\n",
       "      <th>...</th>\n",
       "      <td>...</td>\n",
       "      <td>...</td>\n",
       "      <td>...</td>\n",
       "      <td>...</td>\n",
       "      <td>...</td>\n",
       "    </tr>\n",
       "    <tr>\n",
       "      <th>2199588</th>\n",
       "      <td>Z53390</td>\n",
       "      <td>ASJ MD300EB NH-Lasttrennlei</td>\n",
       "      <td>34_Verteiler_Schränke</td>\n",
       "      <td>34</td>\n",
       "      <td>Verteiler_Schränke</td>\n",
       "    </tr>\n",
       "    <tr>\n",
       "      <th>2199589</th>\n",
       "      <td>Z53392</td>\n",
       "      <td>ASJ MD31B NH-Lasttrennleist</td>\n",
       "      <td>34_Verteiler_Schränke</td>\n",
       "      <td>34</td>\n",
       "      <td>Verteiler_Schränke</td>\n",
       "    </tr>\n",
       "    <tr>\n",
       "      <th>2199590</th>\n",
       "      <td>Z53394</td>\n",
       "      <td>ASJ MD31HB NH-Lasttrennleis</td>\n",
       "      <td>34_Verteiler_Schränke</td>\n",
       "      <td>34</td>\n",
       "      <td>Verteiler_Schränke</td>\n",
       "    </tr>\n",
       "    <tr>\n",
       "      <th>2199591</th>\n",
       "      <td>Z50507</td>\n",
       "      <td>ABB LLEG124X560MM24 LED LLEG1</td>\n",
       "      <td>37_Leuchtmittel</td>\n",
       "      <td>37</td>\n",
       "      <td>Leuchtmittel</td>\n",
       "    </tr>\n",
       "    <tr>\n",
       "      <th>2199592</th>\n",
       "      <td>Z52127</td>\n",
       "      <td>ABB SLADCG250MM700 LED SLA DC</td>\n",
       "      <td>37_Leuchtmittel</td>\n",
       "      <td>37</td>\n",
       "      <td>Leuchtmittel</td>\n",
       "    </tr>\n",
       "  </tbody>\n",
       "</table>\n",
       "<p>2193570 rows × 5 columns</p>\n",
       "</div>"
      ],
      "text/plain": [
       "        product_id                    product_desc  \\\n",
       "0           000052        PUNCH II MSW1 1500mm PUN   \n",
       "1          1036628              H05VV-F2X1 5WS 50M   \n",
       "2          1052053                 H07RN-F3G1 100M   \n",
       "3           110109  SIEM DELTA Doppelta 2S 5TD2111   \n",
       "4           110125  SIEM PLUS Wip Univ ews 5TG7581   \n",
       "...            ...                             ...   \n",
       "2199588     Z53390     ASJ MD300EB NH-Lasttrennlei   \n",
       "2199589     Z53392     ASJ MD31B NH-Lasttrennleist   \n",
       "2199590     Z53394     ASJ MD31HB NH-Lasttrennleis   \n",
       "2199591     Z50507   ABB LLEG124X560MM24 LED LLEG1   \n",
       "2199592     Z52127   ABB SLADCG250MM700 LED SLA DC   \n",
       "\n",
       "                      product_group product_group_id product_group_description  \n",
       "0                       35_Leuchten               35                  Leuchten  \n",
       "1                 16_Sonderverkäufe               16            Sonderverkäufe  \n",
       "2                 16_Sonderverkäufe               16            Sonderverkäufe  \n",
       "3        32_Schalter_Steckvorrichtg               32   Schalter_Steckvorrichtg  \n",
       "4        32_Schalter_Steckvorrichtg               32   Schalter_Steckvorrichtg  \n",
       "...                             ...              ...                       ...  \n",
       "2199588       34_Verteiler_Schränke               34        Verteiler_Schränke  \n",
       "2199589       34_Verteiler_Schränke               34        Verteiler_Schränke  \n",
       "2199590       34_Verteiler_Schränke               34        Verteiler_Schränke  \n",
       "2199591             37_Leuchtmittel               37              Leuchtmittel  \n",
       "2199592             37_Leuchtmittel               37              Leuchtmittel  \n",
       "\n",
       "[2193570 rows x 5 columns]"
      ]
     },
     "execution_count": 45,
     "metadata": {},
     "output_type": "execute_result"
    }
   ],
   "source": [
    "df_nan"
   ]
  },
  {
   "cell_type": "code",
   "execution_count": 46,
   "metadata": {},
   "outputs": [
    {
     "data": {
      "text/html": [
       "<div>\n",
       "<style scoped>\n",
       "    .dataframe tbody tr th:only-of-type {\n",
       "        vertical-align: middle;\n",
       "    }\n",
       "\n",
       "    .dataframe tbody tr th {\n",
       "        vertical-align: top;\n",
       "    }\n",
       "\n",
       "    .dataframe thead th {\n",
       "        text-align: right;\n",
       "    }\n",
       "</style>\n",
       "<table border=\"1\" class=\"dataframe\">\n",
       "  <thead>\n",
       "    <tr style=\"text-align: right;\">\n",
       "      <th></th>\n",
       "      <th>product_id</th>\n",
       "      <th>product_desc</th>\n",
       "      <th>product_group_id</th>\n",
       "      <th>product_group_description</th>\n",
       "    </tr>\n",
       "  </thead>\n",
       "  <tbody>\n",
       "    <tr>\n",
       "      <th>0</th>\n",
       "      <td>000052</td>\n",
       "      <td>PUNCH II MSW1 1500mm PUN</td>\n",
       "      <td>35</td>\n",
       "      <td>Leuchten</td>\n",
       "    </tr>\n",
       "    <tr>\n",
       "      <th>1</th>\n",
       "      <td>1036628</td>\n",
       "      <td>H05VV-F2X1 5WS 50M</td>\n",
       "      <td>16</td>\n",
       "      <td>Sonderverkäufe</td>\n",
       "    </tr>\n",
       "    <tr>\n",
       "      <th>2</th>\n",
       "      <td>1052053</td>\n",
       "      <td>H07RN-F3G1 100M</td>\n",
       "      <td>16</td>\n",
       "      <td>Sonderverkäufe</td>\n",
       "    </tr>\n",
       "    <tr>\n",
       "      <th>3</th>\n",
       "      <td>110109</td>\n",
       "      <td>SIEM DELTA Doppelta 2S 5TD2111</td>\n",
       "      <td>32</td>\n",
       "      <td>Schalter_Steckvorrichtg</td>\n",
       "    </tr>\n",
       "    <tr>\n",
       "      <th>4</th>\n",
       "      <td>110125</td>\n",
       "      <td>SIEM PLUS Wip Univ ews 5TG7581</td>\n",
       "      <td>32</td>\n",
       "      <td>Schalter_Steckvorrichtg</td>\n",
       "    </tr>\n",
       "    <tr>\n",
       "      <th>...</th>\n",
       "      <td>...</td>\n",
       "      <td>...</td>\n",
       "      <td>...</td>\n",
       "      <td>...</td>\n",
       "    </tr>\n",
       "    <tr>\n",
       "      <th>2199588</th>\n",
       "      <td>Z53390</td>\n",
       "      <td>ASJ MD300EB NH-Lasttrennlei</td>\n",
       "      <td>34</td>\n",
       "      <td>Verteiler_Schränke</td>\n",
       "    </tr>\n",
       "    <tr>\n",
       "      <th>2199589</th>\n",
       "      <td>Z53392</td>\n",
       "      <td>ASJ MD31B NH-Lasttrennleist</td>\n",
       "      <td>34</td>\n",
       "      <td>Verteiler_Schränke</td>\n",
       "    </tr>\n",
       "    <tr>\n",
       "      <th>2199590</th>\n",
       "      <td>Z53394</td>\n",
       "      <td>ASJ MD31HB NH-Lasttrennleis</td>\n",
       "      <td>34</td>\n",
       "      <td>Verteiler_Schränke</td>\n",
       "    </tr>\n",
       "    <tr>\n",
       "      <th>2199591</th>\n",
       "      <td>Z50507</td>\n",
       "      <td>ABB LLEG124X560MM24 LED LLEG1</td>\n",
       "      <td>37</td>\n",
       "      <td>Leuchtmittel</td>\n",
       "    </tr>\n",
       "    <tr>\n",
       "      <th>2199592</th>\n",
       "      <td>Z52127</td>\n",
       "      <td>ABB SLADCG250MM700 LED SLA DC</td>\n",
       "      <td>37</td>\n",
       "      <td>Leuchtmittel</td>\n",
       "    </tr>\n",
       "  </tbody>\n",
       "</table>\n",
       "<p>2193570 rows × 4 columns</p>\n",
       "</div>"
      ],
      "text/plain": [
       "        product_id                    product_desc product_group_id  \\\n",
       "0           000052        PUNCH II MSW1 1500mm PUN               35   \n",
       "1          1036628              H05VV-F2X1 5WS 50M               16   \n",
       "2          1052053                 H07RN-F3G1 100M               16   \n",
       "3           110109  SIEM DELTA Doppelta 2S 5TD2111               32   \n",
       "4           110125  SIEM PLUS Wip Univ ews 5TG7581               32   \n",
       "...            ...                             ...              ...   \n",
       "2199588     Z53390     ASJ MD300EB NH-Lasttrennlei               34   \n",
       "2199589     Z53392     ASJ MD31B NH-Lasttrennleist               34   \n",
       "2199590     Z53394     ASJ MD31HB NH-Lasttrennleis               34   \n",
       "2199591     Z50507   ABB LLEG124X560MM24 LED LLEG1               37   \n",
       "2199592     Z52127   ABB SLADCG250MM700 LED SLA DC               37   \n",
       "\n",
       "        product_group_description  \n",
       "0                        Leuchten  \n",
       "1                  Sonderverkäufe  \n",
       "2                  Sonderverkäufe  \n",
       "3         Schalter_Steckvorrichtg  \n",
       "4         Schalter_Steckvorrichtg  \n",
       "...                           ...  \n",
       "2199588        Verteiler_Schränke  \n",
       "2199589        Verteiler_Schränke  \n",
       "2199590        Verteiler_Schränke  \n",
       "2199591              Leuchtmittel  \n",
       "2199592              Leuchtmittel  \n",
       "\n",
       "[2193570 rows x 4 columns]"
      ]
     },
     "execution_count": 46,
     "metadata": {},
     "output_type": "execute_result"
    }
   ],
   "source": [
    "df_nan.drop(columns=[\"product_group\"])"
   ]
  },
  {
   "cell_type": "code",
   "execution_count": 47,
   "metadata": {},
   "outputs": [
    {
     "data": {
      "image/png": "[encoded data removed]",
      "text/plain": [
       "<Figure size 720x432 with 1 Axes>"
      ]
     },
     "metadata": {
      "needs_background": "light"
     },
     "output_type": "display_data"
    }
   ],
   "source": [
    "import pandas as pd\n",
    "import matplotlib.pyplot as plt\n",
    "\n",
    "# Assuming df is your DataFrame\n",
    "df_nan['product_group_id'].value_counts().plot(kind='bar', figsize=(10, 6))\n",
    "plt.title('Distribution of Products by Product Group ID')\n",
    "plt.xlabel('Product Group ID')\n",
    "plt.ylabel('Count of Products')\n",
    "plt.show()\n"
   ]
  },
  {
   "cell_type": "code",
   "execution_count": 48,
   "metadata": {},
   "outputs": [
    {
     "ename": "TypeError",
     "evalue": "Horizontal orientation requires numeric `x` variable.",
     "output_type": "error",
     "traceback": [
      "\u001b[1;31m---------------------------------------------------------------------------\u001b[0m",
      "\u001b[1;31mTypeError\u001b[0m                                 Traceback (most recent call last)",
      "Input \u001b[1;32mIn [48]\u001b[0m, in \u001b[0;36m<cell line: 3>\u001b[1;34m()\u001b[0m\n\u001b[0;32m      1\u001b[0m \u001b[38;5;28;01mimport\u001b[39;00m \u001b[38;5;21;01mseaborn\u001b[39;00m \u001b[38;5;28;01mas\u001b[39;00m \u001b[38;5;21;01msns\u001b[39;00m\n\u001b[1;32m----> 3\u001b[0m \u001b[43msns\u001b[49m\u001b[38;5;241;43m.\u001b[39;49m\u001b[43mboxplot\u001b[49m\u001b[43m(\u001b[49m\u001b[43mdata\u001b[49m\u001b[38;5;241;43m=\u001b[39;49m\u001b[43mdf_nan\u001b[49m\u001b[43m,\u001b[49m\u001b[43m \u001b[49m\u001b[43mx\u001b[49m\u001b[38;5;241;43m=\u001b[39;49m\u001b[38;5;124;43m'\u001b[39;49m\u001b[38;5;124;43mproduct_group_id\u001b[39;49m\u001b[38;5;124;43m'\u001b[39;49m\u001b[43m)\u001b[49m\n\u001b[0;32m      4\u001b[0m plt\u001b[38;5;241m.\u001b[39mtitle(\u001b[38;5;124m'\u001b[39m\u001b[38;5;124mBox Plot of Product Group ID\u001b[39m\u001b[38;5;124m'\u001b[39m)\n\u001b[0;32m      5\u001b[0m plt\u001b[38;5;241m.\u001b[39mshow()\n",
      "File \u001b[1;32mc:\\ProgramData\\Anaconda3\\lib\\site-packages\\seaborn\\_decorators.py:46\u001b[0m, in \u001b[0;36m_deprecate_positional_args.<locals>.inner_f\u001b[1;34m(*args, **kwargs)\u001b[0m\n\u001b[0;32m     36\u001b[0m     warnings\u001b[38;5;241m.\u001b[39mwarn(\n\u001b[0;32m     37\u001b[0m         \u001b[38;5;124m\"\u001b[39m\u001b[38;5;124mPass the following variable\u001b[39m\u001b[38;5;132;01m{}\u001b[39;00m\u001b[38;5;124m as \u001b[39m\u001b[38;5;132;01m{}\u001b[39;00m\u001b[38;5;124mkeyword arg\u001b[39m\u001b[38;5;132;01m{}\u001b[39;00m\u001b[38;5;124m: \u001b[39m\u001b[38;5;132;01m{}\u001b[39;00m\u001b[38;5;124m. \u001b[39m\u001b[38;5;124m\"\u001b[39m\n\u001b[0;32m     38\u001b[0m         \u001b[38;5;124m\"\u001b[39m\u001b[38;5;124mFrom version 0.12, the only valid positional argument \u001b[39m\u001b[38;5;124m\"\u001b[39m\n\u001b[1;32m   (...)\u001b[0m\n\u001b[0;32m     43\u001b[0m         \u001b[38;5;167;01mFutureWarning\u001b[39;00m\n\u001b[0;32m     44\u001b[0m     )\n\u001b[0;32m     45\u001b[0m kwargs\u001b[38;5;241m.\u001b[39mupdate({k: arg \u001b[38;5;28;01mfor\u001b[39;00m k, arg \u001b[38;5;129;01min\u001b[39;00m \u001b[38;5;28mzip\u001b[39m(sig\u001b[38;5;241m.\u001b[39mparameters, args)})\n\u001b[1;32m---> 46\u001b[0m \u001b[38;5;28;01mreturn\u001b[39;00m f(\u001b[38;5;241m*\u001b[39m\u001b[38;5;241m*\u001b[39mkwargs)\n",
      "File \u001b[1;32mc:\\ProgramData\\Anaconda3\\lib\\site-packages\\seaborn\\categorical.py:2243\u001b[0m, in \u001b[0;36mboxplot\u001b[1;34m(x, y, hue, data, order, hue_order, orient, color, palette, saturation, width, dodge, fliersize, linewidth, whis, ax, **kwargs)\u001b[0m\n\u001b[0;32m   2231\u001b[0m \u001b[38;5;129m@_deprecate_positional_args\u001b[39m\n\u001b[0;32m   2232\u001b[0m \u001b[38;5;28;01mdef\u001b[39;00m \u001b[38;5;21mboxplot\u001b[39m(\n\u001b[0;32m   2233\u001b[0m     \u001b[38;5;241m*\u001b[39m,\n\u001b[1;32m   (...)\u001b[0m\n\u001b[0;32m   2240\u001b[0m     \u001b[38;5;241m*\u001b[39m\u001b[38;5;241m*\u001b[39mkwargs\n\u001b[0;32m   2241\u001b[0m ):\n\u001b[1;32m-> 2243\u001b[0m     plotter \u001b[38;5;241m=\u001b[39m \u001b[43m_BoxPlotter\u001b[49m\u001b[43m(\u001b[49m\u001b[43mx\u001b[49m\u001b[43m,\u001b[49m\u001b[43m \u001b[49m\u001b[43my\u001b[49m\u001b[43m,\u001b[49m\u001b[43m \u001b[49m\u001b[43mhue\u001b[49m\u001b[43m,\u001b[49m\u001b[43m \u001b[49m\u001b[43mdata\u001b[49m\u001b[43m,\u001b[49m\u001b[43m \u001b[49m\u001b[43morder\u001b[49m\u001b[43m,\u001b[49m\u001b[43m \u001b[49m\u001b[43mhue_order\u001b[49m\u001b[43m,\u001b[49m\n\u001b[0;32m   2244\u001b[0m \u001b[43m                          \u001b[49m\u001b[43morient\u001b[49m\u001b[43m,\u001b[49m\u001b[43m \u001b[49m\u001b[43mcolor\u001b[49m\u001b[43m,\u001b[49m\u001b[43m \u001b[49m\u001b[43mpalette\u001b[49m\u001b[43m,\u001b[49m\u001b[43m \u001b[49m\u001b[43msaturation\u001b[49m\u001b[43m,\u001b[49m\n\u001b[0;32m   2245\u001b[0m \u001b[43m                          \u001b[49m\u001b[43mwidth\u001b[49m\u001b[43m,\u001b[49m\u001b[43m \u001b[49m\u001b[43mdodge\u001b[49m\u001b[43m,\u001b[49m\u001b[43m \u001b[49m\u001b[43mfliersize\u001b[49m\u001b[43m,\u001b[49m\u001b[43m \u001b[49m\u001b[43mlinewidth\u001b[49m\u001b[43m)\u001b[49m\n\u001b[0;32m   2247\u001b[0m     \u001b[38;5;28;01mif\u001b[39;00m ax \u001b[38;5;129;01mis\u001b[39;00m \u001b[38;5;28;01mNone\u001b[39;00m:\n\u001b[0;32m   2248\u001b[0m         ax \u001b[38;5;241m=\u001b[39m plt\u001b[38;5;241m.\u001b[39mgca()\n",
      "File \u001b[1;32mc:\\ProgramData\\Anaconda3\\lib\\site-packages\\seaborn\\categorical.py:406\u001b[0m, in \u001b[0;36m_BoxPlotter.__init__\u001b[1;34m(self, x, y, hue, data, order, hue_order, orient, color, palette, saturation, width, dodge, fliersize, linewidth)\u001b[0m\n\u001b[0;32m    402\u001b[0m \u001b[38;5;28;01mdef\u001b[39;00m \u001b[38;5;21m__init__\u001b[39m(\u001b[38;5;28mself\u001b[39m, x, y, hue, data, order, hue_order,\n\u001b[0;32m    403\u001b[0m              orient, color, palette, saturation,\n\u001b[0;32m    404\u001b[0m              width, dodge, fliersize, linewidth):\n\u001b[1;32m--> 406\u001b[0m     \u001b[38;5;28;43mself\u001b[39;49m\u001b[38;5;241;43m.\u001b[39;49m\u001b[43mestablish_variables\u001b[49m\u001b[43m(\u001b[49m\u001b[43mx\u001b[49m\u001b[43m,\u001b[49m\u001b[43m \u001b[49m\u001b[43my\u001b[49m\u001b[43m,\u001b[49m\u001b[43m \u001b[49m\u001b[43mhue\u001b[49m\u001b[43m,\u001b[49m\u001b[43m \u001b[49m\u001b[43mdata\u001b[49m\u001b[43m,\u001b[49m\u001b[43m \u001b[49m\u001b[43morient\u001b[49m\u001b[43m,\u001b[49m\u001b[43m \u001b[49m\u001b[43morder\u001b[49m\u001b[43m,\u001b[49m\u001b[43m \u001b[49m\u001b[43mhue_order\u001b[49m\u001b[43m)\u001b[49m\n\u001b[0;32m    407\u001b[0m     \u001b[38;5;28mself\u001b[39m\u001b[38;5;241m.\u001b[39mestablish_colors(color, palette, saturation)\n\u001b[0;32m    409\u001b[0m     \u001b[38;5;28mself\u001b[39m\u001b[38;5;241m.\u001b[39mdodge \u001b[38;5;241m=\u001b[39m dodge\n",
      "File \u001b[1;32mc:\\ProgramData\\Anaconda3\\lib\\site-packages\\seaborn\\categorical.py:156\u001b[0m, in \u001b[0;36m_CategoricalPlotter.establish_variables\u001b[1;34m(self, x, y, hue, data, orient, order, hue_order, units)\u001b[0m\n\u001b[0;32m    153\u001b[0m         \u001b[38;5;28;01mraise\u001b[39;00m \u001b[38;5;167;01mValueError\u001b[39;00m(err)\n\u001b[0;32m    155\u001b[0m \u001b[38;5;66;03m# Figure out the plotting orientation\u001b[39;00m\n\u001b[1;32m--> 156\u001b[0m orient \u001b[38;5;241m=\u001b[39m \u001b[43minfer_orient\u001b[49m\u001b[43m(\u001b[49m\n\u001b[0;32m    157\u001b[0m \u001b[43m    \u001b[49m\u001b[43mx\u001b[49m\u001b[43m,\u001b[49m\u001b[43m \u001b[49m\u001b[43my\u001b[49m\u001b[43m,\u001b[49m\u001b[43m \u001b[49m\u001b[43morient\u001b[49m\u001b[43m,\u001b[49m\u001b[43m \u001b[49m\u001b[43mrequire_numeric\u001b[49m\u001b[38;5;241;43m=\u001b[39;49m\u001b[38;5;28;43mself\u001b[39;49m\u001b[38;5;241;43m.\u001b[39;49m\u001b[43mrequire_numeric\u001b[49m\n\u001b[0;32m    158\u001b[0m \u001b[43m\u001b[49m\u001b[43m)\u001b[49m\n\u001b[0;32m    160\u001b[0m \u001b[38;5;66;03m# Option 2a:\u001b[39;00m\n\u001b[0;32m    161\u001b[0m \u001b[38;5;66;03m# We are plotting a single set of data\u001b[39;00m\n\u001b[0;32m    162\u001b[0m \u001b[38;5;66;03m# ------------------------------------\u001b[39;00m\n\u001b[0;32m    163\u001b[0m \u001b[38;5;28;01mif\u001b[39;00m x \u001b[38;5;129;01mis\u001b[39;00m \u001b[38;5;28;01mNone\u001b[39;00m \u001b[38;5;129;01mor\u001b[39;00m y \u001b[38;5;129;01mis\u001b[39;00m \u001b[38;5;28;01mNone\u001b[39;00m:\n\u001b[0;32m    164\u001b[0m \n\u001b[0;32m    165\u001b[0m     \u001b[38;5;66;03m# Determine where the data are\u001b[39;00m\n",
      "File \u001b[1;32mc:\\ProgramData\\Anaconda3\\lib\\site-packages\\seaborn\\_core.py:1328\u001b[0m, in \u001b[0;36minfer_orient\u001b[1;34m(x, y, orient, require_numeric)\u001b[0m\n\u001b[0;32m   1326\u001b[0m         warnings\u001b[38;5;241m.\u001b[39mwarn(single_var_warning\u001b[38;5;241m.\u001b[39mformat(\u001b[38;5;124m\"\u001b[39m\u001b[38;5;124mVertical\u001b[39m\u001b[38;5;124m\"\u001b[39m, \u001b[38;5;124m\"\u001b[39m\u001b[38;5;124mx\u001b[39m\u001b[38;5;124m\"\u001b[39m))\n\u001b[0;32m   1327\u001b[0m     \u001b[38;5;28;01mif\u001b[39;00m require_numeric \u001b[38;5;129;01mand\u001b[39;00m x_type \u001b[38;5;241m!=\u001b[39m \u001b[38;5;124m\"\u001b[39m\u001b[38;5;124mnumeric\u001b[39m\u001b[38;5;124m\"\u001b[39m:\n\u001b[1;32m-> 1328\u001b[0m         \u001b[38;5;28;01mraise\u001b[39;00m \u001b[38;5;167;01mTypeError\u001b[39;00m(nonnumeric_dv_error\u001b[38;5;241m.\u001b[39mformat(\u001b[38;5;124m\"\u001b[39m\u001b[38;5;124mHorizontal\u001b[39m\u001b[38;5;124m\"\u001b[39m, \u001b[38;5;124m\"\u001b[39m\u001b[38;5;124mx\u001b[39m\u001b[38;5;124m\"\u001b[39m))\n\u001b[0;32m   1329\u001b[0m     \u001b[38;5;28;01mreturn\u001b[39;00m \u001b[38;5;124m\"\u001b[39m\u001b[38;5;124mh\u001b[39m\u001b[38;5;124m\"\u001b[39m\n\u001b[0;32m   1331\u001b[0m \u001b[38;5;28;01melif\u001b[39;00m \u001b[38;5;28mstr\u001b[39m(orient)\u001b[38;5;241m.\u001b[39mstartswith(\u001b[38;5;124m\"\u001b[39m\u001b[38;5;124mv\u001b[39m\u001b[38;5;124m\"\u001b[39m):\n",
      "\u001b[1;31mTypeError\u001b[0m: Horizontal orientation requires numeric `x` variable."
     ]
    }
   ],
   "source": [
    "import seaborn as sns\n",
    "\n",
    "sns.boxplot(data=df_nan, x='product_group_id')\n",
    "plt.title('Box Plot of Product Group ID')\n",
    "plt.show()\n"
   ]
  },
  {
   "cell_type": "code",
   "execution_count": 49,
   "metadata": {},
   "outputs": [
    {
     "data": {
      "image/png": "[encoded data removed]",
      "text/plain": [
       "<Figure size 576x576 with 1 Axes>"
      ]
     },
     "metadata": {},
     "output_type": "display_data"
    }
   ],
   "source": [
    "df_nan['product_group_id'].value_counts().plot(kind='pie', autopct='%1.1f%%', figsize=(8, 8))\n",
    "plt.title('Proportion of Products by Product Group ID')\n",
    "plt.ylabel('')  # Hide y-axis label\n",
    "plt.show()\n"
   ]
  },
  {
   "cell_type": "code",
   "execution_count": 50,
   "metadata": {},
   "outputs": [
    {
     "data": {
      "image/png": "[encoded data removed]",
      "text/plain": [
       "<Figure size 576x576 with 1 Axes>"
      ]
     },
     "metadata": {},
     "output_type": "display_data"
    }
   ],
   "source": [
    "import pandas as pd\n",
    "import matplotlib.pyplot as plt\n",
    "\n",
    "# Assuming df is your DataFrame\n",
    "# Get the top 10 most frequent product_group_id\n",
    "top_10_groups = df_nan['product_group_id'].value_counts().nlargest(10)\n",
    "\n",
    "# Create a pie chart for the top 10 product_group_id\n",
    "top_10_groups.plot(kind='pie', autopct='%1.1f%%', figsize=(8, 8), startangle=90)\n",
    "\n",
    "# Customize the pie chart\n",
    "plt.title('Top 10 Product Group IDs by Proportion')\n",
    "plt.ylabel('')  # Hide y-axis label\n",
    "plt.show()\n"
   ]
  },
  {
   "cell_type": "code",
   "execution_count": 91,
   "metadata": {},
   "outputs": [],
   "source": [
    "product.to_csv(\"updated product.csv\")"
   ]
  },
  {
   "cell_type": "code",
   "execution_count": 68,
   "metadata": {},
   "outputs": [],
   "source": [
    "df_nan.to_csv(\"updated_24_OCT.csv\")"
   ]
  }
 ],
 "metadata": {
  "kernelspec": {
   "display_name": "base",
   "language": "python",
   "name": "python3"
  },
  "language_info": {
   "codemirror_mode": {
    "name": "ipython",
    "version": 3
   },
   "file_extension": ".py",
   "mimetype": "text/x-python",
   "name": "python",
   "nbconvert_exporter": "python",
   "pygments_lexer": "ipython3",
   "version": "3.9.12"
  }
 },
 "nbformat": 4,
 "nbformat_minor": 2
}
