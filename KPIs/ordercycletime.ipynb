{
 "cells": [
  {
   "cell_type": "markdown",
   "metadata": {},
   "source": [
    "### Installing packages"
   ]
  },
  {
   "cell_type": "code",
   "execution_count": 1,
   "metadata": {},
   "outputs": [],
   "source": [
    "# !pip3 install numpy\n",
    "# !pip3 install --upgrade pip\n",
    "# !pip3 install pandas\n",
    "# !pip3 install matplotlib\n",
    "# ! pip3 install seaborn"
   ]
  },
  {
   "cell_type": "markdown",
   "metadata": {},
   "source": [
    "### Importing packages"
   ]
  },
  {
   "cell_type": "code",
   "execution_count": 2,
   "metadata": {},
   "outputs": [],
   "source": [
    "import time\n",
    "import random\n",
    "import numpy as np\n",
    "import pandas as pd\n",
    "import seaborn as sns\n",
    "from datetime import datetime\n",
    "import matplotlib.pyplot as plt\n",
    "from itertools import combinations\n",
    "from IPython.display import clear_output"
   ]
  },
  {
   "cell_type": "markdown",
   "metadata": {},
   "source": [
    "## Functions"
   ]
  },
  {
   "cell_type": "markdown",
   "metadata": {},
   "source": [
    "Function that returns an overview of the **pick_data** based on all columns"
   ]
  },
  {
   "cell_type": "code",
   "execution_count": 8,
   "metadata": {},
   "outputs": [],
   "source": [
    "# function that returns an overview of the pick_data based on all columns\n",
    "def general_overview(pick_data):\n",
    "\n",
    "    #get unique values for each variable\n",
    "    unique_number_of_products = len(set(pick_data.product_id.values))\n",
    "    unique_number_of_categories = len(set(pick_data.category.values))\n",
    "    unique_number_of_source_order_ids = len(set(pick_data.source_order_id.values))\n",
    "    unique_number_of_order_numbers = len(set(pick_data.order_number.values))\n",
    "    unique_number_of_positions_in_order = len(set(pick_data.position_in_order.values))\n",
    "    unique_number_of_quantity_unit = len(set(pick_data.quantity_unit.values))\n",
    "\n",
    "    # print the results for a better understanding\n",
    "    print(\"The length of the data is: \", len(pick_data))\n",
    "    print(\"-----\")\n",
    "    print(\"-----\")\n",
    "    print(\"product_id\")\n",
    "    print(\"The number of unique product_id is: \",  unique_number_of_products)\n",
    "    print(\"-----\")\n",
    "    print(\"category\")\n",
    "    print(\"The number of unique category is: \", unique_number_of_categories)\n",
    "    print(\"-----\")\n",
    "    print(\"source_order_id\")\n",
    "    print(\"The number of unique source_order_id is: \", unique_number_of_source_order_ids)\n",
    "    print(\"-----\")\n",
    "    print(\"order_number\")\n",
    "    print(\"The number of unique order_number is: \", unique_number_of_order_numbers)\n",
    "    print(\"-----\")\n",
    "    print(\"position_in_order\")\n",
    "    print(\"The number of unique position_in_order is: \", unique_number_of_positions_in_order)\n",
    "    print(\"-----\")\n",
    "    print(\"pick_volume\")\n",
    "    print(\"The min value of pick_volume is: \", pick_data.pick_volume.min())\n",
    "    print(\"The max value of pick_volume is: \", pick_data.pick_volume.max())\n",
    "    print(\"-----\")\n",
    "    print(\"quantity_unit\")\n",
    "    print(\"The number of unique quantity_unit is: \", unique_number_of_quantity_unit)\n",
    "    print(\"-----\")\n",
    "    print(\"date_time\")\n",
    "    print(\"The first date_time of the picks_data is: \", pick_data.date_time.min())\n",
    "    print(\"The last date_time of the picks_data is: \", pick_data.date_time.max())"
   ]
  },
  {
   "cell_type": "markdown",
   "metadata": {},
   "source": [
    "Function that checks duplicate rows showing their duplicated partners based on a column selection"
   ]
  },
  {
   "cell_type": "code",
   "execution_count": 9,
   "metadata": {},
   "outputs": [],
   "source": [
    "def check_duplicates_row_columns(pick_data, index_to_check, columns_to_evaluate):\n",
    "\n",
    "    index_row_pick_data = pick_data.loc[index_to_check, columns_to_evaluate]\n",
    "\n",
    "    matching_rows = pick_data[pick_data[columns_to_evaluate].eq(index_row_pick_data).all(axis=1)]\n",
    "    \n",
    "    return(matching_rows)"
   ]
  },
  {
   "cell_type": "code",
   "execution_count": 13,
   "metadata": {},
   "outputs": [
    {
     "name": "stderr",
     "output_type": "stream",
     "text": [
      "/var/folders/t0/076wyzj12cgctpjh4_l2656m0000gn/T/ipykernel_7172/3430834546.py:2: DtypeWarning: Columns (0,3) have mixed types. Specify dtype option on import or set low_memory=False.\n",
      "  pick_data = pd.read_csv(\"003 pick_data.csv\", header=None)\n"
     ]
    }
   ],
   "source": [
    "pick_data = pd.read_csv(\"003 pick_data.csv\", header=None)"
   ]
  },
  {
   "cell_type": "code",
   "execution_count": 16,
   "metadata": {},
   "outputs": [],
   "source": [
    "pick_data.columns = [\"product_id\", \"category\", \"source_order_id\", \"order_number\", \"position_in_order\", \"pick_volume\", \"quantity_unit\", \"date_time\"]"
   ]
  },
  {
   "cell_type": "markdown",
   "metadata": {},
   "source": [
    "Check applied changes"
   ]
  },
  {
   "cell_type": "code",
   "execution_count": 17,
   "metadata": {},
   "outputs": [
    {
     "data": {
      "text/html": [
       "<div>\n",
       "<style scoped>\n",
       "    .dataframe tbody tr th:only-of-type {\n",
       "        vertical-align: middle;\n",
       "    }\n",
       "\n",
       "    .dataframe tbody tr th {\n",
       "        vertical-align: top;\n",
       "    }\n",
       "\n",
       "    .dataframe thead th {\n",
       "        text-align: right;\n",
       "    }\n",
       "</style>\n",
       "<table border=\"1\" class=\"dataframe\">\n",
       "  <thead>\n",
       "    <tr style=\"text-align: right;\">\n",
       "      <th></th>\n",
       "      <th>product_id</th>\n",
       "      <th>category</th>\n",
       "      <th>source_order_id</th>\n",
       "      <th>order_number</th>\n",
       "      <th>position_in_order</th>\n",
       "      <th>pick_volume</th>\n",
       "      <th>quantity_unit</th>\n",
       "      <th>date_time</th>\n",
       "    </tr>\n",
       "  </thead>\n",
       "  <tbody>\n",
       "    <tr>\n",
       "      <th>0</th>\n",
       "      <td>2</td>\n",
       "      <td>SHL</td>\n",
       "      <td>48</td>\n",
       "      <td>7055448</td>\n",
       "      <td>1</td>\n",
       "      <td>29</td>\n",
       "      <td>St</td>\n",
       "      <td>2017-06-30 11:15:24.0000000</td>\n",
       "    </tr>\n",
       "    <tr>\n",
       "      <th>1</th>\n",
       "      <td>2</td>\n",
       "      <td>SHL</td>\n",
       "      <td>48</td>\n",
       "      <td>7055448</td>\n",
       "      <td>1</td>\n",
       "      <td>30</td>\n",
       "      <td>St</td>\n",
       "      <td>2017-06-30 11:22:35.0000000</td>\n",
       "    </tr>\n",
       "    <tr>\n",
       "      <th>2</th>\n",
       "      <td>2</td>\n",
       "      <td>SHL</td>\n",
       "      <td>48</td>\n",
       "      <td>7055448</td>\n",
       "      <td>1</td>\n",
       "      <td>30</td>\n",
       "      <td>St</td>\n",
       "      <td>2017-06-30 12:04:50.0000000</td>\n",
       "    </tr>\n",
       "    <tr>\n",
       "      <th>3</th>\n",
       "      <td>2</td>\n",
       "      <td>SHL</td>\n",
       "      <td>48</td>\n",
       "      <td>7055448</td>\n",
       "      <td>1</td>\n",
       "      <td>20</td>\n",
       "      <td>St</td>\n",
       "      <td>2017-06-30 12:04:51.0000000</td>\n",
       "    </tr>\n",
       "    <tr>\n",
       "      <th>4</th>\n",
       "      <td>2</td>\n",
       "      <td>SHL</td>\n",
       "      <td>48</td>\n",
       "      <td>7055448</td>\n",
       "      <td>1</td>\n",
       "      <td>30</td>\n",
       "      <td>St</td>\n",
       "      <td>2017-06-30 12:05:02.0000000</td>\n",
       "    </tr>\n",
       "  </tbody>\n",
       "</table>\n",
       "</div>"
      ],
      "text/plain": [
       "  product_id category  source_order_id order_number  position_in_order  \\\n",
       "0          2      SHL               48      7055448                  1   \n",
       "1          2      SHL               48      7055448                  1   \n",
       "2          2      SHL               48      7055448                  1   \n",
       "3          2      SHL               48      7055448                  1   \n",
       "4          2      SHL               48      7055448                  1   \n",
       "\n",
       "   pick_volume quantity_unit                    date_time  \n",
       "0           29            St  2017-06-30 11:15:24.0000000  \n",
       "1           30            St  2017-06-30 11:22:35.0000000  \n",
       "2           30            St  2017-06-30 12:04:50.0000000  \n",
       "3           20            St  2017-06-30 12:04:51.0000000  \n",
       "4           30            St  2017-06-30 12:05:02.0000000  "
      ]
     },
     "execution_count": 17,
     "metadata": {},
     "output_type": "execute_result"
    }
   ],
   "source": [
    "pick_data.head()"
   ]
  },
  {
   "cell_type": "markdown",
   "metadata": {},
   "source": [
    "Matching data types"
   ]
  },
  {
   "cell_type": "code",
   "execution_count": 18,
   "metadata": {},
   "outputs": [],
   "source": [
    "pick_data[\"product_id\"] = pick_data[\"product_id\"].astype(str)\n",
    "pick_data[\"category\"] = pick_data[\"category\"].astype(str)\n",
    "pick_data[\"source_order_id\"] = pick_data[\"source_order_id\"].astype(str)\n",
    "pick_data[\"order_number\"] = pick_data[\"order_number\"].astype(str)\n",
    "pick_data[\"position_in_order\"] = pick_data[\"position_in_order\"].astype(int)\n",
    "pick_data[\"pick_volume\"] = pick_data[\"pick_volume\"].astype(int)\n",
    "pick_data[\"quantity_unit\"] = pick_data[\"quantity_unit\"].astype(str)\n",
    "pick_data[\"date_time\"] = pd.to_datetime(pick_data[\"date_time\"])"
   ]
  },
  {
   "cell_type": "code",
   "execution_count": 20,
   "metadata": {},
   "outputs": [
    {
     "name": "stdout",
     "output_type": "stream",
     "text": [
      "<class 'pandas.core.frame.DataFrame'>\n",
      "RangeIndex: 33888990 entries, 0 to 33888989\n",
      "Data columns (total 8 columns):\n",
      " #   Column             Dtype         \n",
      "---  ------             -----         \n",
      " 0   product_id         object        \n",
      " 1   category           object        \n",
      " 2   source_order_id    object        \n",
      " 3   order_number       object        \n",
      " 4   position_in_order  int64         \n",
      " 5   pick_volume        int64         \n",
      " 6   quantity_unit      object        \n",
      " 7   date_time          datetime64[ns]\n",
      "dtypes: datetime64[ns](1), int64(2), object(5)\n",
      "memory usage: 2.0+ GB\n"
     ]
    }
   ],
   "source": [
    "pick_data.info()"
   ]
  },
  {
   "cell_type": "code",
   "execution_count": 21,
   "metadata": {},
   "outputs": [
    {
     "data": {
      "text/html": [
       "<div>\n",
       "<style scoped>\n",
       "    .dataframe tbody tr th:only-of-type {\n",
       "        vertical-align: middle;\n",
       "    }\n",
       "\n",
       "    .dataframe tbody tr th {\n",
       "        vertical-align: top;\n",
       "    }\n",
       "\n",
       "    .dataframe thead th {\n",
       "        text-align: right;\n",
       "    }\n",
       "</style>\n",
       "<table border=\"1\" class=\"dataframe\">\n",
       "  <thead>\n",
       "    <tr style=\"text-align: right;\">\n",
       "      <th></th>\n",
       "      <th>product_id</th>\n",
       "      <th>category</th>\n",
       "      <th>source_order_id</th>\n",
       "      <th>order_number</th>\n",
       "      <th>quantity_unit</th>\n",
       "    </tr>\n",
       "  </thead>\n",
       "  <tbody>\n",
       "    <tr>\n",
       "      <th>count</th>\n",
       "      <td>33888990</td>\n",
       "      <td>33888990</td>\n",
       "      <td>33888990</td>\n",
       "      <td>33888990</td>\n",
       "      <td>33888990</td>\n",
       "    </tr>\n",
       "    <tr>\n",
       "      <th>unique</th>\n",
       "      <td>97338</td>\n",
       "      <td>5</td>\n",
       "      <td>2</td>\n",
       "      <td>6956136</td>\n",
       "      <td>9</td>\n",
       "    </tr>\n",
       "    <tr>\n",
       "      <th>top</th>\n",
       "      <td>109910</td>\n",
       "      <td>SHL</td>\n",
       "      <td>48</td>\n",
       "      <td>4055714</td>\n",
       "      <td>St</td>\n",
       "    </tr>\n",
       "    <tr>\n",
       "      <th>freq</th>\n",
       "      <td>181758</td>\n",
       "      <td>14489668</td>\n",
       "      <td>26428489</td>\n",
       "      <td>392</td>\n",
       "      <td>28621625</td>\n",
       "    </tr>\n",
       "  </tbody>\n",
       "</table>\n",
       "</div>"
      ],
      "text/plain": [
       "       product_id  category source_order_id order_number quantity_unit\n",
       "count    33888990  33888990        33888990     33888990      33888990\n",
       "unique      97338         5               2      6956136             9\n",
       "top        109910       SHL              48      4055714            St\n",
       "freq       181758  14489668        26428489          392      28621625"
      ]
     },
     "execution_count": 21,
     "metadata": {},
     "output_type": "execute_result"
    }
   ],
   "source": [
    "pick_data.describe(include=\"object\")"
   ]
  },
  {
   "cell_type": "markdown",
   "metadata": {},
   "source": [
    "### order time "
   ]
  },
  {
   "cell_type": "code",
   "execution_count": 24,
   "metadata": {},
   "outputs": [],
   "source": [
    "new_df = pick_data[['order_number', 'date_time', 'year']]"
   ]
  },
  {
   "cell_type": "markdown",
   "metadata": {},
   "source": [
    "## script to run for order time\n",
    " "
   ]
  },
  {
   "cell_type": "code",
   "execution_count": null,
   "metadata": {},
   "outputs": [],
   "source": [
    "import pandas as pd\n",
    "\n",
    "\n",
    "df=pick_data\n",
    "\n",
    "new_df = df[['order_number', 'date_time']]\n",
    "\n",
    "def calculate_time_for_order(order_number):\n",
    "    filtered_data = df[(df['order_number'] == order_number) ]\n",
    "    \n",
    "    time_taken = filtered_data['date_time'].max() - filtered_data['date_time'].min()\n",
    "    print(order_number,time_taken)\n",
    "    return time_taken\n",
    "\n",
    "df['order_cycle_time'] = df.apply(lambda row: calculate_time_for_order(row['order_number']), axis=1)\n",
    "\n",
    "unique_orders_df = df.drop_duplicates(subset=['order_cycle_time'])\n",
    "\n",
    "tostore=unique_orders_df[['order_number', 'order_cycle_time']]\n",
    "tostore.to_csv('order_cycle_time.csv', index=False)"
   ]
  },
  {
   "cell_type": "markdown",
   "metadata": {},
   "source": [
    "## column modification"
   ]
  },
  {
   "cell_type": "code",
   "execution_count": null,
   "metadata": {},
   "outputs": [
    {
     "name": "stderr",
     "output_type": "stream",
     "text": [
      "C:\\Users\\ARIFr\\AppData\\Local\\Temp\\ipykernel_13360\\102746837.py:2: SettingWithCopyWarning: \n",
      "A value is trying to be set on a copy of a slice from a DataFrame.\n",
      "Try using .loc[row_indexer,col_indexer] = value instead\n",
      "\n",
      "See the caveats in the documentation: https://pandas.pydata.org/pandas-docs/stable/user_guide/indexing.html#returning-a-view-versus-a-copy\n",
      "  filtered_df['order_number'] = filtered_df['year'].astype(str) + (filtered_df['order_number'])\n"
     ]
    }
   ],
   "source": [
    "filtered_df = pick_data[pick_data['year'].between(2018, 2020)]\n",
    "filtered_df['order_number'] = filtered_df['year'].astype(str) + (filtered_df['order_number'])"
   ]
  },
  {
   "cell_type": "code",
   "execution_count": null,
   "metadata": {},
   "outputs": [
    {
     "data": {
      "text/html": [
       "<div>\n",
       "<style scoped>\n",
       "    .dataframe tbody tr th:only-of-type {\n",
       "        vertical-align: middle;\n",
       "    }\n",
       "\n",
       "    .dataframe tbody tr th {\n",
       "        vertical-align: top;\n",
       "    }\n",
       "\n",
       "    .dataframe thead th {\n",
       "        text-align: right;\n",
       "    }\n",
       "</style>\n",
       "<table border=\"1\" class=\"dataframe\">\n",
       "  <thead>\n",
       "    <tr style=\"text-align: right;\">\n",
       "      <th></th>\n",
       "      <th>product_id</th>\n",
       "      <th>category</th>\n",
       "      <th>source_order_id</th>\n",
       "      <th>order_number</th>\n",
       "      <th>position_in_order</th>\n",
       "      <th>pick_volume</th>\n",
       "      <th>quantity_unit</th>\n",
       "      <th>date_time</th>\n",
       "      <th>year</th>\n",
       "    </tr>\n",
       "  </thead>\n",
       "  <tbody>\n",
       "    <tr>\n",
       "      <th>46</th>\n",
       "      <td>7</td>\n",
       "      <td>AKL</td>\n",
       "      <td>48</td>\n",
       "      <td>20188105006</td>\n",
       "      <td>2</td>\n",
       "      <td>4</td>\n",
       "      <td>St</td>\n",
       "      <td>2018-01-16 03:05:21</td>\n",
       "      <td>2018</td>\n",
       "    </tr>\n",
       "    <tr>\n",
       "      <th>47</th>\n",
       "      <td>10</td>\n",
       "      <td>HRL</td>\n",
       "      <td>48</td>\n",
       "      <td>20188197426</td>\n",
       "      <td>1</td>\n",
       "      <td>24</td>\n",
       "      <td>St</td>\n",
       "      <td>2018-01-30 10:52:31</td>\n",
       "      <td>2018</td>\n",
       "    </tr>\n",
       "    <tr>\n",
       "      <th>48</th>\n",
       "      <td>10</td>\n",
       "      <td>HRL</td>\n",
       "      <td>48</td>\n",
       "      <td>20188197426</td>\n",
       "      <td>1</td>\n",
       "      <td>24</td>\n",
       "      <td>St</td>\n",
       "      <td>2018-01-30 10:58:08</td>\n",
       "      <td>2018</td>\n",
       "    </tr>\n",
       "    <tr>\n",
       "      <th>49</th>\n",
       "      <td>10</td>\n",
       "      <td>HRL</td>\n",
       "      <td>48</td>\n",
       "      <td>20188197426</td>\n",
       "      <td>1</td>\n",
       "      <td>12</td>\n",
       "      <td>St</td>\n",
       "      <td>2018-01-30 12:03:18</td>\n",
       "      <td>2018</td>\n",
       "    </tr>\n",
       "    <tr>\n",
       "      <th>50</th>\n",
       "      <td>10</td>\n",
       "      <td>HRL</td>\n",
       "      <td>48</td>\n",
       "      <td>20188197426</td>\n",
       "      <td>1</td>\n",
       "      <td>24</td>\n",
       "      <td>St</td>\n",
       "      <td>2018-01-30 12:06:39</td>\n",
       "      <td>2018</td>\n",
       "    </tr>\n",
       "    <tr>\n",
       "      <th>...</th>\n",
       "      <td>...</td>\n",
       "      <td>...</td>\n",
       "      <td>...</td>\n",
       "      <td>...</td>\n",
       "      <td>...</td>\n",
       "      <td>...</td>\n",
       "      <td>...</td>\n",
       "      <td>...</td>\n",
       "      <td>...</td>\n",
       "    </tr>\n",
       "    <tr>\n",
       "      <th>16059444</th>\n",
       "      <td>Z97984</td>\n",
       "      <td>SHL</td>\n",
       "      <td>48</td>\n",
       "      <td>20202687649</td>\n",
       "      <td>1</td>\n",
       "      <td>2</td>\n",
       "      <td>St</td>\n",
       "      <td>2020-03-18 01:24:24</td>\n",
       "      <td>2020</td>\n",
       "    </tr>\n",
       "    <tr>\n",
       "      <th>16059445</th>\n",
       "      <td>Z97984</td>\n",
       "      <td>SHL</td>\n",
       "      <td>48</td>\n",
       "      <td>20202872645</td>\n",
       "      <td>6</td>\n",
       "      <td>1</td>\n",
       "      <td>St</td>\n",
       "      <td>2020-04-22 23:28:20</td>\n",
       "      <td>2020</td>\n",
       "    </tr>\n",
       "    <tr>\n",
       "      <th>16059446</th>\n",
       "      <td>Z97984</td>\n",
       "      <td>SHL</td>\n",
       "      <td>48</td>\n",
       "      <td>20202983837</td>\n",
       "      <td>5</td>\n",
       "      <td>1</td>\n",
       "      <td>St</td>\n",
       "      <td>2020-05-12 22:58:52</td>\n",
       "      <td>2020</td>\n",
       "    </tr>\n",
       "    <tr>\n",
       "      <th>16059447</th>\n",
       "      <td>Z97984</td>\n",
       "      <td>SHL</td>\n",
       "      <td>48</td>\n",
       "      <td>20201001119</td>\n",
       "      <td>4</td>\n",
       "      <td>1</td>\n",
       "      <td>St</td>\n",
       "      <td>2020-05-14 17:48:22</td>\n",
       "      <td>2020</td>\n",
       "    </tr>\n",
       "    <tr>\n",
       "      <th>16059448</th>\n",
       "      <td>Z97984</td>\n",
       "      <td>SHL</td>\n",
       "      <td>48</td>\n",
       "      <td>20203127974</td>\n",
       "      <td>7</td>\n",
       "      <td>2</td>\n",
       "      <td>St</td>\n",
       "      <td>2020-06-09 17:51:20</td>\n",
       "      <td>2020</td>\n",
       "    </tr>\n",
       "  </tbody>\n",
       "</table>\n",
       "<p>11760323 rows × 9 columns</p>\n",
       "</div>"
      ],
      "text/plain": [
       "         product_id category source_order_id order_number  position_in_order  \\\n",
       "46                7      AKL              48  20188105006                  2   \n",
       "47               10      HRL              48  20188197426                  1   \n",
       "48               10      HRL              48  20188197426                  1   \n",
       "49               10      HRL              48  20188197426                  1   \n",
       "50               10      HRL              48  20188197426                  1   \n",
       "...             ...      ...             ...          ...                ...   \n",
       "16059444     Z97984      SHL              48  20202687649                  1   \n",
       "16059445     Z97984      SHL              48  20202872645                  6   \n",
       "16059446     Z97984      SHL              48  20202983837                  5   \n",
       "16059447     Z97984      SHL              48  20201001119                  4   \n",
       "16059448     Z97984      SHL              48  20203127974                  7   \n",
       "\n",
       "          pick_volume quantity_unit           date_time  year  \n",
       "46                  4            St 2018-01-16 03:05:21  2018  \n",
       "47                 24            St 2018-01-30 10:52:31  2018  \n",
       "48                 24            St 2018-01-30 10:58:08  2018  \n",
       "49                 12            St 2018-01-30 12:03:18  2018  \n",
       "50                 24            St 2018-01-30 12:06:39  2018  \n",
       "...               ...           ...                 ...   ...  \n",
       "16059444            2            St 2020-03-18 01:24:24  2020  \n",
       "16059445            1            St 2020-04-22 23:28:20  2020  \n",
       "16059446            1            St 2020-05-12 22:58:52  2020  \n",
       "16059447            1            St 2020-05-14 17:48:22  2020  \n",
       "16059448            2            St 2020-06-09 17:51:20  2020  \n",
       "\n",
       "[11760323 rows x 9 columns]"
      ]
     },
     "execution_count": 17,
     "metadata": {},
     "output_type": "execute_result"
    }
   ],
   "source": [
    "filtered_df"
   ]
  },
  {
   "cell_type": "code",
   "execution_count": null,
   "metadata": {},
   "outputs": [],
   "source": [
    "filtered_df.to_csv('year-order_number.csv', index=False)"
   ]
  },
  {
   "cell_type": "code",
   "execution_count": null,
   "metadata": {},
   "outputs": [
    {
     "data": {
      "text/plain": [
       "Timedelta('0 days 02:33:53')"
      ]
     },
     "execution_count": 18,
     "metadata": {},
     "output_type": "execute_result"
    }
   ],
   "source": [
    "pick_data[pick_data[\"order_number\"] == \"7055448\"].date_time.max()-pick_data[pick_data[\"order_number\"]== \"7055448\"].date_time.min()"
   ]
  }
 ],
 "metadata": {
  "kernelspec": {
   "display_name": "Python 3",
   "language": "python",
   "name": "python3"
  },
  "language_info": {
   "codemirror_mode": {
    "name": "ipython",
    "version": 3
   },
   "file_extension": ".py",
   "mimetype": "text/x-python",
   "name": "python",
   "nbconvert_exporter": "python",
   "pygments_lexer": "ipython3",
   "version": "3.11.9"
  }
 },
 "nbformat": 4,
 "nbformat_minor": 2
}
