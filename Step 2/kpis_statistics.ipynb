{
 "cells": [
  {
   "cell_type": "markdown",
   "metadata": {},
   "source": [
    "# **KPI ANALYSIS - \"PICK_DATA\"**"
   ]
  },
  {
   "cell_type": "markdown",
   "metadata": {},
   "source": [
    "## Packages"
   ]
  },
  {
   "cell_type": "markdown",
   "metadata": {},
   "source": [
    "### Installing packages"
   ]
  },
  {
   "cell_type": "code",
   "execution_count": null,
   "metadata": {},
   "outputs": [],
   "source": [
    "# !pip3 install numpy\n",
    "# !pip3 install --upgrade pip\n",
    "# !pip3 install pandas\n",
    "# !pip3 install matplotlib\n",
    "# !pip3 install seaborn"
   ]
  },
  {
   "cell_type": "markdown",
   "metadata": {},
   "source": [
    "### Importing packages"
   ]
  },
  {
   "cell_type": "code",
   "execution_count": 1,
   "metadata": {},
   "outputs": [],
   "source": [
    "import time\n",
    "import random\n",
    "import numpy as np # type: ignore\n",
    "import pandas as pd # type: ignore\n",
    "import seaborn as sns # type: ignore\n",
    "from datetime import datetime\n",
    "import matplotlib.pyplot as plt # type: ignore\n",
    "from itertools import combinations\n",
    "from IPython.display import clear_output # type: ignore"
   ]
  },
  {
   "cell_type": "markdown",
   "metadata": {},
   "source": [
    "## Functions"
   ]
  },
  {
   "cell_type": "markdown",
   "metadata": {},
   "source": [
    "Function that returns an overview of the **pick_data** based on all columns"
   ]
  },
  {
   "cell_type": "code",
   "execution_count": 2,
   "metadata": {},
   "outputs": [],
   "source": [
    "# function that returns an overview of the pick_data based on all columns\n",
    "def general_overview(pick_data):\n",
    "\n",
    "    #get unique values for each variable\n",
    "    unique_number_of_products = len(set(pick_data.product_id.values))\n",
    "    unique_number_of_categories = len(set(pick_data.category.values))\n",
    "    unique_number_of_source_order_ids = len(set(pick_data.source_order_id.values))\n",
    "    unique_number_of_order_numbers = len(set(pick_data.order_number.values))\n",
    "    unique_number_of_positions_in_order = len(set(pick_data.position_in_order.values))\n",
    "    unique_number_of_quantity_unit = len(set(pick_data.quantity_unit.values))\n",
    "\n",
    "    # print the results for a better understanding\n",
    "    print(\"The length of the data is: \", len(pick_data))\n",
    "    print(\"-----\")\n",
    "    print(\"-----\")\n",
    "    print(\"product_id\")\n",
    "    print(\"The number of unique product_id is: \",  unique_number_of_products)\n",
    "    print(\"-----\")\n",
    "    print(\"category\")\n",
    "    print(\"The number of unique category is: \", unique_number_of_categories)\n",
    "    print(\"-----\")\n",
    "    print(\"source_order_id\")\n",
    "    print(\"The number of unique source_order_id is: \", unique_number_of_source_order_ids)\n",
    "    print(\"-----\")\n",
    "    print(\"order_number\")\n",
    "    print(\"The number of unique order_number is: \", unique_number_of_order_numbers)\n",
    "    print(\"-----\")\n",
    "    print(\"position_in_order\")\n",
    "    print(\"The number of unique position_in_order is: \", unique_number_of_positions_in_order)\n",
    "    print(\"-----\")\n",
    "    print(\"pick_volume\")\n",
    "    print(\"The min value of pick_volume is: \", pick_data.pick_volume.min())\n",
    "    print(\"The max value of pick_volume is: \", pick_data.pick_volume.max())\n",
    "    print(\"-----\")\n",
    "    print(\"quantity_unit\")\n",
    "    print(\"The number of unique quantity_unit is: \", unique_number_of_quantity_unit)\n",
    "    print(\"-----\")\n",
    "    print(\"date_time\")\n",
    "    print(\"The first date_time of the picks_data is: \", pick_data.date_time.min())\n",
    "    print(\"The last date_time of the picks_data is: \", pick_data.date_time.max())"
   ]
  },
  {
   "cell_type": "markdown",
   "metadata": {},
   "source": [
    "Function that checks duplicate rows showing their duplicated partners based on a column selection"
   ]
  },
  {
   "cell_type": "code",
   "execution_count": 3,
   "metadata": {},
   "outputs": [],
   "source": [
    "def check_duplicates_row_columns(pick_data, index_to_check, columns_to_evaluate):\n",
    "\n",
    "    index_row_pick_data = pick_data.loc[index_to_check, columns_to_evaluate]\n",
    "\n",
    "    matching_rows = pick_data[pick_data[columns_to_evaluate].eq(index_row_pick_data).all(axis=1)]\n",
    "    \n",
    "    return(matching_rows)"
   ]
  },
  {
   "cell_type": "markdown",
   "metadata": {},
   "source": [
    "Function that checks if integer list is sequential"
   ]
  },
  {
   "cell_type": "code",
   "execution_count": 4,
   "metadata": {},
   "outputs": [],
   "source": [
    "def is_sequential(int_list):\n",
    "    \n",
    "    # sort the list first (if not already sorted)\n",
    "    sorted_list = sorted(int_list)\n",
    "\n",
    "    # check if each consecutive number differs by 1\n",
    "    for i in range(len(sorted_list) - 1):\n",
    "        if sorted_list[i + 1] != sorted_list[i] + 1:\n",
    "            return False\n",
    "\n",
    "    return True"
   ]
  },
  {
   "cell_type": "markdown",
   "metadata": {},
   "source": [
    "Function that counts the number of times a list is not sequential"
   ]
  },
  {
   "cell_type": "code",
   "execution_count": 5,
   "metadata": {},
   "outputs": [],
   "source": [
    "def count_non_sequential(int_list):\n",
    "    \n",
    "    # sort the list first (if not already sorted)\n",
    "    sorted_list = sorted(int_list)\n",
    "\n",
    "    # Initialize a counter for non-sequential occurrences\n",
    "    non_sequential_count = 0\n",
    "\n",
    "    # check each consecutive number\n",
    "    for i in range(len(sorted_list) - 1):\n",
    "        if sorted_list[i + 1] != sorted_list[i] + 1:\n",
    "            non_sequential_count += 1\n",
    "\n",
    "    return non_sequential_count"
   ]
  },
  {
   "cell_type": "markdown",
   "metadata": {},
   "source": [
    "## Importing data"
   ]
  },
  {
   "cell_type": "markdown",
   "metadata": {},
   "source": [
    "### Importing data"
   ]
  },
  {
   "cell_type": "code",
   "execution_count": 6,
   "metadata": {},
   "outputs": [
    {
     "name": "stderr",
     "output_type": "stream",
     "text": [
      "/var/folders/0m/9hrzmrmx5rvbnxjrsct8cd500000gn/T/ipykernel_14419/3130211619.py:2: DtypeWarning: Columns (0) have mixed types. Specify dtype option on import or set low_memory=False.\n",
      "  pick_data = pd.read_csv(\"pick_data_upload_2.csv\")\n"
     ]
    }
   ],
   "source": [
    "# read cvs pick_data file\n",
    "pick_data = pd.read_csv(\"pick_data_upload_2.csv\")"
   ]
  },
  {
   "cell_type": "markdown",
   "metadata": {},
   "source": [
    "Head of data"
   ]
  },
  {
   "cell_type": "code",
   "execution_count": 7,
   "metadata": {},
   "outputs": [
    {
     "data": {
      "text/html": [
       "<div>\n",
       "<style scoped>\n",
       "    .dataframe tbody tr th:only-of-type {\n",
       "        vertical-align: middle;\n",
       "    }\n",
       "\n",
       "    .dataframe tbody tr th {\n",
       "        vertical-align: top;\n",
       "    }\n",
       "\n",
       "    .dataframe thead th {\n",
       "        text-align: right;\n",
       "    }\n",
       "</style>\n",
       "<table border=\"1\" class=\"dataframe\">\n",
       "  <thead>\n",
       "    <tr style=\"text-align: right;\">\n",
       "      <th></th>\n",
       "      <th>product_id</th>\n",
       "      <th>category</th>\n",
       "      <th>source_order_id</th>\n",
       "      <th>order_number</th>\n",
       "      <th>position_in_order</th>\n",
       "      <th>pick_volume</th>\n",
       "      <th>quantity_unit</th>\n",
       "      <th>date_time</th>\n",
       "      <th>flag_6</th>\n",
       "      <th>flag_7</th>\n",
       "    </tr>\n",
       "  </thead>\n",
       "  <tbody>\n",
       "    <tr>\n",
       "      <th>0</th>\n",
       "      <td>7</td>\n",
       "      <td>AKL</td>\n",
       "      <td>48</td>\n",
       "      <td>20188105006</td>\n",
       "      <td>2</td>\n",
       "      <td>4</td>\n",
       "      <td>St</td>\n",
       "      <td>2018-01-16 03:05:21</td>\n",
       "      <td>0</td>\n",
       "      <td>0</td>\n",
       "    </tr>\n",
       "    <tr>\n",
       "      <th>1</th>\n",
       "      <td>10</td>\n",
       "      <td>HRL</td>\n",
       "      <td>48</td>\n",
       "      <td>20188197426</td>\n",
       "      <td>1</td>\n",
       "      <td>24</td>\n",
       "      <td>St</td>\n",
       "      <td>2018-01-30 10:52:31</td>\n",
       "      <td>0</td>\n",
       "      <td>0</td>\n",
       "    </tr>\n",
       "    <tr>\n",
       "      <th>2</th>\n",
       "      <td>10</td>\n",
       "      <td>HRL</td>\n",
       "      <td>48</td>\n",
       "      <td>20188197426</td>\n",
       "      <td>1</td>\n",
       "      <td>24</td>\n",
       "      <td>St</td>\n",
       "      <td>2018-01-30 10:58:08</td>\n",
       "      <td>0</td>\n",
       "      <td>0</td>\n",
       "    </tr>\n",
       "    <tr>\n",
       "      <th>3</th>\n",
       "      <td>10</td>\n",
       "      <td>HRL</td>\n",
       "      <td>48</td>\n",
       "      <td>20188197426</td>\n",
       "      <td>1</td>\n",
       "      <td>12</td>\n",
       "      <td>St</td>\n",
       "      <td>2018-01-30 12:03:18</td>\n",
       "      <td>0</td>\n",
       "      <td>0</td>\n",
       "    </tr>\n",
       "    <tr>\n",
       "      <th>4</th>\n",
       "      <td>10</td>\n",
       "      <td>HRL</td>\n",
       "      <td>48</td>\n",
       "      <td>20188197426</td>\n",
       "      <td>1</td>\n",
       "      <td>24</td>\n",
       "      <td>St</td>\n",
       "      <td>2018-01-30 12:06:39</td>\n",
       "      <td>0</td>\n",
       "      <td>0</td>\n",
       "    </tr>\n",
       "  </tbody>\n",
       "</table>\n",
       "</div>"
      ],
      "text/plain": [
       "  product_id category  source_order_id  order_number  position_in_order  \\\n",
       "0          7      AKL               48   20188105006                  2   \n",
       "1         10      HRL               48   20188197426                  1   \n",
       "2         10      HRL               48   20188197426                  1   \n",
       "3         10      HRL               48   20188197426                  1   \n",
       "4         10      HRL               48   20188197426                  1   \n",
       "\n",
       "   pick_volume quantity_unit            date_time  flag_6  flag_7  \n",
       "0            4            St  2018-01-16 03:05:21       0       0  \n",
       "1           24            St  2018-01-30 10:52:31       0       0  \n",
       "2           24            St  2018-01-30 10:58:08       0       0  \n",
       "3           12            St  2018-01-30 12:03:18       0       0  \n",
       "4           24            St  2018-01-30 12:06:39       0       0  "
      ]
     },
     "execution_count": 7,
     "metadata": {},
     "output_type": "execute_result"
    }
   ],
   "source": [
    "# print head of data\n",
    "pick_data.head()"
   ]
  },
  {
   "cell_type": "code",
   "execution_count": 8,
   "metadata": {},
   "outputs": [
    {
     "name": "stdout",
     "output_type": "stream",
     "text": [
      "<class 'pandas.core.frame.DataFrame'>\n",
      "RangeIndex: 10118254 entries, 0 to 10118253\n",
      "Data columns (total 10 columns):\n",
      " #   Column             Dtype \n",
      "---  ------             ----- \n",
      " 0   product_id         object\n",
      " 1   category           object\n",
      " 2   source_order_id    int64 \n",
      " 3   order_number       int64 \n",
      " 4   position_in_order  int64 \n",
      " 5   pick_volume        int64 \n",
      " 6   quantity_unit      object\n",
      " 7   date_time          object\n",
      " 8   flag_6             int64 \n",
      " 9   flag_7             int64 \n",
      "dtypes: int64(6), object(4)\n",
      "memory usage: 772.0+ MB\n"
     ]
    }
   ],
   "source": [
    "pick_data.info()"
   ]
  },
  {
   "cell_type": "markdown",
   "metadata": {},
   "source": [
    "## Formating columns"
   ]
  },
  {
   "cell_type": "markdown",
   "metadata": {},
   "source": [
    "### Flag Columns"
   ]
  },
  {
   "cell_type": "markdown",
   "metadata": {},
   "source": [
    "Flag 8 - Outlier column"
   ]
  },
  {
   "cell_type": "code",
   "execution_count": 33,
   "metadata": {},
   "outputs": [],
   "source": [
    "pick_data[\"flag_8\"] = pick_data[\"flag_8\"].astype(int)"
   ]
  },
  {
   "cell_type": "code",
   "execution_count": null,
   "metadata": {},
   "outputs": [],
   "source": [
    "pick_data.head()"
   ]
  },
  {
   "cell_type": "code",
   "execution_count": null,
   "metadata": {},
   "outputs": [],
   "source": [
    "pick_data.info()"
   ]
  },
  {
   "cell_type": "markdown",
   "metadata": {},
   "source": [
    "### Datetime to date format"
   ]
  },
  {
   "cell_type": "code",
   "execution_count": 36,
   "metadata": {},
   "outputs": [],
   "source": [
    "pick_data['date_time'] = pd.to_datetime(pick_data['date_time'])"
   ]
  },
  {
   "cell_type": "code",
   "execution_count": null,
   "metadata": {},
   "outputs": [],
   "source": [
    "pick_data.info()"
   ]
  },
  {
   "cell_type": "markdown",
   "metadata": {},
   "source": [
    "### Order number"
   ]
  },
  {
   "cell_type": "markdown",
   "metadata": {},
   "source": [
    "Add the year to the order number column"
   ]
  },
  {
   "cell_type": "code",
   "execution_count": 41,
   "metadata": {},
   "outputs": [],
   "source": [
    "pick_data[\"order_number\"] = pick_data['date_time'].dt.year.astype(str) + pick_data['order_number'].astype(str)"
   ]
  },
  {
   "cell_type": "code",
   "execution_count": null,
   "metadata": {},
   "outputs": [],
   "source": [
    "pick_data.head()"
   ]
  },
  {
   "cell_type": "markdown",
   "metadata": {},
   "source": [
    "## Filtering Dataframe"
   ]
  },
  {
   "cell_type": "markdown",
   "metadata": {},
   "source": [
    "### Filtering years"
   ]
  },
  {
   "cell_type": "markdown",
   "metadata": {},
   "source": [
    "We need just years >= 2018"
   ]
  },
  {
   "cell_type": "code",
   "execution_count": 43,
   "metadata": {},
   "outputs": [],
   "source": [
    "pick_data = pick_data[pick_data[\"date_time\"] >= \"2018-01-01\"]"
   ]
  },
  {
   "cell_type": "code",
   "execution_count": null,
   "metadata": {},
   "outputs": [],
   "source": [
    "pick_data.info()"
   ]
  },
  {
   "cell_type": "markdown",
   "metadata": {},
   "source": [
    "### Flag filtering"
   ]
  },
  {
   "cell_type": "markdown",
   "metadata": {},
   "source": [
    "#### Flag (2): one single order_number has different source_order_id values"
   ]
  },
  {
   "cell_type": "code",
   "execution_count": null,
   "metadata": {},
   "outputs": [],
   "source": [
    "len(pick_data[pick_data[\"flag_2\"]==1])"
   ]
  },
  {
   "cell_type": "code",
   "execution_count": 45,
   "metadata": {},
   "outputs": [],
   "source": [
    "pick_data = pick_data[pick_data[\"flag_2\"]==0]"
   ]
  },
  {
   "cell_type": "code",
   "execution_count": null,
   "metadata": {},
   "outputs": [],
   "source": [
    "pick_data.info()"
   ]
  },
  {
   "cell_type": "markdown",
   "metadata": {},
   "source": [
    "> No picks dropped"
   ]
  },
  {
   "cell_type": "markdown",
   "metadata": {},
   "source": [
    "#### Flag (3): Some product_id values are measured in different quantity_unit values"
   ]
  },
  {
   "cell_type": "code",
   "execution_count": null,
   "metadata": {},
   "outputs": [],
   "source": [
    "len(pick_data[pick_data[\"flag_3\"]==1])"
   ]
  },
  {
   "cell_type": "code",
   "execution_count": 49,
   "metadata": {},
   "outputs": [],
   "source": [
    "pick_data = pick_data[pick_data[\"flag_3\"]==0]"
   ]
  },
  {
   "cell_type": "code",
   "execution_count": null,
   "metadata": {},
   "outputs": [],
   "source": [
    "pick_data.info()"
   ]
  },
  {
   "cell_type": "markdown",
   "metadata": {},
   "source": [
    "> 2.685 picks dropped"
   ]
  },
  {
   "cell_type": "markdown",
   "metadata": {},
   "source": [
    "#### Flag (4): Duplicates taking into account all columns​ (perfect duplicates)"
   ]
  },
  {
   "cell_type": "code",
   "execution_count": null,
   "metadata": {},
   "outputs": [],
   "source": [
    "len(pick_data[pick_data[\"flag_4\"]==1])"
   ]
  },
  {
   "cell_type": "code",
   "execution_count": 53,
   "metadata": {},
   "outputs": [],
   "source": [
    "pick_data = pick_data[pick_data[\"flag_4\"]==0]"
   ]
  },
  {
   "cell_type": "code",
   "execution_count": null,
   "metadata": {},
   "outputs": [],
   "source": [
    "pick_data.info()"
   ]
  },
  {
   "cell_type": "markdown",
   "metadata": {},
   "source": [
    "> 3.131 picks dropped"
   ]
  },
  {
   "cell_type": "markdown",
   "metadata": {},
   "source": [
    "#### Flag (8): Outliers in pick_volume"
   ]
  },
  {
   "cell_type": "code",
   "execution_count": null,
   "metadata": {},
   "outputs": [],
   "source": [
    "len(pick_data[pick_data[\"flag_8\"]==1])"
   ]
  },
  {
   "cell_type": "code",
   "execution_count": 56,
   "metadata": {},
   "outputs": [],
   "source": [
    "pick_data = pick_data[pick_data[\"flag_8\"]==0]"
   ]
  },
  {
   "cell_type": "code",
   "execution_count": null,
   "metadata": {},
   "outputs": [],
   "source": [
    "pick_data.info()"
   ]
  },
  {
   "cell_type": "markdown",
   "metadata": {},
   "source": [
    "> 194.419 picks dropped"
   ]
  },
  {
   "cell_type": "markdown",
   "metadata": {},
   "source": [
    "### Format Dataframe"
   ]
  },
  {
   "cell_type": "markdown",
   "metadata": {},
   "source": [
    "#### Reset index rows"
   ]
  },
  {
   "cell_type": "code",
   "execution_count": 58,
   "metadata": {},
   "outputs": [],
   "source": [
    "pick_data.reset_index(drop=True, inplace=True)"
   ]
  },
  {
   "cell_type": "markdown",
   "metadata": {},
   "source": [
    "#### Drop columns"
   ]
  },
  {
   "cell_type": "code",
   "execution_count": 59,
   "metadata": {},
   "outputs": [],
   "source": [
    "pick_data = pick_data.drop(columns=['flag_1',\"flag_2\", 'flag_3',\"flag_4\", 'flag_5',\"flag_8\"])"
   ]
  },
  {
   "cell_type": "code",
   "execution_count": null,
   "metadata": {},
   "outputs": [],
   "source": [
    "pick_data.info()"
   ]
  },
  {
   "cell_type": "markdown",
   "metadata": {},
   "source": [
    "## Upload"
   ]
  },
  {
   "cell_type": "markdown",
   "metadata": {},
   "source": [
    "Write csv file"
   ]
  },
  {
   "cell_type": "code",
   "execution_count": 61,
   "metadata": {},
   "outputs": [],
   "source": [
    "pick_data.to_csv(\"pick_data_upload_2.csv\", index=False)"
   ]
  },
  {
   "cell_type": "markdown",
   "metadata": {},
   "source": [
    "Check that csv file is well written"
   ]
  },
  {
   "cell_type": "code",
   "execution_count": null,
   "metadata": {},
   "outputs": [],
   "source": [
    "pick_dataest = pd.read_csv(\"pick_data_upload_2.csv\")\n",
    "pick_dataest.head()"
   ]
  }
 ],
 "metadata": {
  "kernelspec": {
   "display_name": "Python 3",
   "language": "python",
   "name": "python3"
  },
  "language_info": {
   "codemirror_mode": {
    "name": "ipython",
    "version": 3
   },
   "file_extension": ".py",
   "mimetype": "text/x-python",
   "name": "python",
   "nbconvert_exporter": "python",
   "pygments_lexer": "ipython3",
   "version": "3.12.2"
  }
 },
 "nbformat": 4,
 "nbformat_minor": 2
}
