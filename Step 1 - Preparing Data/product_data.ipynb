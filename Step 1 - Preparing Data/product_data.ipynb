{
 "cells": [
  {
   "cell_type": "markdown",
   "metadata": {},
   "source": [
    "# **DATA ANALYSIS - \"PRODUCT_DATA\"**"
   ]
  },
  {
   "cell_type": "markdown",
   "metadata": {},
   "source": [
    "#### Importing packages"
   ]
  },
  {
   "cell_type": "code",
   "execution_count": 1,
   "metadata": {},
   "outputs": [],
   "source": [
    "\n",
    "import random\n",
    "import numpy as np\n",
    "import pandas as pd\n",
    "import matplotlib.pyplot as plt\n",
    "from IPython.display import clear_output"
   ]
  },
  {
   "cell_type": "markdown",
   "metadata": {},
   "source": [
    "#### Importing chardert to read CSV with encoding -8"
   ]
  },
  {
   "cell_type": "code",
   "execution_count": 4,
   "metadata": {},
   "outputs": [
    {
     "name": "stdout",
     "output_type": "stream",
     "text": [
      "Collecting chardet\n",
      "  Downloading chardet-5.2.0-py3-none-any.whl.metadata (3.4 kB)\n",
      "Downloading chardet-5.2.0-py3-none-any.whl (199 kB)\n",
      "Installing collected packages: chardet\n",
      "Successfully installed chardet-5.2.0\n",
      "Note: you may need to restart the kernel to use updated packages.\n"
     ]
    }
   ],
   "source": [
    "pip install chardet"
   ]
  },
  {
   "cell_type": "code",
   "execution_count": 3,
   "metadata": {},
   "outputs": [
    {
     "ename": "ModuleNotFoundError",
     "evalue": "No module named 'chardet'",
     "output_type": "error",
     "traceback": [
      "\u001b[0;31m---------------------------------------------------------------------------\u001b[0m",
      "\u001b[0;31mModuleNotFoundError\u001b[0m                       Traceback (most recent call last)",
      "Cell \u001b[0;32mIn[3], line 1\u001b[0m\n\u001b[0;32m----> 1\u001b[0m \u001b[38;5;28;01mimport\u001b[39;00m \u001b[38;5;21;01mchardet\u001b[39;00m\n\u001b[1;32m      2\u001b[0m \u001b[38;5;66;03m# Detect the encoding\u001b[39;00m\n\u001b[1;32m      3\u001b[0m \u001b[38;5;28;01mwith\u001b[39;00m \u001b[38;5;28mopen\u001b[39m(\u001b[38;5;124m'\u001b[39m\u001b[38;5;124m/Users/aleksandarkling/Downloads/Raw Data/Python/product_data.csv\u001b[39m\u001b[38;5;124m'\u001b[39m, \u001b[38;5;124m'\u001b[39m\u001b[38;5;124mrb\u001b[39m\u001b[38;5;124m'\u001b[39m) \u001b[38;5;28;01mas\u001b[39;00m rawdata:\n",
      "\u001b[0;31mModuleNotFoundError\u001b[0m: No module named 'chardet'"
     ]
    }
   ],
   "source": [
    "import chardet\n",
    "# Detect the encoding\n",
    "with open('/Users/aleksandarkling/Downloads/Raw Data/Python/product_data.csv', 'rb') as rawdata:\n",
    "    result = chardet.detect(rawdata.read(10000))  # Read the first 10,000 bytes\n",
    "    encoding = result['encoding']"
   ]
  },
  {
   "cell_type": "markdown",
   "metadata": {},
   "source": [
    "#### Importing product_data.csv file"
   ]
  },
  {
   "cell_type": "code",
   "execution_count": 9,
   "metadata": {},
   "outputs": [],
   "source": [
    "# Load the file using the detected encoding\n",
    "# df = pd.read_csv(r'/Users/aleksandarkling/Downloads/Raw Data/Python/product_data.csv',encoding=encoding)\n",
    "df = pd.read_csv(r'/Users/ANDRES/Documents/GitHub/OBETAWarehousingAnalyticsProject/Data/002 product_data.csv', encoding=\"latin\", header=None)"
   ]
  },
  {
   "cell_type": "code",
   "execution_count": 12,
   "metadata": {},
   "outputs": [
    {
     "data": {
      "text/html": [
       "<div>\n",
       "<style scoped>\n",
       "    .dataframe tbody tr th:only-of-type {\n",
       "        vertical-align: middle;\n",
       "    }\n",
       "\n",
       "    .dataframe tbody tr th {\n",
       "        vertical-align: top;\n",
       "    }\n",
       "\n",
       "    .dataframe thead th {\n",
       "        text-align: right;\n",
       "    }\n",
       "</style>\n",
       "<table border=\"1\" class=\"dataframe\">\n",
       "  <thead>\n",
       "    <tr style=\"text-align: right;\">\n",
       "      <th></th>\n",
       "      <th>product_id</th>\n",
       "      <th>product_desc</th>\n",
       "      <th>product_group</th>\n",
       "    </tr>\n",
       "  </thead>\n",
       "  <tbody>\n",
       "    <tr>\n",
       "      <th>0</th>\n",
       "      <td>000052</td>\n",
       "      <td>PUNCH II MSW1 1500mm PUN</td>\n",
       "      <td>35_Leuchten</td>\n",
       "    </tr>\n",
       "    <tr>\n",
       "      <th>1</th>\n",
       "      <td>1036628</td>\n",
       "      <td>H05VV-F2X1 5WS 50M</td>\n",
       "      <td>16_Sonderverkäufe</td>\n",
       "    </tr>\n",
       "    <tr>\n",
       "      <th>2</th>\n",
       "      <td>1052053</td>\n",
       "      <td>H07RN-F3G1 100M</td>\n",
       "      <td>16_Sonderverkäufe</td>\n",
       "    </tr>\n",
       "    <tr>\n",
       "      <th>3</th>\n",
       "      <td>110109</td>\n",
       "      <td>SIEM DELTA Doppelta 2S 5TD2111</td>\n",
       "      <td>32_Schalter_Steckvorrichtg</td>\n",
       "    </tr>\n",
       "    <tr>\n",
       "      <th>4</th>\n",
       "      <td>110125</td>\n",
       "      <td>SIEM PLUS Wip Univ ews 5TG7581</td>\n",
       "      <td>32_Schalter_Steckvorrichtg</td>\n",
       "    </tr>\n",
       "  </tbody>\n",
       "</table>\n",
       "</div>"
      ],
      "text/plain": [
       "  product_id                    product_desc               product_group\n",
       "0     000052        PUNCH II MSW1 1500mm PUN                 35_Leuchten\n",
       "1    1036628              H05VV-F2X1 5WS 50M           16_Sonderverkäufe\n",
       "2    1052053                 H07RN-F3G1 100M           16_Sonderverkäufe\n",
       "3     110109  SIEM DELTA Doppelta 2S 5TD2111  32_Schalter_Steckvorrichtg\n",
       "4     110125  SIEM PLUS Wip Univ ews 5TG7581  32_Schalter_Steckvorrichtg"
      ]
     },
     "execution_count": 12,
     "metadata": {},
     "output_type": "execute_result"
    }
   ],
   "source": [
    "df.head()"
   ]
  },
  {
   "cell_type": "code",
   "execution_count": 13,
   "metadata": {},
   "outputs": [
    {
     "data": {
      "text/html": [
       "<div>\n",
       "<style scoped>\n",
       "    .dataframe tbody tr th:only-of-type {\n",
       "        vertical-align: middle;\n",
       "    }\n",
       "\n",
       "    .dataframe tbody tr th {\n",
       "        vertical-align: top;\n",
       "    }\n",
       "\n",
       "    .dataframe thead th {\n",
       "        text-align: right;\n",
       "    }\n",
       "</style>\n",
       "<table border=\"1\" class=\"dataframe\">\n",
       "  <thead>\n",
       "    <tr style=\"text-align: right;\">\n",
       "      <th></th>\n",
       "      <th>product_id</th>\n",
       "      <th>product_desc</th>\n",
       "      <th>product_group</th>\n",
       "    </tr>\n",
       "  </thead>\n",
       "  <tbody>\n",
       "    <tr>\n",
       "      <th>9328</th>\n",
       "      <td>256092</td>\n",
       "      <td>NaN</td>\n",
       "      <td>31_Install.-Befestigungs-Mat.</td>\n",
       "    </tr>\n",
       "    <tr>\n",
       "      <th>13246</th>\n",
       "      <td>363612</td>\n",
       "      <td>NaN</td>\n",
       "      <td>37_Leuchtmittel</td>\n",
       "    </tr>\n",
       "    <tr>\n",
       "      <th>14712</th>\n",
       "      <td>1849999</td>\n",
       "      <td>NaN</td>\n",
       "      <td>42_Netzwerktechnik</td>\n",
       "    </tr>\n",
       "    <tr>\n",
       "      <th>16676</th>\n",
       "      <td>470240</td>\n",
       "      <td>NaN</td>\n",
       "      <td>18_Haustechnik_Hausgeräte</td>\n",
       "    </tr>\n",
       "    <tr>\n",
       "      <th>19138</th>\n",
       "      <td>470239</td>\n",
       "      <td>NaN</td>\n",
       "      <td>18_Haustechnik_Hausgeräte</td>\n",
       "    </tr>\n",
       "    <tr>\n",
       "      <th>...</th>\n",
       "      <td>...</td>\n",
       "      <td>...</td>\n",
       "      <td>...</td>\n",
       "    </tr>\n",
       "    <tr>\n",
       "      <th>1999494</th>\n",
       "      <td>Z02686</td>\n",
       "      <td>NaN</td>\n",
       "      <td>42_Netzwerktechnik</td>\n",
       "    </tr>\n",
       "    <tr>\n",
       "      <th>2001975</th>\n",
       "      <td>Z02687</td>\n",
       "      <td>NaN</td>\n",
       "      <td>42_Netzwerktechnik</td>\n",
       "    </tr>\n",
       "    <tr>\n",
       "      <th>2014789</th>\n",
       "      <td>Z02685</td>\n",
       "      <td>NaN</td>\n",
       "      <td>42_Netzwerktechnik</td>\n",
       "    </tr>\n",
       "    <tr>\n",
       "      <th>2021922</th>\n",
       "      <td>Z02688</td>\n",
       "      <td>NaN</td>\n",
       "      <td>42_Netzwerktechnik</td>\n",
       "    </tr>\n",
       "    <tr>\n",
       "      <th>2131610</th>\n",
       "      <td>X26375</td>\n",
       "      <td>NaN</td>\n",
       "      <td>40_Sprechen_Schwachstrom</td>\n",
       "    </tr>\n",
       "  </tbody>\n",
       "</table>\n",
       "<p>6023 rows × 3 columns</p>\n",
       "</div>"
      ],
      "text/plain": [
       "        product_id product_desc                  product_group\n",
       "9328        256092          NaN  31_Install.-Befestigungs-Mat.\n",
       "13246       363612          NaN                37_Leuchtmittel\n",
       "14712      1849999          NaN             42_Netzwerktechnik\n",
       "16676       470240          NaN      18_Haustechnik_Hausgeräte\n",
       "19138       470239          NaN      18_Haustechnik_Hausgeräte\n",
       "...            ...          ...                            ...\n",
       "1999494     Z02686          NaN             42_Netzwerktechnik\n",
       "2001975     Z02687          NaN             42_Netzwerktechnik\n",
       "2014789     Z02685          NaN             42_Netzwerktechnik\n",
       "2021922     Z02688          NaN             42_Netzwerktechnik\n",
       "2131610     X26375          NaN       40_Sprechen_Schwachstrom\n",
       "\n",
       "[6023 rows x 3 columns]"
      ]
     },
     "execution_count": 13,
     "metadata": {},
     "output_type": "execute_result"
    }
   ],
   "source": [
    "df[df.product_desc.isna()]"
   ]
  },
  {
   "cell_type": "code",
   "execution_count": 15,
   "metadata": {},
   "outputs": [
    {
     "data": {
      "text/html": [
       "<div>\n",
       "<style scoped>\n",
       "    .dataframe tbody tr th:only-of-type {\n",
       "        vertical-align: middle;\n",
       "    }\n",
       "\n",
       "    .dataframe tbody tr th {\n",
       "        vertical-align: top;\n",
       "    }\n",
       "\n",
       "    .dataframe thead th {\n",
       "        text-align: right;\n",
       "    }\n",
       "</style>\n",
       "<table border=\"1\" class=\"dataframe\">\n",
       "  <thead>\n",
       "    <tr style=\"text-align: right;\">\n",
       "      <th></th>\n",
       "      <th>product_id</th>\n",
       "      <th>product_desc</th>\n",
       "      <th>product_group</th>\n",
       "    </tr>\n",
       "  </thead>\n",
       "  <tbody>\n",
       "  </tbody>\n",
       "</table>\n",
       "</div>"
      ],
      "text/plain": [
       "Empty DataFrame\n",
       "Columns: [product_id, product_desc, product_group]\n",
       "Index: []"
      ]
     },
     "execution_count": 15,
     "metadata": {},
     "output_type": "execute_result"
    }
   ],
   "source": [
    "duplicates_pick_date = df.duplicated(subset = list(df.columns))\n",
    "df[duplicates_pick_date].head()"
   ]
  },
  {
   "cell_type": "code",
   "execution_count": 18,
   "metadata": {},
   "outputs": [],
   "source": [
    "# check the duplicated cases for a specific row giving a dataframe and the columns to evaluate\n",
    "def check_duplicates_row_columns(pick_data, index_to_check, columns_to_evaluate):\n",
    "\n",
    "    index_row_pick_data = pick_data.loc[index_to_check, columns_to_evaluate]\n",
    "\n",
    "    matching_rows = pick_data[pick_data[columns_to_evaluate].eq(index_row_pick_data).all(axis=1)]\n",
    "    \n",
    "    return(matching_rows)"
   ]
  },
  {
   "cell_type": "code",
   "execution_count": 23,
   "metadata": {},
   "outputs": [
    {
     "data": {
      "text/html": [
       "<div>\n",
       "<style scoped>\n",
       "    .dataframe tbody tr th:only-of-type {\n",
       "        vertical-align: middle;\n",
       "    }\n",
       "\n",
       "    .dataframe tbody tr th {\n",
       "        vertical-align: top;\n",
       "    }\n",
       "\n",
       "    .dataframe thead th {\n",
       "        text-align: right;\n",
       "    }\n",
       "</style>\n",
       "<table border=\"1\" class=\"dataframe\">\n",
       "  <thead>\n",
       "    <tr style=\"text-align: right;\">\n",
       "      <th></th>\n",
       "      <th>product_id</th>\n",
       "      <th>product_desc</th>\n",
       "      <th>product_group</th>\n",
       "    </tr>\n",
       "  </thead>\n",
       "  <tbody>\n",
       "  </tbody>\n",
       "</table>\n",
       "</div>"
      ],
      "text/plain": [
       "Empty DataFrame\n",
       "Columns: [product_id, product_desc, product_group]\n",
       "Index: []"
      ]
     },
     "execution_count": 23,
     "metadata": {},
     "output_type": "execute_result"
    }
   ],
   "source": [
    "duplicates_pick_date = df.duplicated(subset = [\"product_id\"])\n",
    "df[duplicates_pick_date].head()"
   ]
  },
  {
   "cell_type": "code",
   "execution_count": null,
   "metadata": {},
   "outputs": [
    {
     "data": {
      "text/html": [
       "<div>\n",
       "<style scoped>\n",
       "    .dataframe tbody tr th:only-of-type {\n",
       "        vertical-align: middle;\n",
       "    }\n",
       "\n",
       "    .dataframe tbody tr th {\n",
       "        vertical-align: top;\n",
       "    }\n",
       "\n",
       "    .dataframe thead th {\n",
       "        text-align: right;\n",
       "    }\n",
       "</style>\n",
       "<table border=\"1\" class=\"dataframe\">\n",
       "  <thead>\n",
       "    <tr style=\"text-align: right;\">\n",
       "      <th></th>\n",
       "      <th>product_id</th>\n",
       "      <th>product_desc</th>\n",
       "      <th>product_group</th>\n",
       "    </tr>\n",
       "  </thead>\n",
       "  <tbody>\n",
       "    <tr>\n",
       "      <th>86</th>\n",
       "      <td>000395</td>\n",
       "      <td>.Mondia G2 WD2 LED1600-840 E</td>\n",
       "      <td>36_Entladungs-Leuchten</td>\n",
       "    </tr>\n",
       "    <tr>\n",
       "      <th>217</th>\n",
       "      <td>000420</td>\n",
       "      <td>.LED Einbau Downlight HZ Rund</td>\n",
       "      <td>35_Leuchten</td>\n",
       "    </tr>\n",
       "    <tr>\n",
       "      <th>374</th>\n",
       "      <td>000034</td>\n",
       "      <td>ArimoS M84 CDP LED4000-840</td>\n",
       "      <td>36_Entladungs-Leuchten</td>\n",
       "    </tr>\n",
       "    <tr>\n",
       "      <th>379</th>\n",
       "      <td>000248</td>\n",
       "      <td>.TRILUX Siella 31W/840 3400lm</td>\n",
       "      <td>36_Entladungs-Leuchten</td>\n",
       "    </tr>\n",
       "    <tr>\n",
       "      <th>443</th>\n",
       "      <td>000437</td>\n",
       "      <td>.LED Einbau Downlight Slim Eco</td>\n",
       "      <td>35_Leuchten</td>\n",
       "    </tr>\n",
       "  </tbody>\n",
       "</table>\n",
       "</div>"
      ],
      "text/plain": [
       "    product_id                    product_desc           product_group\n",
       "86      000395    .Mondia G2 WD2 LED1600-840 E  36_Entladungs-Leuchten\n",
       "217     000420   .LED Einbau Downlight HZ Rund             35_Leuchten\n",
       "374     000034      ArimoS M84 CDP LED4000-840  36_Entladungs-Leuchten\n",
       "379     000248   .TRILUX Siella 31W/840 3400lm  36_Entladungs-Leuchten\n",
       "443     000437  .LED Einbau Downlight Slim Eco             35_Leuchten"
      ]
     },
     "metadata": {},
     "output_type": "display_data"
    }
   ],
   "source": [
    "duplicates_pick_date = df.duplicated(subset = [\"product_desc\"])\n",
    "df[duplicates_pick_date].head()"
   ]
  },
  {
   "cell_type": "code",
   "execution_count": 22,
   "metadata": {},
   "outputs": [
    {
     "data": {
      "text/html": [
       "<div>\n",
       "<style scoped>\n",
       "    .dataframe tbody tr th:only-of-type {\n",
       "        vertical-align: middle;\n",
       "    }\n",
       "\n",
       "    .dataframe tbody tr th {\n",
       "        vertical-align: top;\n",
       "    }\n",
       "\n",
       "    .dataframe thead th {\n",
       "        text-align: right;\n",
       "    }\n",
       "</style>\n",
       "<table border=\"1\" class=\"dataframe\">\n",
       "  <thead>\n",
       "    <tr style=\"text-align: right;\">\n",
       "      <th></th>\n",
       "      <th>product_id</th>\n",
       "      <th>product_desc</th>\n",
       "      <th>product_group</th>\n",
       "    </tr>\n",
       "  </thead>\n",
       "  <tbody>\n",
       "    <tr>\n",
       "      <th>325</th>\n",
       "      <td>000038</td>\n",
       "      <td>ArimoS M84 CDP LED4000-840</td>\n",
       "      <td>36_Entladungs-Leuchten</td>\n",
       "    </tr>\n",
       "    <tr>\n",
       "      <th>374</th>\n",
       "      <td>000034</td>\n",
       "      <td>ArimoS M84 CDP LED4000-840</td>\n",
       "      <td>36_Entladungs-Leuchten</td>\n",
       "    </tr>\n",
       "    <tr>\n",
       "      <th>1610883</th>\n",
       "      <td>U32594</td>\n",
       "      <td>ArimoS M84 CDP LED4000-840</td>\n",
       "      <td>36_Entladungs-Leuchten</td>\n",
       "    </tr>\n",
       "    <tr>\n",
       "      <th>1630151</th>\n",
       "      <td>U32595</td>\n",
       "      <td>ArimoS M84 CDP LED4000-840</td>\n",
       "      <td>36_Entladungs-Leuchten</td>\n",
       "    </tr>\n",
       "    <tr>\n",
       "      <th>1895133</th>\n",
       "      <td>X01030</td>\n",
       "      <td>ArimoS M84 CDP LED4000-840</td>\n",
       "      <td>36_Entladungs-Leuchten</td>\n",
       "    </tr>\n",
       "    <tr>\n",
       "      <th>1902450</th>\n",
       "      <td>X01029</td>\n",
       "      <td>ArimoS M84 CDP LED4000-840</td>\n",
       "      <td>36_Entladungs-Leuchten</td>\n",
       "    </tr>\n",
       "  </tbody>\n",
       "</table>\n",
       "</div>"
      ],
      "text/plain": [
       "        product_id                product_desc           product_group\n",
       "325         000038  ArimoS M84 CDP LED4000-840  36_Entladungs-Leuchten\n",
       "374         000034  ArimoS M84 CDP LED4000-840  36_Entladungs-Leuchten\n",
       "1610883     U32594  ArimoS M84 CDP LED4000-840  36_Entladungs-Leuchten\n",
       "1630151     U32595  ArimoS M84 CDP LED4000-840  36_Entladungs-Leuchten\n",
       "1895133     X01030  ArimoS M84 CDP LED4000-840  36_Entladungs-Leuchten\n",
       "1902450     X01029  ArimoS M84 CDP LED4000-840  36_Entladungs-Leuchten"
      ]
     },
     "execution_count": 22,
     "metadata": {},
     "output_type": "execute_result"
    }
   ],
   "source": [
    "check_duplicates_row_columns(df, 374, [\"product_desc\"])"
   ]
  },
  {
   "cell_type": "code",
   "execution_count": 81,
   "metadata": {},
   "outputs": [],
   "source": [
    "##product= pd.read_csv(\"product_name.csv\",header=None,encoding='latin-1')"
   ]
  },
  {
   "cell_type": "markdown",
   "metadata": {},
   "source": [
    "#### Adding column names"
   ]
  },
  {
   "cell_type": "code",
   "execution_count": 11,
   "metadata": {},
   "outputs": [],
   "source": [
    "df.columns=[\"product_id\",\"product_desc\",\"product_group\"]"
   ]
  },
  {
   "cell_type": "markdown",
   "metadata": {},
   "source": [
    "#### Using describe function to get top-line numerical data for each column"
   ]
  },
  {
   "cell_type": "code",
   "execution_count": 11,
   "metadata": {},
   "outputs": [
    {
     "data": {
      "text/html": [
       "<div>\n",
       "<style scoped>\n",
       "    .dataframe tbody tr th:only-of-type {\n",
       "        vertical-align: middle;\n",
       "    }\n",
       "\n",
       "    .dataframe tbody tr th {\n",
       "        vertical-align: top;\n",
       "    }\n",
       "\n",
       "    .dataframe thead th {\n",
       "        text-align: right;\n",
       "    }\n",
       "</style>\n",
       "<table border=\"1\" class=\"dataframe\">\n",
       "  <thead>\n",
       "    <tr style=\"text-align: right;\">\n",
       "      <th></th>\n",
       "      <th>product_id</th>\n",
       "      <th>product_desc</th>\n",
       "      <th>product_group</th>\n",
       "    </tr>\n",
       "  </thead>\n",
       "  <tbody>\n",
       "    <tr>\n",
       "      <th>count</th>\n",
       "      <td>2199592</td>\n",
       "      <td>2193569</td>\n",
       "      <td>2199592</td>\n",
       "    </tr>\n",
       "    <tr>\n",
       "      <th>unique</th>\n",
       "      <td>2199592</td>\n",
       "      <td>1422887</td>\n",
       "      <td>18</td>\n",
       "    </tr>\n",
       "    <tr>\n",
       "      <th>top</th>\n",
       "      <td>Z52127</td>\n",
       "      <td>Klemmenmarkierung</td>\n",
       "      <td>33_Schaltgeräte</td>\n",
       "    </tr>\n",
       "    <tr>\n",
       "      <th>freq</th>\n",
       "      <td>1</td>\n",
       "      <td>11251</td>\n",
       "      <td>557163</td>\n",
       "    </tr>\n",
       "  </tbody>\n",
       "</table>\n",
       "</div>"
      ],
      "text/plain": [
       "       product_id       product_desc    product_group\n",
       "count     2199592            2193569          2199592\n",
       "unique    2199592            1422887               18\n",
       "top        Z52127  Klemmenmarkierung  33_Schaltgeräte\n",
       "freq            1              11251           557163"
      ]
     },
     "execution_count": 11,
     "metadata": {},
     "output_type": "execute_result"
    }
   ],
   "source": [
    "df.describe()"
   ]
  },
  {
   "cell_type": "markdown",
   "metadata": {},
   "source": [
    "#### d.type function to get data type of each column (object)"
   ]
  },
  {
   "cell_type": "code",
   "execution_count": 23,
   "metadata": {},
   "outputs": [
    {
     "data": {
      "text/plain": [
       "product_id                   object\n",
       "product_desc                 object\n",
       "product_group                object\n",
       "product_group_number         object\n",
       "product_group_description    object\n",
       "dtype: object"
      ]
     },
     "execution_count": 23,
     "metadata": {},
     "output_type": "execute_result"
    }
   ],
   "source": [
    "df.dtypes"
   ]
  },
  {
   "cell_type": "markdown",
   "metadata": {},
   "source": [
    "#### Detecting missing values in each column. There are 6,023 in the \"product_desc\" column, none in others. "
   ]
  },
  {
   "cell_type": "code",
   "execution_count": 29,
   "metadata": {},
   "outputs": [
    {
     "data": {
      "text/plain": [
       "product_id                      0\n",
       "product_desc                 6023\n",
       "product_group                   0\n",
       "product_group_number            0\n",
       "product_group_description       0\n",
       "dtype: int64"
      ]
     },
     "execution_count": 29,
     "metadata": {},
     "output_type": "execute_result"
    }
   ],
   "source": [
    "df.isna().sum()"
   ]
  },
  {
   "cell_type": "markdown",
   "metadata": {},
   "source": [
    "#### Drop missing values. "
   ]
  },
  {
   "cell_type": "code",
   "execution_count": 30,
   "metadata": {},
   "outputs": [],
   "source": [
    "df=df.dropna(subset=['product_desc'],axis=0)"
   ]
  },
  {
   "cell_type": "markdown",
   "metadata": {},
   "source": [
    "#### Re-check for null values. None found. "
   ]
  },
  {
   "cell_type": "code",
   "execution_count": 32,
   "metadata": {},
   "outputs": [
    {
     "data": {
      "text/plain": [
       "product_id                   0\n",
       "product_desc                 0\n",
       "product_group                0\n",
       "product_group_number         0\n",
       "product_group_description    0\n",
       "dtype: int64"
      ]
     },
     "execution_count": 32,
     "metadata": {},
     "output_type": "execute_result"
    }
   ],
   "source": [
    "df.isna().sum()"
   ]
  },
  {
   "cell_type": "markdown",
   "metadata": {},
   "source": [
    "#### Using groupby function to analyze how many values there are in the data per product_group"
   ]
  },
  {
   "cell_type": "code",
   "execution_count": 12,
   "metadata": {},
   "outputs": [
    {
     "data": {
      "text/html": [
       "<div>\n",
       "<style scoped>\n",
       "    .dataframe tbody tr th:only-of-type {\n",
       "        vertical-align: middle;\n",
       "    }\n",
       "\n",
       "    .dataframe tbody tr th {\n",
       "        vertical-align: top;\n",
       "    }\n",
       "\n",
       "    .dataframe thead th {\n",
       "        text-align: right;\n",
       "    }\n",
       "</style>\n",
       "<table border=\"1\" class=\"dataframe\">\n",
       "  <thead>\n",
       "    <tr style=\"text-align: right;\">\n",
       "      <th></th>\n",
       "      <th>product_id</th>\n",
       "      <th>product_desc</th>\n",
       "    </tr>\n",
       "    <tr>\n",
       "      <th>product_group</th>\n",
       "      <th></th>\n",
       "      <th></th>\n",
       "    </tr>\n",
       "  </thead>\n",
       "  <tbody>\n",
       "    <tr>\n",
       "      <th>16_Sonderverkäufe</th>\n",
       "      <td>5772</td>\n",
       "      <td>5770</td>\n",
       "    </tr>\n",
       "    <tr>\n",
       "      <th>18_Haustechnik_Hausgeräte</th>\n",
       "      <td>38959</td>\n",
       "      <td>38955</td>\n",
       "    </tr>\n",
       "    <tr>\n",
       "      <th>19_Werkzeug</th>\n",
       "      <td>79219</td>\n",
       "      <td>79210</td>\n",
       "    </tr>\n",
       "    <tr>\n",
       "      <th>2000_Alka_Bürobedarf</th>\n",
       "      <td>78177</td>\n",
       "      <td>78177</td>\n",
       "    </tr>\n",
       "    <tr>\n",
       "      <th>20_C-Artikel</th>\n",
       "      <td>279</td>\n",
       "      <td>279</td>\n",
       "    </tr>\n",
       "    <tr>\n",
       "      <th>31_Install.-Befestigungs-Mat.</th>\n",
       "      <td>337184</td>\n",
       "      <td>334304</td>\n",
       "    </tr>\n",
       "    <tr>\n",
       "      <th>32_Schalter_Steckvorrichtg</th>\n",
       "      <td>105507</td>\n",
       "      <td>105501</td>\n",
       "    </tr>\n",
       "    <tr>\n",
       "      <th>33_Schaltgeräte</th>\n",
       "      <td>557163</td>\n",
       "      <td>555926</td>\n",
       "    </tr>\n",
       "    <tr>\n",
       "      <th>34_Verteiler_Schränke</th>\n",
       "      <td>189348</td>\n",
       "      <td>189307</td>\n",
       "    </tr>\n",
       "    <tr>\n",
       "      <th>35_Leuchten</th>\n",
       "      <td>446853</td>\n",
       "      <td>446777</td>\n",
       "    </tr>\n",
       "    <tr>\n",
       "      <th>36_Entladungs-Leuchten</th>\n",
       "      <td>133575</td>\n",
       "      <td>133073</td>\n",
       "    </tr>\n",
       "    <tr>\n",
       "      <th>37_Leuchtmittel</th>\n",
       "      <td>87577</td>\n",
       "      <td>87568</td>\n",
       "    </tr>\n",
       "    <tr>\n",
       "      <th>38_Leitungen</th>\n",
       "      <td>3711</td>\n",
       "      <td>3711</td>\n",
       "    </tr>\n",
       "    <tr>\n",
       "      <th>39_Metalle</th>\n",
       "      <td>8</td>\n",
       "      <td>8</td>\n",
       "    </tr>\n",
       "    <tr>\n",
       "      <th>40_Sprechen_Schwachstrom</th>\n",
       "      <td>72889</td>\n",
       "      <td>71650</td>\n",
       "    </tr>\n",
       "    <tr>\n",
       "      <th>41_Antenne</th>\n",
       "      <td>23142</td>\n",
       "      <td>23130</td>\n",
       "    </tr>\n",
       "    <tr>\n",
       "      <th>42_Netzwerktechnik</th>\n",
       "      <td>40228</td>\n",
       "      <td>40222</td>\n",
       "    </tr>\n",
       "    <tr>\n",
       "      <th>61_Kataloge</th>\n",
       "      <td>1</td>\n",
       "      <td>1</td>\n",
       "    </tr>\n",
       "  </tbody>\n",
       "</table>\n",
       "</div>"
      ],
      "text/plain": [
       "                               product_id  product_desc\n",
       "product_group                                          \n",
       "16_Sonderverkäufe                    5772          5770\n",
       "18_Haustechnik_Hausgeräte           38959         38955\n",
       "19_Werkzeug                         79219         79210\n",
       "2000_Alka_Bürobedarf                78177         78177\n",
       "20_C-Artikel                          279           279\n",
       "31_Install.-Befestigungs-Mat.      337184        334304\n",
       "32_Schalter_Steckvorrichtg         105507        105501\n",
       "33_Schaltgeräte                    557163        555926\n",
       "34_Verteiler_Schränke              189348        189307\n",
       "35_Leuchten                        446853        446777\n",
       "36_Entladungs-Leuchten             133575        133073\n",
       "37_Leuchtmittel                     87577         87568\n",
       "38_Leitungen                         3711          3711\n",
       "39_Metalle                              8             8\n",
       "40_Sprechen_Schwachstrom            72889         71650\n",
       "41_Antenne                          23142         23130\n",
       "42_Netzwerktechnik                  40228         40222\n",
       "61_Kataloge                             1             1"
      ]
     },
     "execution_count": 12,
     "metadata": {},
     "output_type": "execute_result"
    }
   ],
   "source": [
    "df.groupby([\"product_group\"]).count()"
   ]
  },
  {
   "cell_type": "code",
   "execution_count": 91,
   "metadata": {},
   "outputs": [],
   "source": [
    "##df.to_csv(\"updated product.csv\")"
   ]
  },
  {
   "cell_type": "markdown",
   "metadata": {},
   "source": [
    "#### Separating product_group column into two separate columns. Newly split columns will be named \"product_group_number\" and \"product group description\""
   ]
  },
  {
   "cell_type": "code",
   "execution_count": 19,
   "metadata": {},
   "outputs": [],
   "source": [
    "df[['product_group_number', 'product_group_description']] = df[\"product_group\"].str.split('_', n=1, expand=True)\n"
   ]
  },
  {
   "cell_type": "code",
   "execution_count": 20,
   "metadata": {},
   "outputs": [
    {
     "data": {
      "text/html": [
       "<div>\n",
       "<style scoped>\n",
       "    .dataframe tbody tr th:only-of-type {\n",
       "        vertical-align: middle;\n",
       "    }\n",
       "\n",
       "    .dataframe tbody tr th {\n",
       "        vertical-align: top;\n",
       "    }\n",
       "\n",
       "    .dataframe thead th {\n",
       "        text-align: right;\n",
       "    }\n",
       "</style>\n",
       "<table border=\"1\" class=\"dataframe\">\n",
       "  <thead>\n",
       "    <tr style=\"text-align: right;\">\n",
       "      <th></th>\n",
       "      <th>product_id</th>\n",
       "      <th>product_desc</th>\n",
       "      <th>product_group</th>\n",
       "      <th>product_group_number</th>\n",
       "      <th>product_group_description</th>\n",
       "    </tr>\n",
       "  </thead>\n",
       "  <tbody>\n",
       "    <tr>\n",
       "      <th>0</th>\n",
       "      <td>1036628</td>\n",
       "      <td>H05VV-F2X1 5WS 50M</td>\n",
       "      <td>16_Sonderverkäufe</td>\n",
       "      <td>16</td>\n",
       "      <td>Sonderverkäufe</td>\n",
       "    </tr>\n",
       "    <tr>\n",
       "      <th>1</th>\n",
       "      <td>1052053</td>\n",
       "      <td>H07RN-F3G1 100M</td>\n",
       "      <td>16_Sonderverkäufe</td>\n",
       "      <td>16</td>\n",
       "      <td>Sonderverkäufe</td>\n",
       "    </tr>\n",
       "    <tr>\n",
       "      <th>2</th>\n",
       "      <td>110109</td>\n",
       "      <td>SIEM DELTA Doppelta 2S 5TD2111</td>\n",
       "      <td>32_Schalter_Steckvorrichtg</td>\n",
       "      <td>32</td>\n",
       "      <td>Schalter_Steckvorrichtg</td>\n",
       "    </tr>\n",
       "    <tr>\n",
       "      <th>3</th>\n",
       "      <td>110125</td>\n",
       "      <td>SIEM PLUS Wip Univ ews 5TG7581</td>\n",
       "      <td>32_Schalter_Steckvorrichtg</td>\n",
       "      <td>32</td>\n",
       "      <td>Schalter_Steckvorrichtg</td>\n",
       "    </tr>\n",
       "    <tr>\n",
       "      <th>4</th>\n",
       "      <td>110128</td>\n",
       "      <td>SIEM PLUS Wip Kont ews 5TG7580</td>\n",
       "      <td>32_Schalter_Steckvorrichtg</td>\n",
       "      <td>32</td>\n",
       "      <td>Schalter_Steckvorrichtg</td>\n",
       "    </tr>\n",
       "    <tr>\n",
       "      <th>...</th>\n",
       "      <td>...</td>\n",
       "      <td>...</td>\n",
       "      <td>...</td>\n",
       "      <td>...</td>\n",
       "      <td>...</td>\n",
       "    </tr>\n",
       "    <tr>\n",
       "      <th>2199587</th>\n",
       "      <td>Z53390</td>\n",
       "      <td>ASJ MD300EB NH-Lasttrennlei</td>\n",
       "      <td>34_Verteiler_Schränke</td>\n",
       "      <td>34</td>\n",
       "      <td>Verteiler_Schränke</td>\n",
       "    </tr>\n",
       "    <tr>\n",
       "      <th>2199588</th>\n",
       "      <td>Z53392</td>\n",
       "      <td>ASJ MD31B NH-Lasttrennleist</td>\n",
       "      <td>34_Verteiler_Schränke</td>\n",
       "      <td>34</td>\n",
       "      <td>Verteiler_Schränke</td>\n",
       "    </tr>\n",
       "    <tr>\n",
       "      <th>2199589</th>\n",
       "      <td>Z53394</td>\n",
       "      <td>ASJ MD31HB NH-Lasttrennleis</td>\n",
       "      <td>34_Verteiler_Schränke</td>\n",
       "      <td>34</td>\n",
       "      <td>Verteiler_Schränke</td>\n",
       "    </tr>\n",
       "    <tr>\n",
       "      <th>2199590</th>\n",
       "      <td>Z50507</td>\n",
       "      <td>ABB LLEG124X560MM24 LED LLEG1</td>\n",
       "      <td>37_Leuchtmittel</td>\n",
       "      <td>37</td>\n",
       "      <td>Leuchtmittel</td>\n",
       "    </tr>\n",
       "    <tr>\n",
       "      <th>2199591</th>\n",
       "      <td>Z52127</td>\n",
       "      <td>ABB SLADCG250MM700 LED SLA DC</td>\n",
       "      <td>37_Leuchtmittel</td>\n",
       "      <td>37</td>\n",
       "      <td>Leuchtmittel</td>\n",
       "    </tr>\n",
       "  </tbody>\n",
       "</table>\n",
       "<p>2199592 rows × 5 columns</p>\n",
       "</div>"
      ],
      "text/plain": [
       "        product_id                    product_desc  \\\n",
       "0          1036628              H05VV-F2X1 5WS 50M   \n",
       "1          1052053                 H07RN-F3G1 100M   \n",
       "2           110109  SIEM DELTA Doppelta 2S 5TD2111   \n",
       "3           110125  SIEM PLUS Wip Univ ews 5TG7581   \n",
       "4           110128  SIEM PLUS Wip Kont ews 5TG7580   \n",
       "...            ...                             ...   \n",
       "2199587     Z53390     ASJ MD300EB NH-Lasttrennlei   \n",
       "2199588     Z53392     ASJ MD31B NH-Lasttrennleist   \n",
       "2199589     Z53394     ASJ MD31HB NH-Lasttrennleis   \n",
       "2199590     Z50507   ABB LLEG124X560MM24 LED LLEG1   \n",
       "2199591     Z52127   ABB SLADCG250MM700 LED SLA DC   \n",
       "\n",
       "                      product_group product_group_number  \\\n",
       "0                 16_Sonderverkäufe                   16   \n",
       "1                 16_Sonderverkäufe                   16   \n",
       "2        32_Schalter_Steckvorrichtg                   32   \n",
       "3        32_Schalter_Steckvorrichtg                   32   \n",
       "4        32_Schalter_Steckvorrichtg                   32   \n",
       "...                             ...                  ...   \n",
       "2199587       34_Verteiler_Schränke                   34   \n",
       "2199588       34_Verteiler_Schränke                   34   \n",
       "2199589       34_Verteiler_Schränke                   34   \n",
       "2199590             37_Leuchtmittel                   37   \n",
       "2199591             37_Leuchtmittel                   37   \n",
       "\n",
       "        product_group_description  \n",
       "0                  Sonderverkäufe  \n",
       "1                  Sonderverkäufe  \n",
       "2         Schalter_Steckvorrichtg  \n",
       "3         Schalter_Steckvorrichtg  \n",
       "4         Schalter_Steckvorrichtg  \n",
       "...                           ...  \n",
       "2199587        Verteiler_Schränke  \n",
       "2199588        Verteiler_Schränke  \n",
       "2199589        Verteiler_Schränke  \n",
       "2199590              Leuchtmittel  \n",
       "2199591              Leuchtmittel  \n",
       "\n",
       "[2199592 rows x 5 columns]"
      ]
     },
     "execution_count": 20,
     "metadata": {},
     "output_type": "execute_result"
    }
   ],
   "source": [
    "df"
   ]
  },
  {
   "cell_type": "code",
   "execution_count": 35,
   "metadata": {},
   "outputs": [
    {
     "data": {
      "text/html": [
       "<div>\n",
       "<style scoped>\n",
       "    .dataframe tbody tr th:only-of-type {\n",
       "        vertical-align: middle;\n",
       "    }\n",
       "\n",
       "    .dataframe tbody tr th {\n",
       "        vertical-align: top;\n",
       "    }\n",
       "\n",
       "    .dataframe thead th {\n",
       "        text-align: right;\n",
       "    }\n",
       "</style>\n",
       "<table border=\"1\" class=\"dataframe\">\n",
       "  <thead>\n",
       "    <tr style=\"text-align: right;\">\n",
       "      <th></th>\n",
       "      <th>product_id</th>\n",
       "      <th>product_desc</th>\n",
       "      <th>product_group</th>\n",
       "      <th>product_group_number</th>\n",
       "      <th>product_group_description</th>\n",
       "    </tr>\n",
       "  </thead>\n",
       "  <tbody>\n",
       "    <tr>\n",
       "      <th>count</th>\n",
       "      <td>2193569</td>\n",
       "      <td>2193569</td>\n",
       "      <td>2193569</td>\n",
       "      <td>2193569</td>\n",
       "      <td>2193569</td>\n",
       "    </tr>\n",
       "    <tr>\n",
       "      <th>unique</th>\n",
       "      <td>2193569</td>\n",
       "      <td>1422887</td>\n",
       "      <td>18</td>\n",
       "      <td>18</td>\n",
       "      <td>18</td>\n",
       "    </tr>\n",
       "    <tr>\n",
       "      <th>top</th>\n",
       "      <td>Z52127</td>\n",
       "      <td>Klemmenmarkierung</td>\n",
       "      <td>33_Schaltgeräte</td>\n",
       "      <td>33</td>\n",
       "      <td>Schaltgeräte</td>\n",
       "    </tr>\n",
       "    <tr>\n",
       "      <th>freq</th>\n",
       "      <td>1</td>\n",
       "      <td>11251</td>\n",
       "      <td>555926</td>\n",
       "      <td>555926</td>\n",
       "      <td>555926</td>\n",
       "    </tr>\n",
       "  </tbody>\n",
       "</table>\n",
       "</div>"
      ],
      "text/plain": [
       "       product_id       product_desc    product_group product_group_number  \\\n",
       "count     2193569            2193569          2193569              2193569   \n",
       "unique    2193569            1422887               18                   18   \n",
       "top        Z52127  Klemmenmarkierung  33_Schaltgeräte                   33   \n",
       "freq            1              11251           555926               555926   \n",
       "\n",
       "       product_group_description  \n",
       "count                    2193569  \n",
       "unique                        18  \n",
       "top                 Schaltgeräte  \n",
       "freq                      555926  "
      ]
     },
     "execution_count": 35,
     "metadata": {},
     "output_type": "execute_result"
    }
   ],
   "source": [
    "df.describe()\n"
   ]
  },
  {
   "cell_type": "code",
   "execution_count": 36,
   "metadata": {},
   "outputs": [
    {
     "name": "stdout",
     "output_type": "stream",
     "text": [
      "done :)\n"
     ]
    }
   ],
   "source": [
    "print(\"done :)\")"
   ]
  },
  {
   "cell_type": "code",
   "execution_count": null,
   "metadata": {},
   "outputs": [],
   "source": []
  }
 ],
 "metadata": {
  "kernelspec": {
   "display_name": "Python 3",
   "language": "python",
   "name": "python3"
  },
  "language_info": {
   "codemirror_mode": {
    "name": "ipython",
    "version": 3
   },
   "file_extension": ".py",
   "mimetype": "text/x-python",
   "name": "python",
   "nbconvert_exporter": "python",
   "pygments_lexer": "ipython3",
   "version": "3.12.2"
  }
 },
 "nbformat": 4,
 "nbformat_minor": 2
}
