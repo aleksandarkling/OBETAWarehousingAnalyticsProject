{
 "cells": [
  {
   "cell_type": "markdown",
   "metadata": {},
   "source": [
    "# **DATA ANALYSIS - \"PICK_DATA\"**"
   ]
  },
  {
   "cell_type": "markdown",
   "metadata": {},
   "source": [
    "## Packages"
   ]
  },
  {
   "cell_type": "markdown",
   "metadata": {},
   "source": [
    "#### Installing packages"
   ]
  },
  {
   "cell_type": "code",
   "execution_count": 45,
   "metadata": {},
   "outputs": [],
   "source": [
    "# !pip3 install numpy\n",
    "# !pip3 install --upgrade pip\n",
    "# !pip3 install pandas\n",
    "# !pip3 install matplotlib"
   ]
  },
  {
   "cell_type": "markdown",
   "metadata": {},
   "source": [
    "#### Importing packages"
   ]
  },
  {
   "cell_type": "code",
   "execution_count": 1,
   "metadata": {},
   "outputs": [],
   "source": [
    "import time\n",
    "import random\n",
    "import numpy as np\n",
    "import pandas as pd\n",
    "from datetime import datetime\n",
    "import matplotlib.pyplot as plt\n",
    "from IPython.display import clear_output"
   ]
  },
  {
   "cell_type": "markdown",
   "metadata": {},
   "source": [
    "## Functions"
   ]
  },
  {
   "cell_type": "markdown",
   "metadata": {},
   "source": [
    "Function that returns an overview of the **pick_data** based on all columns"
   ]
  },
  {
   "cell_type": "code",
   "execution_count": 2,
   "metadata": {},
   "outputs": [],
   "source": [
    "# function that returns an overview of the pick_data based on all columns\n",
    "def general_overview(pick_data):\n",
    "\n",
    "    #get unique values for each variable\n",
    "    unique_number_of_products = len(set(pick_data.product_id.values))\n",
    "    unique_number_of_categories = len(set(pick_data.category.values))\n",
    "    unique_number_of_source_order_ids = len(set(pick_data.source_order_id.values))\n",
    "    unique_number_of_order_numbers = len(set(pick_data.order_number.values))\n",
    "    unique_number_of_positions_in_order = len(set(pick_data.position_in_order.values))\n",
    "\n",
    "    # print the results for a better understanding\n",
    "    print(\"The length of the data is: \", len(pick_data))\n",
    "    print(\"-----\")\n",
    "    print(\"-----\")\n",
    "    print(\"product_id\")\n",
    "    print(\"The number of unique product_id is: \",  unique_number_of_products)\n",
    "    print(\"-----\")\n",
    "    print(\"category\")\n",
    "    print(\"The number of unique category is: \", unique_number_of_categories)\n",
    "    print(\"-----\")\n",
    "    print(\"source_order_id\")\n",
    "    print(\"The number of unique source_order_id is: \", unique_number_of_source_order_ids)\n",
    "    print(\"-----\")\n",
    "    print(\"order_number\")\n",
    "    print(\"The number of unique order_number is: \", unique_number_of_order_numbers)\n",
    "    print(\"-----\")\n",
    "    print(\"position_in_order\")\n",
    "    print(\"The number of unique position_in_order is: \", unique_number_of_positions_in_order)\n",
    "    print(\"-----\")\n",
    "    print(\"The first date_time of the picks_data is: \", pick_data.date_time.min())\n",
    "    print(\"The last date_time of the picks_data is: \", pick_data.date_time.max())\n",
    "    print(\"-----\")\n",
    "    print(\"The first hour of the picks_data is: \", pick_data.time.min())\n",
    "    print(\"The last hour of the picks_data is: \", pick_data.time.max())"
   ]
  },
  {
   "cell_type": "markdown",
   "metadata": {},
   "source": [
    "Function that checks duplicate rows showing their duplicated partners based on a column selection"
   ]
  },
  {
   "cell_type": "code",
   "execution_count": 3,
   "metadata": {},
   "outputs": [],
   "source": [
    "# check the duplicated cases for a specific row giving a dataframe and the columns to evaluate\n",
    "def check_duplicates_row_columns(pick_data, index_to_check, columns_to_evaluate):\n",
    "\n",
    "    index_row_pick_data = pick_data.loc[index_to_check, columns_to_evaluate]\n",
    "\n",
    "    matching_rows = pick_data[pick_data[columns_to_evaluate].eq(index_row_pick_data).all(axis=1)]\n",
    "    \n",
    "    return(matching_rows)"
   ]
  },
  {
   "cell_type": "markdown",
   "metadata": {},
   "source": [
    "## Downloading data"
   ]
  },
  {
   "cell_type": "markdown",
   "metadata": {},
   "source": [
    "#### Importing data"
   ]
  },
  {
   "cell_type": "code",
   "execution_count": 4,
   "metadata": {},
   "outputs": [
    {
     "name": "stderr",
     "output_type": "stream",
     "text": [
      "/var/folders/0m/9hrzmrmx5rvbnxjrsct8cd500000gn/T/ipykernel_6155/757817874.py:2: DtypeWarning: Columns (0,3) have mixed types. Specify dtype option on import or set low_memory=False.\n",
      "  pick_data = pd.read_csv(\"/Users/ANDRES/Documents/GitHub/OBETAWarehousingAnalyticsProject/Data/003 pick_data.csv\", header=None)\n"
     ]
    }
   ],
   "source": [
    "# read cvs pick_data file\n",
    "pick_data = pd.read_csv(\"/Users/ANDRES/Documents/GitHub/OBETAWarehousingAnalyticsProject/Data/003 pick_data.csv\", header=None)"
   ]
  },
  {
   "cell_type": "markdown",
   "metadata": {},
   "source": [
    "Head of data"
   ]
  },
  {
   "cell_type": "code",
   "execution_count": 5,
   "metadata": {},
   "outputs": [
    {
     "data": {
      "text/html": [
       "<div>\n",
       "<style scoped>\n",
       "    .dataframe tbody tr th:only-of-type {\n",
       "        vertical-align: middle;\n",
       "    }\n",
       "\n",
       "    .dataframe tbody tr th {\n",
       "        vertical-align: top;\n",
       "    }\n",
       "\n",
       "    .dataframe thead th {\n",
       "        text-align: right;\n",
       "    }\n",
       "</style>\n",
       "<table border=\"1\" class=\"dataframe\">\n",
       "  <thead>\n",
       "    <tr style=\"text-align: right;\">\n",
       "      <th></th>\n",
       "      <th>0</th>\n",
       "      <th>1</th>\n",
       "      <th>2</th>\n",
       "      <th>3</th>\n",
       "      <th>4</th>\n",
       "      <th>5</th>\n",
       "      <th>6</th>\n",
       "      <th>7</th>\n",
       "    </tr>\n",
       "  </thead>\n",
       "  <tbody>\n",
       "    <tr>\n",
       "      <th>0</th>\n",
       "      <td>2</td>\n",
       "      <td>SHL</td>\n",
       "      <td>48</td>\n",
       "      <td>7055448</td>\n",
       "      <td>1</td>\n",
       "      <td>29</td>\n",
       "      <td>St</td>\n",
       "      <td>2017-06-30 11:15:24.0000000</td>\n",
       "    </tr>\n",
       "    <tr>\n",
       "      <th>1</th>\n",
       "      <td>2</td>\n",
       "      <td>SHL</td>\n",
       "      <td>48</td>\n",
       "      <td>7055448</td>\n",
       "      <td>1</td>\n",
       "      <td>30</td>\n",
       "      <td>St</td>\n",
       "      <td>2017-06-30 11:22:35.0000000</td>\n",
       "    </tr>\n",
       "    <tr>\n",
       "      <th>2</th>\n",
       "      <td>2</td>\n",
       "      <td>SHL</td>\n",
       "      <td>48</td>\n",
       "      <td>7055448</td>\n",
       "      <td>1</td>\n",
       "      <td>30</td>\n",
       "      <td>St</td>\n",
       "      <td>2017-06-30 12:04:50.0000000</td>\n",
       "    </tr>\n",
       "    <tr>\n",
       "      <th>3</th>\n",
       "      <td>2</td>\n",
       "      <td>SHL</td>\n",
       "      <td>48</td>\n",
       "      <td>7055448</td>\n",
       "      <td>1</td>\n",
       "      <td>20</td>\n",
       "      <td>St</td>\n",
       "      <td>2017-06-30 12:04:51.0000000</td>\n",
       "    </tr>\n",
       "    <tr>\n",
       "      <th>4</th>\n",
       "      <td>2</td>\n",
       "      <td>SHL</td>\n",
       "      <td>48</td>\n",
       "      <td>7055448</td>\n",
       "      <td>1</td>\n",
       "      <td>30</td>\n",
       "      <td>St</td>\n",
       "      <td>2017-06-30 12:05:02.0000000</td>\n",
       "    </tr>\n",
       "  </tbody>\n",
       "</table>\n",
       "</div>"
      ],
      "text/plain": [
       "   0    1   2        3  4   5   6                            7\n",
       "0  2  SHL  48  7055448  1  29  St  2017-06-30 11:15:24.0000000\n",
       "1  2  SHL  48  7055448  1  30  St  2017-06-30 11:22:35.0000000\n",
       "2  2  SHL  48  7055448  1  30  St  2017-06-30 12:04:50.0000000\n",
       "3  2  SHL  48  7055448  1  20  St  2017-06-30 12:04:51.0000000\n",
       "4  2  SHL  48  7055448  1  30  St  2017-06-30 12:05:02.0000000"
      ]
     },
     "execution_count": 5,
     "metadata": {},
     "output_type": "execute_result"
    }
   ],
   "source": [
    "# print head of data\n",
    "pick_data.head()"
   ]
  },
  {
   "cell_type": "markdown",
   "metadata": {},
   "source": [
    "#### Renaming columns to match schema"
   ]
  },
  {
   "cell_type": "code",
   "execution_count": 6,
   "metadata": {},
   "outputs": [],
   "source": [
    "# rename columns of data to match schema\n",
    "pick_data.columns = [\"product_id\", \"category\", \"source_order_id\", \"order_number\", \"position_in_order\", \"pick_volume\", \"quantity_unit\", \"date_time\"]"
   ]
  },
  {
   "cell_type": "code",
   "execution_count": 7,
   "metadata": {},
   "outputs": [
    {
     "data": {
      "text/html": [
       "<div>\n",
       "<style scoped>\n",
       "    .dataframe tbody tr th:only-of-type {\n",
       "        vertical-align: middle;\n",
       "    }\n",
       "\n",
       "    .dataframe tbody tr th {\n",
       "        vertical-align: top;\n",
       "    }\n",
       "\n",
       "    .dataframe thead th {\n",
       "        text-align: right;\n",
       "    }\n",
       "</style>\n",
       "<table border=\"1\" class=\"dataframe\">\n",
       "  <thead>\n",
       "    <tr style=\"text-align: right;\">\n",
       "      <th></th>\n",
       "      <th>product_id</th>\n",
       "      <th>category</th>\n",
       "      <th>source_order_id</th>\n",
       "      <th>order_number</th>\n",
       "      <th>position_in_order</th>\n",
       "      <th>pick_volume</th>\n",
       "      <th>quantity_unit</th>\n",
       "      <th>date_time</th>\n",
       "    </tr>\n",
       "  </thead>\n",
       "  <tbody>\n",
       "    <tr>\n",
       "      <th>0</th>\n",
       "      <td>2</td>\n",
       "      <td>SHL</td>\n",
       "      <td>48</td>\n",
       "      <td>7055448</td>\n",
       "      <td>1</td>\n",
       "      <td>29</td>\n",
       "      <td>St</td>\n",
       "      <td>2017-06-30 11:15:24.0000000</td>\n",
       "    </tr>\n",
       "    <tr>\n",
       "      <th>1</th>\n",
       "      <td>2</td>\n",
       "      <td>SHL</td>\n",
       "      <td>48</td>\n",
       "      <td>7055448</td>\n",
       "      <td>1</td>\n",
       "      <td>30</td>\n",
       "      <td>St</td>\n",
       "      <td>2017-06-30 11:22:35.0000000</td>\n",
       "    </tr>\n",
       "    <tr>\n",
       "      <th>2</th>\n",
       "      <td>2</td>\n",
       "      <td>SHL</td>\n",
       "      <td>48</td>\n",
       "      <td>7055448</td>\n",
       "      <td>1</td>\n",
       "      <td>30</td>\n",
       "      <td>St</td>\n",
       "      <td>2017-06-30 12:04:50.0000000</td>\n",
       "    </tr>\n",
       "    <tr>\n",
       "      <th>3</th>\n",
       "      <td>2</td>\n",
       "      <td>SHL</td>\n",
       "      <td>48</td>\n",
       "      <td>7055448</td>\n",
       "      <td>1</td>\n",
       "      <td>20</td>\n",
       "      <td>St</td>\n",
       "      <td>2017-06-30 12:04:51.0000000</td>\n",
       "    </tr>\n",
       "    <tr>\n",
       "      <th>4</th>\n",
       "      <td>2</td>\n",
       "      <td>SHL</td>\n",
       "      <td>48</td>\n",
       "      <td>7055448</td>\n",
       "      <td>1</td>\n",
       "      <td>30</td>\n",
       "      <td>St</td>\n",
       "      <td>2017-06-30 12:05:02.0000000</td>\n",
       "    </tr>\n",
       "  </tbody>\n",
       "</table>\n",
       "</div>"
      ],
      "text/plain": [
       "  product_id category  source_order_id order_number  position_in_order  \\\n",
       "0          2      SHL               48      7055448                  1   \n",
       "1          2      SHL               48      7055448                  1   \n",
       "2          2      SHL               48      7055448                  1   \n",
       "3          2      SHL               48      7055448                  1   \n",
       "4          2      SHL               48      7055448                  1   \n",
       "\n",
       "   pick_volume quantity_unit                    date_time  \n",
       "0           29            St  2017-06-30 11:15:24.0000000  \n",
       "1           30            St  2017-06-30 11:22:35.0000000  \n",
       "2           30            St  2017-06-30 12:04:50.0000000  \n",
       "3           20            St  2017-06-30 12:04:51.0000000  \n",
       "4           30            St  2017-06-30 12:05:02.0000000  "
      ]
     },
     "execution_count": 7,
     "metadata": {},
     "output_type": "execute_result"
    }
   ],
   "source": [
    "# check head of data to see if columns match\n",
    "pick_data.head()"
   ]
  },
  {
   "cell_type": "markdown",
   "metadata": {},
   "source": [
    "#### Matching data types"
   ]
  },
  {
   "cell_type": "code",
   "execution_count": 8,
   "metadata": {},
   "outputs": [],
   "source": [
    "# assign data types to pick_data to match schema\n",
    "pick_data[\"product_id\"] = pick_data[\"product_id\"].astype(str)\n",
    "pick_data[\"category\"] = pick_data[\"category\"].astype(str)\n",
    "pick_data[\"source_order_id\"] = pick_data[\"source_order_id\"].astype(str)\n",
    "pick_data[\"order_number\"] = pick_data[\"order_number\"].astype(str)\n",
    "pick_data[\"position_in_order\"] = pick_data[\"position_in_order\"].astype(int)\n",
    "pick_data[\"pick_volume\"] = pick_data[\"pick_volume\"].astype(int)\n",
    "pick_data[\"quantity_unit\"] = pick_data[\"quantity_unit\"].astype(str)\n",
    "pick_data[\"date_time\"] = pd.to_datetime(pick_data[\"date_time\"])"
   ]
  },
  {
   "cell_type": "code",
   "execution_count": 9,
   "metadata": {},
   "outputs": [
    {
     "data": {
      "text/html": [
       "<div>\n",
       "<style scoped>\n",
       "    .dataframe tbody tr th:only-of-type {\n",
       "        vertical-align: middle;\n",
       "    }\n",
       "\n",
       "    .dataframe tbody tr th {\n",
       "        vertical-align: top;\n",
       "    }\n",
       "\n",
       "    .dataframe thead th {\n",
       "        text-align: right;\n",
       "    }\n",
       "</style>\n",
       "<table border=\"1\" class=\"dataframe\">\n",
       "  <thead>\n",
       "    <tr style=\"text-align: right;\">\n",
       "      <th></th>\n",
       "      <th>product_id</th>\n",
       "      <th>category</th>\n",
       "      <th>source_order_id</th>\n",
       "      <th>order_number</th>\n",
       "      <th>position_in_order</th>\n",
       "      <th>pick_volume</th>\n",
       "      <th>quantity_unit</th>\n",
       "      <th>date_time</th>\n",
       "    </tr>\n",
       "  </thead>\n",
       "  <tbody>\n",
       "    <tr>\n",
       "      <th>0</th>\n",
       "      <td>2</td>\n",
       "      <td>SHL</td>\n",
       "      <td>48</td>\n",
       "      <td>7055448</td>\n",
       "      <td>1</td>\n",
       "      <td>29</td>\n",
       "      <td>St</td>\n",
       "      <td>2017-06-30 11:15:24</td>\n",
       "    </tr>\n",
       "    <tr>\n",
       "      <th>1</th>\n",
       "      <td>2</td>\n",
       "      <td>SHL</td>\n",
       "      <td>48</td>\n",
       "      <td>7055448</td>\n",
       "      <td>1</td>\n",
       "      <td>30</td>\n",
       "      <td>St</td>\n",
       "      <td>2017-06-30 11:22:35</td>\n",
       "    </tr>\n",
       "    <tr>\n",
       "      <th>2</th>\n",
       "      <td>2</td>\n",
       "      <td>SHL</td>\n",
       "      <td>48</td>\n",
       "      <td>7055448</td>\n",
       "      <td>1</td>\n",
       "      <td>30</td>\n",
       "      <td>St</td>\n",
       "      <td>2017-06-30 12:04:50</td>\n",
       "    </tr>\n",
       "    <tr>\n",
       "      <th>3</th>\n",
       "      <td>2</td>\n",
       "      <td>SHL</td>\n",
       "      <td>48</td>\n",
       "      <td>7055448</td>\n",
       "      <td>1</td>\n",
       "      <td>20</td>\n",
       "      <td>St</td>\n",
       "      <td>2017-06-30 12:04:51</td>\n",
       "    </tr>\n",
       "    <tr>\n",
       "      <th>4</th>\n",
       "      <td>2</td>\n",
       "      <td>SHL</td>\n",
       "      <td>48</td>\n",
       "      <td>7055448</td>\n",
       "      <td>1</td>\n",
       "      <td>30</td>\n",
       "      <td>St</td>\n",
       "      <td>2017-06-30 12:05:02</td>\n",
       "    </tr>\n",
       "  </tbody>\n",
       "</table>\n",
       "</div>"
      ],
      "text/plain": [
       "  product_id category source_order_id order_number  position_in_order  \\\n",
       "0          2      SHL              48      7055448                  1   \n",
       "1          2      SHL              48      7055448                  1   \n",
       "2          2      SHL              48      7055448                  1   \n",
       "3          2      SHL              48      7055448                  1   \n",
       "4          2      SHL              48      7055448                  1   \n",
       "\n",
       "   pick_volume quantity_unit           date_time  \n",
       "0           29            St 2017-06-30 11:15:24  \n",
       "1           30            St 2017-06-30 11:22:35  \n",
       "2           30            St 2017-06-30 12:04:50  \n",
       "3           20            St 2017-06-30 12:04:51  \n",
       "4           30            St 2017-06-30 12:05:02  "
      ]
     },
     "execution_count": 9,
     "metadata": {},
     "output_type": "execute_result"
    }
   ],
   "source": [
    "# check head of data to evaluate if any change damaged pick_data\n",
    "pick_data.head()"
   ]
  },
  {
   "cell_type": "markdown",
   "metadata": {},
   "source": [
    "Checking data types"
   ]
  },
  {
   "cell_type": "code",
   "execution_count": 10,
   "metadata": {},
   "outputs": [
    {
     "data": {
      "text/plain": [
       "product_id                   object\n",
       "category                     object\n",
       "source_order_id              object\n",
       "order_number                 object\n",
       "position_in_order             int64\n",
       "pick_volume                   int64\n",
       "quantity_unit                object\n",
       "date_time            datetime64[ns]\n",
       "dtype: object"
      ]
     },
     "execution_count": 10,
     "metadata": {},
     "output_type": "execute_result"
    }
   ],
   "source": [
    "# check types of columns to verify they match the schema\n",
    "pick_data.dtypes"
   ]
  },
  {
   "cell_type": "markdown",
   "metadata": {},
   "source": [
    "#### Creating new date and time column"
   ]
  },
  {
   "cell_type": "code",
   "execution_count": 11,
   "metadata": {},
   "outputs": [],
   "source": [
    "# add columns date and time to match the schema\n",
    "pick_data[\"date\"] = pick_data[\"date_time\"].dt.date\n",
    "pick_data[\"time\"] = pick_data[\"date_time\"].dt.hour"
   ]
  },
  {
   "cell_type": "code",
   "execution_count": 12,
   "metadata": {},
   "outputs": [
    {
     "data": {
      "text/html": [
       "<div>\n",
       "<style scoped>\n",
       "    .dataframe tbody tr th:only-of-type {\n",
       "        vertical-align: middle;\n",
       "    }\n",
       "\n",
       "    .dataframe tbody tr th {\n",
       "        vertical-align: top;\n",
       "    }\n",
       "\n",
       "    .dataframe thead th {\n",
       "        text-align: right;\n",
       "    }\n",
       "</style>\n",
       "<table border=\"1\" class=\"dataframe\">\n",
       "  <thead>\n",
       "    <tr style=\"text-align: right;\">\n",
       "      <th></th>\n",
       "      <th>product_id</th>\n",
       "      <th>category</th>\n",
       "      <th>source_order_id</th>\n",
       "      <th>order_number</th>\n",
       "      <th>position_in_order</th>\n",
       "      <th>pick_volume</th>\n",
       "      <th>quantity_unit</th>\n",
       "      <th>date_time</th>\n",
       "      <th>date</th>\n",
       "      <th>time</th>\n",
       "    </tr>\n",
       "  </thead>\n",
       "  <tbody>\n",
       "    <tr>\n",
       "      <th>0</th>\n",
       "      <td>2</td>\n",
       "      <td>SHL</td>\n",
       "      <td>48</td>\n",
       "      <td>7055448</td>\n",
       "      <td>1</td>\n",
       "      <td>29</td>\n",
       "      <td>St</td>\n",
       "      <td>2017-06-30 11:15:24</td>\n",
       "      <td>2017-06-30</td>\n",
       "      <td>11</td>\n",
       "    </tr>\n",
       "    <tr>\n",
       "      <th>1</th>\n",
       "      <td>2</td>\n",
       "      <td>SHL</td>\n",
       "      <td>48</td>\n",
       "      <td>7055448</td>\n",
       "      <td>1</td>\n",
       "      <td>30</td>\n",
       "      <td>St</td>\n",
       "      <td>2017-06-30 11:22:35</td>\n",
       "      <td>2017-06-30</td>\n",
       "      <td>11</td>\n",
       "    </tr>\n",
       "    <tr>\n",
       "      <th>2</th>\n",
       "      <td>2</td>\n",
       "      <td>SHL</td>\n",
       "      <td>48</td>\n",
       "      <td>7055448</td>\n",
       "      <td>1</td>\n",
       "      <td>30</td>\n",
       "      <td>St</td>\n",
       "      <td>2017-06-30 12:04:50</td>\n",
       "      <td>2017-06-30</td>\n",
       "      <td>12</td>\n",
       "    </tr>\n",
       "    <tr>\n",
       "      <th>3</th>\n",
       "      <td>2</td>\n",
       "      <td>SHL</td>\n",
       "      <td>48</td>\n",
       "      <td>7055448</td>\n",
       "      <td>1</td>\n",
       "      <td>20</td>\n",
       "      <td>St</td>\n",
       "      <td>2017-06-30 12:04:51</td>\n",
       "      <td>2017-06-30</td>\n",
       "      <td>12</td>\n",
       "    </tr>\n",
       "    <tr>\n",
       "      <th>4</th>\n",
       "      <td>2</td>\n",
       "      <td>SHL</td>\n",
       "      <td>48</td>\n",
       "      <td>7055448</td>\n",
       "      <td>1</td>\n",
       "      <td>30</td>\n",
       "      <td>St</td>\n",
       "      <td>2017-06-30 12:05:02</td>\n",
       "      <td>2017-06-30</td>\n",
       "      <td>12</td>\n",
       "    </tr>\n",
       "  </tbody>\n",
       "</table>\n",
       "</div>"
      ],
      "text/plain": [
       "  product_id category source_order_id order_number  position_in_order  \\\n",
       "0          2      SHL              48      7055448                  1   \n",
       "1          2      SHL              48      7055448                  1   \n",
       "2          2      SHL              48      7055448                  1   \n",
       "3          2      SHL              48      7055448                  1   \n",
       "4          2      SHL              48      7055448                  1   \n",
       "\n",
       "   pick_volume quantity_unit           date_time        date  time  \n",
       "0           29            St 2017-06-30 11:15:24  2017-06-30    11  \n",
       "1           30            St 2017-06-30 11:22:35  2017-06-30    11  \n",
       "2           30            St 2017-06-30 12:04:50  2017-06-30    12  \n",
       "3           20            St 2017-06-30 12:04:51  2017-06-30    12  \n",
       "4           30            St 2017-06-30 12:05:02  2017-06-30    12  "
      ]
     },
     "execution_count": 12,
     "metadata": {},
     "output_type": "execute_result"
    }
   ],
   "source": [
    "# check the dataframe to see if the columns are well created\n",
    "pick_data.head()"
   ]
  },
  {
   "cell_type": "markdown",
   "metadata": {},
   "source": [
    "Matching data types"
   ]
  },
  {
   "cell_type": "code",
   "execution_count": 13,
   "metadata": {},
   "outputs": [],
   "source": [
    "# chage the type of date (without hour, min, sec) to match schema\n",
    "pick_data[\"date\"] = pd.to_datetime(pick_data[\"date\"])"
   ]
  },
  {
   "cell_type": "markdown",
   "metadata": {},
   "source": [
    "#### General information"
   ]
  },
  {
   "cell_type": "code",
   "execution_count": 14,
   "metadata": {},
   "outputs": [
    {
     "name": "stdout",
     "output_type": "stream",
     "text": [
      "<class 'pandas.core.frame.DataFrame'>\n",
      "RangeIndex: 33888990 entries, 0 to 33888989\n",
      "Data columns (total 10 columns):\n",
      " #   Column             Dtype         \n",
      "---  ------             -----         \n",
      " 0   product_id         object        \n",
      " 1   category           object        \n",
      " 2   source_order_id    object        \n",
      " 3   order_number       object        \n",
      " 4   position_in_order  int64         \n",
      " 5   pick_volume        int64         \n",
      " 6   quantity_unit      object        \n",
      " 7   date_time          datetime64[ns]\n",
      " 8   date               datetime64[ns]\n",
      " 9   time               int32         \n",
      "dtypes: datetime64[ns](2), int32(1), int64(2), object(5)\n",
      "memory usage: 2.4+ GB\n"
     ]
    }
   ],
   "source": [
    "# check all data types before data manipulation\n",
    "pick_data.info()"
   ]
  },
  {
   "cell_type": "markdown",
   "metadata": {},
   "source": [
    "## Data description"
   ]
  },
  {
   "cell_type": "markdown",
   "metadata": {},
   "source": [
    "#### Describing  general data"
   ]
  },
  {
   "cell_type": "code",
   "execution_count": 15,
   "metadata": {},
   "outputs": [
    {
     "name": "stdout",
     "output_type": "stream",
     "text": [
      "The length of the data is:  33888990\n",
      "-----\n",
      "-----\n",
      "product_id\n",
      "The number of unique product_id is:  97338\n",
      "-----\n",
      "category\n",
      "The number of unique category is:  5\n",
      "-----\n",
      "source_order_id\n",
      "The number of unique source_order_id is:  2\n",
      "-----\n",
      "order_number\n",
      "The number of unique order_number is:  6956136\n",
      "-----\n",
      "position_in_order\n",
      "The number of unique position_in_order is:  340\n",
      "-----\n",
      "The first date_time of the picks_data is:  2011-06-23 00:00:01\n",
      "The last date_time of the picks_data is:  2020-07-14 11:42:01\n",
      "-----\n",
      "The first hour of the picks_data is:  0\n",
      "The last hour of the picks_data is:  23\n"
     ]
    }
   ],
   "source": [
    "# get a general overview\n",
    "general_overview(pick_data)"
   ]
  },
  {
   "cell_type": "markdown",
   "metadata": {},
   "source": [
    "______"
   ]
  },
  {
   "cell_type": "markdown",
   "metadata": {},
   "source": [
    "## Data manipulation"
   ]
  },
  {
   "cell_type": "markdown",
   "metadata": {},
   "source": [
    "#### Missing values"
   ]
  },
  {
   "cell_type": "code",
   "execution_count": 16,
   "metadata": {},
   "outputs": [
    {
     "data": {
      "text/plain": [
       "product_id           0\n",
       "category             0\n",
       "source_order_id      0\n",
       "order_number         0\n",
       "position_in_order    0\n",
       "pick_volume          0\n",
       "quantity_unit        0\n",
       "date_time            0\n",
       "date                 0\n",
       "time                 0\n",
       "dtype: int64"
      ]
     },
     "execution_count": 16,
     "metadata": {},
     "output_type": "execute_result"
    }
   ],
   "source": [
    "# check count of missing values for each variable \n",
    "pick_data.isna().sum()"
   ]
  },
  {
   "cell_type": "markdown",
   "metadata": {},
   "source": [
    "* Since there are no missing values, we can assume that the data is complete and we can proceed to validate the consistency of the variables"
   ]
  },
  {
   "cell_type": "markdown",
   "metadata": {},
   "source": [
    "#### Duplicates"
   ]
  },
  {
   "cell_type": "markdown",
   "metadata": {},
   "source": [
    "Check duplicates based on **all columns**"
   ]
  },
  {
   "cell_type": "code",
   "execution_count": 17,
   "metadata": {},
   "outputs": [
    {
     "data": {
      "text/html": [
       "<div>\n",
       "<style scoped>\n",
       "    .dataframe tbody tr th:only-of-type {\n",
       "        vertical-align: middle;\n",
       "    }\n",
       "\n",
       "    .dataframe tbody tr th {\n",
       "        vertical-align: top;\n",
       "    }\n",
       "\n",
       "    .dataframe thead th {\n",
       "        text-align: right;\n",
       "    }\n",
       "</style>\n",
       "<table border=\"1\" class=\"dataframe\">\n",
       "  <thead>\n",
       "    <tr style=\"text-align: right;\">\n",
       "      <th></th>\n",
       "      <th>product_id</th>\n",
       "      <th>category</th>\n",
       "      <th>source_order_id</th>\n",
       "      <th>order_number</th>\n",
       "      <th>position_in_order</th>\n",
       "      <th>pick_volume</th>\n",
       "      <th>quantity_unit</th>\n",
       "      <th>date_time</th>\n",
       "      <th>date</th>\n",
       "      <th>time</th>\n",
       "    </tr>\n",
       "  </thead>\n",
       "  <tbody>\n",
       "    <tr>\n",
       "      <th>14</th>\n",
       "      <td>2</td>\n",
       "      <td>SHL</td>\n",
       "      <td>48</td>\n",
       "      <td>7055448</td>\n",
       "      <td>1</td>\n",
       "      <td>22</td>\n",
       "      <td>St</td>\n",
       "      <td>2017-06-30 12:50:40</td>\n",
       "      <td>2017-06-30</td>\n",
       "      <td>12</td>\n",
       "    </tr>\n",
       "    <tr>\n",
       "      <th>68</th>\n",
       "      <td>12</td>\n",
       "      <td>AKL</td>\n",
       "      <td>48</td>\n",
       "      <td>8197426</td>\n",
       "      <td>3</td>\n",
       "      <td>4</td>\n",
       "      <td>St</td>\n",
       "      <td>2018-01-30 12:55:47</td>\n",
       "      <td>2018-01-30</td>\n",
       "      <td>12</td>\n",
       "    </tr>\n",
       "    <tr>\n",
       "      <th>626</th>\n",
       "      <td>99</td>\n",
       "      <td>SHL</td>\n",
       "      <td>48</td>\n",
       "      <td>3302027</td>\n",
       "      <td>1</td>\n",
       "      <td>4</td>\n",
       "      <td>St</td>\n",
       "      <td>2020-07-14 07:00:04</td>\n",
       "      <td>2020-07-14</td>\n",
       "      <td>7</td>\n",
       "    </tr>\n",
       "    <tr>\n",
       "      <th>1327</th>\n",
       "      <td>255</td>\n",
       "      <td>Manuell</td>\n",
       "      <td>48</td>\n",
       "      <td>8883282</td>\n",
       "      <td>1</td>\n",
       "      <td>8</td>\n",
       "      <td>St</td>\n",
       "      <td>2018-11-21 00:33:42</td>\n",
       "      <td>2018-11-21</td>\n",
       "      <td>0</td>\n",
       "    </tr>\n",
       "    <tr>\n",
       "      <th>1998</th>\n",
       "      <td>384</td>\n",
       "      <td>SHL</td>\n",
       "      <td>48</td>\n",
       "      <td>1854647</td>\n",
       "      <td>1</td>\n",
       "      <td>1</td>\n",
       "      <td>St</td>\n",
       "      <td>2019-10-23 10:55:28</td>\n",
       "      <td>2019-10-23</td>\n",
       "      <td>10</td>\n",
       "    </tr>\n",
       "  </tbody>\n",
       "</table>\n",
       "</div>"
      ],
      "text/plain": [
       "     product_id category source_order_id order_number  position_in_order  \\\n",
       "14            2      SHL              48      7055448                  1   \n",
       "68           12      AKL              48      8197426                  3   \n",
       "626          99      SHL              48      3302027                  1   \n",
       "1327        255  Manuell              48      8883282                  1   \n",
       "1998        384      SHL              48      1854647                  1   \n",
       "\n",
       "      pick_volume quantity_unit           date_time       date  time  \n",
       "14             22            St 2017-06-30 12:50:40 2017-06-30    12  \n",
       "68              4            St 2018-01-30 12:55:47 2018-01-30    12  \n",
       "626             4            St 2020-07-14 07:00:04 2020-07-14     7  \n",
       "1327            8            St 2018-11-21 00:33:42 2018-11-21     0  \n",
       "1998            1            St 2019-10-23 10:55:28 2019-10-23    10  "
      ]
     },
     "execution_count": 17,
     "metadata": {},
     "output_type": "execute_result"
    }
   ],
   "source": [
    "# get duplicates dataframe over the all columns\n",
    "duplicates_pick_date = pick_data.duplicated(subset = list(pick_data.columns))\n",
    "pick_data[duplicates_pick_date].head()"
   ]
  },
  {
   "cell_type": "code",
   "execution_count": 18,
   "metadata": {},
   "outputs": [
    {
     "name": "stdout",
     "output_type": "stream",
     "text": [
      "8024\n"
     ]
    }
   ],
   "source": [
    "# get the count of duplicated values\n",
    "print(len(pick_data[duplicates_pick_date]))"
   ]
  },
  {
   "cell_type": "markdown",
   "metadata": {},
   "source": [
    "* We see that **8.024** rows are duplicates being **100%** sure"
   ]
  },
  {
   "cell_type": "markdown",
   "metadata": {},
   "source": [
    "Check some examples of duplicates based on **all** column before dropping any row"
   ]
  },
  {
   "cell_type": "code",
   "execution_count": 19,
   "metadata": {},
   "outputs": [
    {
     "data": {
      "text/html": [
       "<div>\n",
       "<style scoped>\n",
       "    .dataframe tbody tr th:only-of-type {\n",
       "        vertical-align: middle;\n",
       "    }\n",
       "\n",
       "    .dataframe tbody tr th {\n",
       "        vertical-align: top;\n",
       "    }\n",
       "\n",
       "    .dataframe thead th {\n",
       "        text-align: right;\n",
       "    }\n",
       "</style>\n",
       "<table border=\"1\" class=\"dataframe\">\n",
       "  <thead>\n",
       "    <tr style=\"text-align: right;\">\n",
       "      <th></th>\n",
       "      <th>product_id</th>\n",
       "      <th>category</th>\n",
       "      <th>source_order_id</th>\n",
       "      <th>order_number</th>\n",
       "      <th>position_in_order</th>\n",
       "      <th>pick_volume</th>\n",
       "      <th>quantity_unit</th>\n",
       "      <th>date_time</th>\n",
       "      <th>date</th>\n",
       "      <th>time</th>\n",
       "    </tr>\n",
       "  </thead>\n",
       "  <tbody>\n",
       "    <tr>\n",
       "      <th>13</th>\n",
       "      <td>2</td>\n",
       "      <td>SHL</td>\n",
       "      <td>48</td>\n",
       "      <td>7055448</td>\n",
       "      <td>1</td>\n",
       "      <td>22</td>\n",
       "      <td>St</td>\n",
       "      <td>2017-06-30 12:50:40</td>\n",
       "      <td>2017-06-30</td>\n",
       "      <td>12</td>\n",
       "    </tr>\n",
       "    <tr>\n",
       "      <th>14</th>\n",
       "      <td>2</td>\n",
       "      <td>SHL</td>\n",
       "      <td>48</td>\n",
       "      <td>7055448</td>\n",
       "      <td>1</td>\n",
       "      <td>22</td>\n",
       "      <td>St</td>\n",
       "      <td>2017-06-30 12:50:40</td>\n",
       "      <td>2017-06-30</td>\n",
       "      <td>12</td>\n",
       "    </tr>\n",
       "  </tbody>\n",
       "</table>\n",
       "</div>"
      ],
      "text/plain": [
       "   product_id category source_order_id order_number  position_in_order  \\\n",
       "13          2      SHL              48      7055448                  1   \n",
       "14          2      SHL              48      7055448                  1   \n",
       "\n",
       "    pick_volume quantity_unit           date_time       date  time  \n",
       "13           22            St 2017-06-30 12:50:40 2017-06-30    12  \n",
       "14           22            St 2017-06-30 12:50:40 2017-06-30    12  "
      ]
     },
     "execution_count": 19,
     "metadata": {},
     "output_type": "execute_result"
    }
   ],
   "source": [
    "# check the duplicated cases for row 14 over all columns (because we saw the indexin the previous output)\n",
    "index_to_check = 14\n",
    "columns_to_evaluate = list(pick_data.columns)\n",
    "\n",
    "check_duplicates_row_columns(pick_data, index_to_check, columns_to_evaluate)"
   ]
  },
  {
   "cell_type": "markdown",
   "metadata": {},
   "source": [
    "> We proceed to drop duplicates from the **pick_data**"
   ]
  },
  {
   "cell_type": "markdown",
   "metadata": {},
   "source": [
    "Drop duplicates that are the same over all columns, leaving just one register at in the end"
   ]
  },
  {
   "cell_type": "code",
   "execution_count": 20,
   "metadata": {},
   "outputs": [],
   "source": [
    "# drop duplicates from data based on all the columns\n",
    "pick_data = pick_data.drop_duplicates().reset_index(drop=True)"
   ]
  },
  {
   "cell_type": "markdown",
   "metadata": {},
   "source": [
    "Describing  general data"
   ]
  },
  {
   "cell_type": "code",
   "execution_count": 21,
   "metadata": {},
   "outputs": [
    {
     "name": "stdout",
     "output_type": "stream",
     "text": [
      "The length of the data is:  33880966\n",
      "-----\n",
      "-----\n",
      "product_id\n",
      "The number of unique product_id is:  97338\n",
      "-----\n",
      "category\n",
      "The number of unique category is:  5\n",
      "-----\n",
      "source_order_id\n",
      "The number of unique source_order_id is:  2\n",
      "-----\n",
      "order_number\n",
      "The number of unique order_number is:  6956136\n",
      "-----\n",
      "position_in_order\n",
      "The number of unique position_in_order is:  340\n",
      "-----\n",
      "The first date_time of the picks_data is:  2011-06-23 00:00:01\n",
      "The last date_time of the picks_data is:  2020-07-14 11:42:01\n",
      "-----\n",
      "The first hour of the picks_data is:  0\n",
      "The last hour of the picks_data is:  23\n"
     ]
    }
   ],
   "source": [
    "# get a general overview of te new pick_data dataframe\n",
    "general_overview(pick_data)"
   ]
  },
  {
   "cell_type": "markdown",
   "metadata": {},
   "source": [
    "* Notice that the difference between the original length and the new length is exactly **8.024**"
   ]
  },
  {
   "cell_type": "code",
   "execution_count": 22,
   "metadata": {},
   "outputs": [
    {
     "data": {
      "text/html": [
       "<div>\n",
       "<style scoped>\n",
       "    .dataframe tbody tr th:only-of-type {\n",
       "        vertical-align: middle;\n",
       "    }\n",
       "\n",
       "    .dataframe tbody tr th {\n",
       "        vertical-align: top;\n",
       "    }\n",
       "\n",
       "    .dataframe thead th {\n",
       "        text-align: right;\n",
       "    }\n",
       "</style>\n",
       "<table border=\"1\" class=\"dataframe\">\n",
       "  <thead>\n",
       "    <tr style=\"text-align: right;\">\n",
       "      <th></th>\n",
       "      <th>product_id</th>\n",
       "      <th>category</th>\n",
       "      <th>source_order_id</th>\n",
       "      <th>order_number</th>\n",
       "      <th>position_in_order</th>\n",
       "      <th>pick_volume</th>\n",
       "      <th>quantity_unit</th>\n",
       "      <th>date_time</th>\n",
       "      <th>date</th>\n",
       "      <th>time</th>\n",
       "    </tr>\n",
       "  </thead>\n",
       "  <tbody>\n",
       "    <tr>\n",
       "      <th>0</th>\n",
       "      <td>2</td>\n",
       "      <td>SHL</td>\n",
       "      <td>48</td>\n",
       "      <td>7055448</td>\n",
       "      <td>1</td>\n",
       "      <td>29</td>\n",
       "      <td>St</td>\n",
       "      <td>2017-06-30 11:15:24</td>\n",
       "      <td>2017-06-30</td>\n",
       "      <td>11</td>\n",
       "    </tr>\n",
       "    <tr>\n",
       "      <th>1</th>\n",
       "      <td>2</td>\n",
       "      <td>SHL</td>\n",
       "      <td>48</td>\n",
       "      <td>7055448</td>\n",
       "      <td>1</td>\n",
       "      <td>30</td>\n",
       "      <td>St</td>\n",
       "      <td>2017-06-30 11:22:35</td>\n",
       "      <td>2017-06-30</td>\n",
       "      <td>11</td>\n",
       "    </tr>\n",
       "    <tr>\n",
       "      <th>2</th>\n",
       "      <td>2</td>\n",
       "      <td>SHL</td>\n",
       "      <td>48</td>\n",
       "      <td>7055448</td>\n",
       "      <td>1</td>\n",
       "      <td>30</td>\n",
       "      <td>St</td>\n",
       "      <td>2017-06-30 12:04:50</td>\n",
       "      <td>2017-06-30</td>\n",
       "      <td>12</td>\n",
       "    </tr>\n",
       "    <tr>\n",
       "      <th>3</th>\n",
       "      <td>2</td>\n",
       "      <td>SHL</td>\n",
       "      <td>48</td>\n",
       "      <td>7055448</td>\n",
       "      <td>1</td>\n",
       "      <td>20</td>\n",
       "      <td>St</td>\n",
       "      <td>2017-06-30 12:04:51</td>\n",
       "      <td>2017-06-30</td>\n",
       "      <td>12</td>\n",
       "    </tr>\n",
       "    <tr>\n",
       "      <th>4</th>\n",
       "      <td>2</td>\n",
       "      <td>SHL</td>\n",
       "      <td>48</td>\n",
       "      <td>7055448</td>\n",
       "      <td>1</td>\n",
       "      <td>30</td>\n",
       "      <td>St</td>\n",
       "      <td>2017-06-30 12:05:02</td>\n",
       "      <td>2017-06-30</td>\n",
       "      <td>12</td>\n",
       "    </tr>\n",
       "  </tbody>\n",
       "</table>\n",
       "</div>"
      ],
      "text/plain": [
       "  product_id category source_order_id order_number  position_in_order  \\\n",
       "0          2      SHL              48      7055448                  1   \n",
       "1          2      SHL              48      7055448                  1   \n",
       "2          2      SHL              48      7055448                  1   \n",
       "3          2      SHL              48      7055448                  1   \n",
       "4          2      SHL              48      7055448                  1   \n",
       "\n",
       "   pick_volume quantity_unit           date_time       date  time  \n",
       "0           29            St 2017-06-30 11:15:24 2017-06-30    11  \n",
       "1           30            St 2017-06-30 11:22:35 2017-06-30    11  \n",
       "2           30            St 2017-06-30 12:04:50 2017-06-30    12  \n",
       "3           20            St 2017-06-30 12:04:51 2017-06-30    12  \n",
       "4           30            St 2017-06-30 12:05:02 2017-06-30    12  "
      ]
     },
     "execution_count": 22,
     "metadata": {},
     "output_type": "execute_result"
    }
   ],
   "source": [
    "# review the pick_data\n",
    "pick_data.head()"
   ]
  },
  {
   "cell_type": "markdown",
   "metadata": {},
   "source": [
    "> Now we need to check if we still have duplicated rows depending on other columns"
   ]
  },
  {
   "cell_type": "markdown",
   "metadata": {},
   "source": [
    "Check duplicates based on: **date_time**"
   ]
  },
  {
   "cell_type": "code",
   "execution_count": 24,
   "metadata": {},
   "outputs": [
    {
     "data": {
      "text/html": [
       "<div>\n",
       "<style scoped>\n",
       "    .dataframe tbody tr th:only-of-type {\n",
       "        vertical-align: middle;\n",
       "    }\n",
       "\n",
       "    .dataframe tbody tr th {\n",
       "        vertical-align: top;\n",
       "    }\n",
       "\n",
       "    .dataframe thead th {\n",
       "        text-align: right;\n",
       "    }\n",
       "</style>\n",
       "<table border=\"1\" class=\"dataframe\">\n",
       "  <thead>\n",
       "    <tr style=\"text-align: right;\">\n",
       "      <th></th>\n",
       "      <th>product_id</th>\n",
       "      <th>category</th>\n",
       "      <th>source_order_id</th>\n",
       "      <th>order_number</th>\n",
       "      <th>position_in_order</th>\n",
       "      <th>pick_volume</th>\n",
       "      <th>quantity_unit</th>\n",
       "      <th>date_time</th>\n",
       "      <th>date</th>\n",
       "      <th>time</th>\n",
       "    </tr>\n",
       "  </thead>\n",
       "  <tbody>\n",
       "    <tr>\n",
       "      <th>19</th>\n",
       "      <td>2</td>\n",
       "      <td>SHL</td>\n",
       "      <td>48</td>\n",
       "      <td>7055448</td>\n",
       "      <td>1</td>\n",
       "      <td>19</td>\n",
       "      <td>St</td>\n",
       "      <td>2017-06-30 13:06:07</td>\n",
       "      <td>2017-06-30</td>\n",
       "      <td>13</td>\n",
       "    </tr>\n",
       "    <tr>\n",
       "      <th>29</th>\n",
       "      <td>3</td>\n",
       "      <td>SHL</td>\n",
       "      <td>48</td>\n",
       "      <td>7055448</td>\n",
       "      <td>2</td>\n",
       "      <td>10</td>\n",
       "      <td>St</td>\n",
       "      <td>2017-06-30 12:04:51</td>\n",
       "      <td>2017-06-30</td>\n",
       "      <td>12</td>\n",
       "    </tr>\n",
       "    <tr>\n",
       "      <th>37</th>\n",
       "      <td>4</td>\n",
       "      <td>SHL</td>\n",
       "      <td>48</td>\n",
       "      <td>7055448</td>\n",
       "      <td>3</td>\n",
       "      <td>10</td>\n",
       "      <td>St</td>\n",
       "      <td>2017-06-30 11:22:56</td>\n",
       "      <td>2017-06-30</td>\n",
       "      <td>11</td>\n",
       "    </tr>\n",
       "    <tr>\n",
       "      <th>201</th>\n",
       "      <td>45</td>\n",
       "      <td>SHL</td>\n",
       "      <td>48</td>\n",
       "      <td>6920505</td>\n",
       "      <td>2</td>\n",
       "      <td>4</td>\n",
       "      <td>St</td>\n",
       "      <td>2017-06-06 10:51:53</td>\n",
       "      <td>2017-06-06</td>\n",
       "      <td>10</td>\n",
       "    </tr>\n",
       "    <tr>\n",
       "      <th>208</th>\n",
       "      <td>46</td>\n",
       "      <td>SHL</td>\n",
       "      <td>48</td>\n",
       "      <td>6920505</td>\n",
       "      <td>3</td>\n",
       "      <td>104</td>\n",
       "      <td>St</td>\n",
       "      <td>2017-06-06 10:58:54</td>\n",
       "      <td>2017-06-06</td>\n",
       "      <td>10</td>\n",
       "    </tr>\n",
       "  </tbody>\n",
       "</table>\n",
       "</div>"
      ],
      "text/plain": [
       "    product_id category source_order_id order_number  position_in_order  \\\n",
       "19           2      SHL              48      7055448                  1   \n",
       "29           3      SHL              48      7055448                  2   \n",
       "37           4      SHL              48      7055448                  3   \n",
       "201         45      SHL              48      6920505                  2   \n",
       "208         46      SHL              48      6920505                  3   \n",
       "\n",
       "     pick_volume quantity_unit           date_time       date  time  \n",
       "19            19            St 2017-06-30 13:06:07 2017-06-30    13  \n",
       "29            10            St 2017-06-30 12:04:51 2017-06-30    12  \n",
       "37            10            St 2017-06-30 11:22:56 2017-06-30    11  \n",
       "201            4            St 2017-06-06 10:51:53 2017-06-06    10  \n",
       "208          104            St 2017-06-06 10:58:54 2017-06-06    10  "
      ]
     },
     "execution_count": 24,
     "metadata": {},
     "output_type": "execute_result"
    }
   ],
   "source": [
    "# get duplicates dataframe over the date_time column\n",
    "duplicates_date_time = pick_data.duplicated(subset = \"date_time\")\n",
    "pick_data[duplicates_date_time].head()"
   ]
  },
  {
   "cell_type": "code",
   "execution_count": 25,
   "metadata": {},
   "outputs": [
    {
     "name": "stdout",
     "output_type": "stream",
     "text": [
      "11006405\n"
     ]
    }
   ],
   "source": [
    "# get the count of duplicated values\n",
    "print(len(pick_data[duplicates_date_time]))"
   ]
  },
  {
   "cell_type": "markdown",
   "metadata": {},
   "source": [
    "* Acoording to the previous analysis, we have **11.006.405** duplicated values (based on the **date_time** column)"
   ]
  },
  {
   "cell_type": "markdown",
   "metadata": {},
   "source": [
    "Check some examples of duplicates based on **date_time** column"
   ]
  },
  {
   "cell_type": "code",
   "execution_count": 27,
   "metadata": {},
   "outputs": [
    {
     "data": {
      "text/html": [
       "<div>\n",
       "<style scoped>\n",
       "    .dataframe tbody tr th:only-of-type {\n",
       "        vertical-align: middle;\n",
       "    }\n",
       "\n",
       "    .dataframe tbody tr th {\n",
       "        vertical-align: top;\n",
       "    }\n",
       "\n",
       "    .dataframe thead th {\n",
       "        text-align: right;\n",
       "    }\n",
       "</style>\n",
       "<table border=\"1\" class=\"dataframe\">\n",
       "  <thead>\n",
       "    <tr style=\"text-align: right;\">\n",
       "      <th></th>\n",
       "      <th>product_id</th>\n",
       "      <th>category</th>\n",
       "      <th>source_order_id</th>\n",
       "      <th>order_number</th>\n",
       "      <th>position_in_order</th>\n",
       "      <th>pick_volume</th>\n",
       "      <th>quantity_unit</th>\n",
       "      <th>date_time</th>\n",
       "      <th>date</th>\n",
       "      <th>time</th>\n",
       "    </tr>\n",
       "  </thead>\n",
       "  <tbody>\n",
       "    <tr>\n",
       "      <th>18</th>\n",
       "      <td>2</td>\n",
       "      <td>SHL</td>\n",
       "      <td>48</td>\n",
       "      <td>7055448</td>\n",
       "      <td>1</td>\n",
       "      <td>16</td>\n",
       "      <td>St</td>\n",
       "      <td>2017-06-30 13:06:07</td>\n",
       "      <td>2017-06-30</td>\n",
       "      <td>13</td>\n",
       "    </tr>\n",
       "    <tr>\n",
       "      <th>19</th>\n",
       "      <td>2</td>\n",
       "      <td>SHL</td>\n",
       "      <td>48</td>\n",
       "      <td>7055448</td>\n",
       "      <td>1</td>\n",
       "      <td>19</td>\n",
       "      <td>St</td>\n",
       "      <td>2017-06-30 13:06:07</td>\n",
       "      <td>2017-06-30</td>\n",
       "      <td>13</td>\n",
       "    </tr>\n",
       "  </tbody>\n",
       "</table>\n",
       "</div>"
      ],
      "text/plain": [
       "   product_id category source_order_id order_number  position_in_order  \\\n",
       "18          2      SHL              48      7055448                  1   \n",
       "19          2      SHL              48      7055448                  1   \n",
       "\n",
       "    pick_volume quantity_unit           date_time       date  time  \n",
       "18           16            St 2017-06-30 13:06:07 2017-06-30    13  \n",
       "19           19            St 2017-06-30 13:06:07 2017-06-30    13  "
      ]
     },
     "execution_count": 27,
     "metadata": {},
     "output_type": "execute_result"
    }
   ],
   "source": [
    "# check the duplicated cases for row 14 over all columns\n",
    "index_to_check = 19\n",
    "columns_to_evaluate = [\"date_time\"]\n",
    "\n",
    "check_duplicates_row_columns(pick_data, index_to_check, columns_to_evaluate)"
   ]
  },
  {
   "cell_type": "markdown",
   "metadata": {},
   "source": [
    "> **Fuck haha :/ we need to talk about what to to with this data**"
   ]
  }
 ],
 "metadata": {
  "kernelspec": {
   "display_name": "Python 3",
   "language": "python",
   "name": "python3"
  },
  "language_info": {
   "codemirror_mode": {
    "name": "ipython",
    "version": 3
   },
   "file_extension": ".py",
   "mimetype": "text/x-python",
   "name": "python",
   "nbconvert_exporter": "python",
   "pygments_lexer": "ipython3",
   "version": "3.12.2"
  }
 },
 "nbformat": 4,
 "nbformat_minor": 2
}
