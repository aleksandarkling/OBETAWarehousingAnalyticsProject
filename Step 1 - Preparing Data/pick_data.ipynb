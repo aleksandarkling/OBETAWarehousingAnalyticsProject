{
 "cells": [
  {
   "cell_type": "markdown",
   "metadata": {},
   "source": [
    "# **DATA ANALYSIS - \"PICK_DATA\"**"
   ]
  },
  {
   "cell_type": "markdown",
   "metadata": {},
   "source": [
    "## Packages"
   ]
  },
  {
   "cell_type": "markdown",
   "metadata": {},
   "source": [
    "### Installing packages"
   ]
  },
  {
   "cell_type": "code",
   "execution_count": 55,
   "metadata": {},
   "outputs": [],
   "source": [
    "# !pip3 install numpy\n",
    "# !pip3 install --upgrade pip\n",
    "# !pip3 install pandas\n",
    "# !pip3 install matplotlib\n",
    "# ! pip3 install seaborn"
   ]
  },
  {
   "cell_type": "markdown",
   "metadata": {},
   "source": [
    "### Importing packages"
   ]
  },
  {
   "cell_type": "code",
   "execution_count": 56,
   "metadata": {},
   "outputs": [],
   "source": [
    "import time\n",
    "import random\n",
    "import numpy as np\n",
    "import pandas as pd\n",
    "import seaborn as sns\n",
    "from datetime import datetime\n",
    "import matplotlib.pyplot as plt\n",
    "from itertools import combinations\n",
    "from IPython.display import clear_output"
   ]
  },
  {
   "cell_type": "markdown",
   "metadata": {},
   "source": [
    "## Functions"
   ]
  },
  {
   "cell_type": "markdown",
   "metadata": {},
   "source": [
    "Function that returns an overview of the **pick_data** based on all columns"
   ]
  },
  {
   "cell_type": "code",
   "execution_count": 57,
   "metadata": {},
   "outputs": [],
   "source": [
    "# function that returns an overview of the pick_data based on all columns\n",
    "def general_overview(pick_data):\n",
    "\n",
    "    #get unique values for each variable\n",
    "    unique_number_of_products = len(set(pick_data.product_id.values))\n",
    "    unique_number_of_categories = len(set(pick_data.category.values))\n",
    "    unique_number_of_source_order_ids = len(set(pick_data.source_order_id.values))\n",
    "    unique_number_of_order_numbers = len(set(pick_data.order_number.values))\n",
    "    unique_number_of_positions_in_order = len(set(pick_data.position_in_order.values))\n",
    "    unique_number_of_quantity_unit = len(set(pick_data.quantity_unit.values))\n",
    "\n",
    "    # print the results for a better understanding\n",
    "    print(\"The length of the data is: \", len(pick_data))\n",
    "    print(\"-----\")\n",
    "    print(\"-----\")\n",
    "    print(\"product_id\")\n",
    "    print(\"The number of unique product_id is: \",  unique_number_of_products)\n",
    "    print(\"-----\")\n",
    "    print(\"category\")\n",
    "    print(\"The number of unique category is: \", unique_number_of_categories)\n",
    "    print(\"-----\")\n",
    "    print(\"source_order_id\")\n",
    "    print(\"The number of unique source_order_id is: \", unique_number_of_source_order_ids)\n",
    "    print(\"-----\")\n",
    "    print(\"order_number\")\n",
    "    print(\"The number of unique order_number is: \", unique_number_of_order_numbers)\n",
    "    print(\"-----\")\n",
    "    print(\"position_in_order\")\n",
    "    print(\"The number of unique position_in_order is: \", unique_number_of_positions_in_order)\n",
    "    print(\"-----\")\n",
    "    print(\"pick_volume\")\n",
    "    print(\"The min value of pick_volume is: \", pick_data.pick_volume.min())\n",
    "    print(\"The max value of pick_volume is: \", pick_data.pick_volume.max())\n",
    "    print(\"-----\")\n",
    "    print(\"quantity_unit\")\n",
    "    print(\"The number of unique quantity_unit is: \", unique_number_of_quantity_unit)\n",
    "    print(\"-----\")\n",
    "    print(\"date_time\")\n",
    "    print(\"The first date_time of the picks_data is: \", pick_data.date_time.min())\n",
    "    print(\"The last date_time of the picks_data is: \", pick_data.date_time.max())"
   ]
  },
  {
   "cell_type": "markdown",
   "metadata": {},
   "source": [
    "Function that checks duplicate rows showing their duplicated partners based on a column selection"
   ]
  },
  {
   "cell_type": "code",
   "execution_count": 58,
   "metadata": {},
   "outputs": [],
   "source": [
    "def check_duplicates_row_columns(pick_data, index_to_check, columns_to_evaluate):\n",
    "\n",
    "    index_row_pick_data = pick_data.loc[index_to_check, columns_to_evaluate]\n",
    "\n",
    "    matching_rows = pick_data[pick_data[columns_to_evaluate].eq(index_row_pick_data).all(axis=1)]\n",
    "    \n",
    "    return(matching_rows)"
   ]
  },
  {
   "cell_type": "markdown",
   "metadata": {},
   "source": [
    "Function that checks if integer list is sequential"
   ]
  },
  {
   "cell_type": "code",
   "execution_count": 59,
   "metadata": {},
   "outputs": [],
   "source": [
    "def is_sequential(int_list):\n",
    "    # Sort the list first (if not already sorted)\n",
    "    sorted_list = sorted(int_list)\n",
    "\n",
    "    # Check if each consecutive number differs by 1\n",
    "    for i in range(len(sorted_list) - 1):\n",
    "        if sorted_list[i + 1] != sorted_list[i] + 1:\n",
    "            return False\n",
    "\n",
    "    return True"
   ]
  },
  {
   "cell_type": "markdown",
   "metadata": {},
   "source": [
    "Function that counts the number of times a list is not sequential"
   ]
  },
  {
   "cell_type": "code",
   "execution_count": 60,
   "metadata": {},
   "outputs": [],
   "source": [
    "def count_non_sequential(int_list):\n",
    "    # Sort the list first (if not already sorted)\n",
    "    sorted_list = sorted(int_list)\n",
    "\n",
    "    # Initialize a counter for non-sequential occurrences\n",
    "    non_sequential_count = 0\n",
    "\n",
    "    # Check each consecutive number\n",
    "    for i in range(len(sorted_list) - 1):\n",
    "        if sorted_list[i + 1] != sorted_list[i] + 1:\n",
    "            non_sequential_count += 1\n",
    "\n",
    "    return non_sequential_count"
   ]
  },
  {
   "cell_type": "markdown",
   "metadata": {},
   "source": [
    "Function that identifies the **outliers** in **product_id** taking parameters **Q1**, **Q3**"
   ]
  },
  {
   "cell_type": "code",
   "execution_count": 61,
   "metadata": {},
   "outputs": [],
   "source": [
    "def product_id_volume_outliers(Q1, Q3, df, product_id):\n",
    "    \n",
    "    pick_data_volume_evaluation = df.copy()\n",
    "    pick_data_volume_evaluation = pick_data_volume_evaluation[pick_data_volume_evaluation[\"product_id\"] == product_id]\n",
    "    pick_data_volume_evaluation = pick_data_volume_evaluation.reset_index(drop=True)\n",
    "\n",
    "    Q1 = pick_data_volume_evaluation['pick_volume'].quantile(Q1)\n",
    "    Q3 = pick_data_volume_evaluation['pick_volume'].quantile(Q3)\n",
    "\n",
    "    # Calculate IQR\n",
    "    IQR = Q3 - Q1\n",
    "\n",
    "    # Define bounds for outliers\n",
    "    # lower_bound = Q1 - 1.5 * IQR\n",
    "    lower_bound = 0\n",
    "    upper_bound = Q3 + 1.5 * IQR\n",
    "\n",
    "    print(lower_bound, upper_bound)\n",
    "\n",
    "    # Identify outliers\n",
    "    outliers = pick_data_volume_evaluation[(pick_data_volume_evaluation[\"pick_volume\"] < lower_bound) | (pick_data_volume_evaluation[\"pick_volume\"] > upper_bound)]\n",
    "\n",
    "    return outliers "
   ]
  },
  {
   "cell_type": "markdown",
   "metadata": {},
   "source": [
    "## Importing data (E)"
   ]
  },
  {
   "cell_type": "markdown",
   "metadata": {},
   "source": [
    "### Importing data"
   ]
  },
  {
   "cell_type": "code",
   "execution_count": 62,
   "metadata": {},
   "outputs": [
    {
     "name": "stderr",
     "output_type": "stream",
     "text": [
      "/var/folders/0m/9hrzmrmx5rvbnxjrsct8cd500000gn/T/ipykernel_12152/757817874.py:2: DtypeWarning: Columns (0,3) have mixed types. Specify dtype option on import or set low_memory=False.\n",
      "  pick_data = pd.read_csv(\"/Users/ANDRES/Documents/GitHub/OBETAWarehousingAnalyticsProject/Data/003 pick_data.csv\", header=None)\n"
     ]
    }
   ],
   "source": [
    "# read cvs pick_data file\n",
    "pick_data = pd.read_csv(\"/Users/ANDRES/Documents/GitHub/OBETAWarehousingAnalyticsProject/Data/003 pick_data.csv\", header=None)"
   ]
  },
  {
   "cell_type": "markdown",
   "metadata": {},
   "source": [
    "Head of data"
   ]
  },
  {
   "cell_type": "code",
   "execution_count": 63,
   "metadata": {},
   "outputs": [
    {
     "data": {
      "text/html": [
       "<div>\n",
       "<style scoped>\n",
       "    .dataframe tbody tr th:only-of-type {\n",
       "        vertical-align: middle;\n",
       "    }\n",
       "\n",
       "    .dataframe tbody tr th {\n",
       "        vertical-align: top;\n",
       "    }\n",
       "\n",
       "    .dataframe thead th {\n",
       "        text-align: right;\n",
       "    }\n",
       "</style>\n",
       "<table border=\"1\" class=\"dataframe\">\n",
       "  <thead>\n",
       "    <tr style=\"text-align: right;\">\n",
       "      <th></th>\n",
       "      <th>0</th>\n",
       "      <th>1</th>\n",
       "      <th>2</th>\n",
       "      <th>3</th>\n",
       "      <th>4</th>\n",
       "      <th>5</th>\n",
       "      <th>6</th>\n",
       "      <th>7</th>\n",
       "    </tr>\n",
       "  </thead>\n",
       "  <tbody>\n",
       "    <tr>\n",
       "      <th>0</th>\n",
       "      <td>2</td>\n",
       "      <td>SHL</td>\n",
       "      <td>48</td>\n",
       "      <td>7055448</td>\n",
       "      <td>1</td>\n",
       "      <td>29</td>\n",
       "      <td>St</td>\n",
       "      <td>2017-06-30 11:15:24.0000000</td>\n",
       "    </tr>\n",
       "    <tr>\n",
       "      <th>1</th>\n",
       "      <td>2</td>\n",
       "      <td>SHL</td>\n",
       "      <td>48</td>\n",
       "      <td>7055448</td>\n",
       "      <td>1</td>\n",
       "      <td>30</td>\n",
       "      <td>St</td>\n",
       "      <td>2017-06-30 11:22:35.0000000</td>\n",
       "    </tr>\n",
       "    <tr>\n",
       "      <th>2</th>\n",
       "      <td>2</td>\n",
       "      <td>SHL</td>\n",
       "      <td>48</td>\n",
       "      <td>7055448</td>\n",
       "      <td>1</td>\n",
       "      <td>30</td>\n",
       "      <td>St</td>\n",
       "      <td>2017-06-30 12:04:50.0000000</td>\n",
       "    </tr>\n",
       "    <tr>\n",
       "      <th>3</th>\n",
       "      <td>2</td>\n",
       "      <td>SHL</td>\n",
       "      <td>48</td>\n",
       "      <td>7055448</td>\n",
       "      <td>1</td>\n",
       "      <td>20</td>\n",
       "      <td>St</td>\n",
       "      <td>2017-06-30 12:04:51.0000000</td>\n",
       "    </tr>\n",
       "    <tr>\n",
       "      <th>4</th>\n",
       "      <td>2</td>\n",
       "      <td>SHL</td>\n",
       "      <td>48</td>\n",
       "      <td>7055448</td>\n",
       "      <td>1</td>\n",
       "      <td>30</td>\n",
       "      <td>St</td>\n",
       "      <td>2017-06-30 12:05:02.0000000</td>\n",
       "    </tr>\n",
       "  </tbody>\n",
       "</table>\n",
       "</div>"
      ],
      "text/plain": [
       "   0    1   2        3  4   5   6                            7\n",
       "0  2  SHL  48  7055448  1  29  St  2017-06-30 11:15:24.0000000\n",
       "1  2  SHL  48  7055448  1  30  St  2017-06-30 11:22:35.0000000\n",
       "2  2  SHL  48  7055448  1  30  St  2017-06-30 12:04:50.0000000\n",
       "3  2  SHL  48  7055448  1  20  St  2017-06-30 12:04:51.0000000\n",
       "4  2  SHL  48  7055448  1  30  St  2017-06-30 12:05:02.0000000"
      ]
     },
     "execution_count": 63,
     "metadata": {},
     "output_type": "execute_result"
    }
   ],
   "source": [
    "# print head of data\n",
    "pick_data.head()"
   ]
  },
  {
   "cell_type": "markdown",
   "metadata": {},
   "source": [
    "### Matching PBI Schema"
   ]
  },
  {
   "cell_type": "markdown",
   "metadata": {},
   "source": [
    "Specify columns names"
   ]
  },
  {
   "cell_type": "code",
   "execution_count": 64,
   "metadata": {},
   "outputs": [],
   "source": [
    "# rename columns of data to match schema\n",
    "pick_data.columns = [\"product_id\", \"category\", \"source_order_id\", \"order_number\", \"position_in_order\", \"pick_volume\", \"quantity_unit\", \"date_time\"]"
   ]
  },
  {
   "cell_type": "markdown",
   "metadata": {},
   "source": [
    "Check applied changes"
   ]
  },
  {
   "cell_type": "code",
   "execution_count": 65,
   "metadata": {},
   "outputs": [
    {
     "data": {
      "text/html": [
       "<div>\n",
       "<style scoped>\n",
       "    .dataframe tbody tr th:only-of-type {\n",
       "        vertical-align: middle;\n",
       "    }\n",
       "\n",
       "    .dataframe tbody tr th {\n",
       "        vertical-align: top;\n",
       "    }\n",
       "\n",
       "    .dataframe thead th {\n",
       "        text-align: right;\n",
       "    }\n",
       "</style>\n",
       "<table border=\"1\" class=\"dataframe\">\n",
       "  <thead>\n",
       "    <tr style=\"text-align: right;\">\n",
       "      <th></th>\n",
       "      <th>product_id</th>\n",
       "      <th>category</th>\n",
       "      <th>source_order_id</th>\n",
       "      <th>order_number</th>\n",
       "      <th>position_in_order</th>\n",
       "      <th>pick_volume</th>\n",
       "      <th>quantity_unit</th>\n",
       "      <th>date_time</th>\n",
       "    </tr>\n",
       "  </thead>\n",
       "  <tbody>\n",
       "    <tr>\n",
       "      <th>0</th>\n",
       "      <td>2</td>\n",
       "      <td>SHL</td>\n",
       "      <td>48</td>\n",
       "      <td>7055448</td>\n",
       "      <td>1</td>\n",
       "      <td>29</td>\n",
       "      <td>St</td>\n",
       "      <td>2017-06-30 11:15:24.0000000</td>\n",
       "    </tr>\n",
       "    <tr>\n",
       "      <th>1</th>\n",
       "      <td>2</td>\n",
       "      <td>SHL</td>\n",
       "      <td>48</td>\n",
       "      <td>7055448</td>\n",
       "      <td>1</td>\n",
       "      <td>30</td>\n",
       "      <td>St</td>\n",
       "      <td>2017-06-30 11:22:35.0000000</td>\n",
       "    </tr>\n",
       "    <tr>\n",
       "      <th>2</th>\n",
       "      <td>2</td>\n",
       "      <td>SHL</td>\n",
       "      <td>48</td>\n",
       "      <td>7055448</td>\n",
       "      <td>1</td>\n",
       "      <td>30</td>\n",
       "      <td>St</td>\n",
       "      <td>2017-06-30 12:04:50.0000000</td>\n",
       "    </tr>\n",
       "    <tr>\n",
       "      <th>3</th>\n",
       "      <td>2</td>\n",
       "      <td>SHL</td>\n",
       "      <td>48</td>\n",
       "      <td>7055448</td>\n",
       "      <td>1</td>\n",
       "      <td>20</td>\n",
       "      <td>St</td>\n",
       "      <td>2017-06-30 12:04:51.0000000</td>\n",
       "    </tr>\n",
       "    <tr>\n",
       "      <th>4</th>\n",
       "      <td>2</td>\n",
       "      <td>SHL</td>\n",
       "      <td>48</td>\n",
       "      <td>7055448</td>\n",
       "      <td>1</td>\n",
       "      <td>30</td>\n",
       "      <td>St</td>\n",
       "      <td>2017-06-30 12:05:02.0000000</td>\n",
       "    </tr>\n",
       "  </tbody>\n",
       "</table>\n",
       "</div>"
      ],
      "text/plain": [
       "  product_id category  source_order_id order_number  position_in_order  \\\n",
       "0          2      SHL               48      7055448                  1   \n",
       "1          2      SHL               48      7055448                  1   \n",
       "2          2      SHL               48      7055448                  1   \n",
       "3          2      SHL               48      7055448                  1   \n",
       "4          2      SHL               48      7055448                  1   \n",
       "\n",
       "   pick_volume quantity_unit                    date_time  \n",
       "0           29            St  2017-06-30 11:15:24.0000000  \n",
       "1           30            St  2017-06-30 11:22:35.0000000  \n",
       "2           30            St  2017-06-30 12:04:50.0000000  \n",
       "3           20            St  2017-06-30 12:04:51.0000000  \n",
       "4           30            St  2017-06-30 12:05:02.0000000  "
      ]
     },
     "execution_count": 65,
     "metadata": {},
     "output_type": "execute_result"
    }
   ],
   "source": [
    "# check head of data to see if columns match\n",
    "pick_data.head()"
   ]
  },
  {
   "cell_type": "markdown",
   "metadata": {},
   "source": [
    "Matching data types"
   ]
  },
  {
   "cell_type": "code",
   "execution_count": 66,
   "metadata": {},
   "outputs": [],
   "source": [
    "# assign data types to pick_data to match schema\n",
    "pick_data[\"product_id\"] = pick_data[\"product_id\"].astype(str)\n",
    "pick_data[\"category\"] = pick_data[\"category\"].astype(str)\n",
    "pick_data[\"source_order_id\"] = pick_data[\"source_order_id\"].astype(str)\n",
    "pick_data[\"order_number\"] = pick_data[\"order_number\"].astype(str)\n",
    "pick_data[\"position_in_order\"] = pick_data[\"position_in_order\"].astype(int)\n",
    "pick_data[\"pick_volume\"] = pick_data[\"pick_volume\"].astype(int)\n",
    "pick_data[\"quantity_unit\"] = pick_data[\"quantity_unit\"].astype(str)\n",
    "pick_data[\"date_time\"] = pd.to_datetime(pick_data[\"date_time\"])"
   ]
  },
  {
   "cell_type": "code",
   "execution_count": 67,
   "metadata": {},
   "outputs": [
    {
     "data": {
      "text/html": [
       "<div>\n",
       "<style scoped>\n",
       "    .dataframe tbody tr th:only-of-type {\n",
       "        vertical-align: middle;\n",
       "    }\n",
       "\n",
       "    .dataframe tbody tr th {\n",
       "        vertical-align: top;\n",
       "    }\n",
       "\n",
       "    .dataframe thead th {\n",
       "        text-align: right;\n",
       "    }\n",
       "</style>\n",
       "<table border=\"1\" class=\"dataframe\">\n",
       "  <thead>\n",
       "    <tr style=\"text-align: right;\">\n",
       "      <th></th>\n",
       "      <th>product_id</th>\n",
       "      <th>category</th>\n",
       "      <th>source_order_id</th>\n",
       "      <th>order_number</th>\n",
       "      <th>position_in_order</th>\n",
       "      <th>pick_volume</th>\n",
       "      <th>quantity_unit</th>\n",
       "      <th>date_time</th>\n",
       "    </tr>\n",
       "  </thead>\n",
       "  <tbody>\n",
       "    <tr>\n",
       "      <th>0</th>\n",
       "      <td>2</td>\n",
       "      <td>SHL</td>\n",
       "      <td>48</td>\n",
       "      <td>7055448</td>\n",
       "      <td>1</td>\n",
       "      <td>29</td>\n",
       "      <td>St</td>\n",
       "      <td>2017-06-30 11:15:24</td>\n",
       "    </tr>\n",
       "    <tr>\n",
       "      <th>1</th>\n",
       "      <td>2</td>\n",
       "      <td>SHL</td>\n",
       "      <td>48</td>\n",
       "      <td>7055448</td>\n",
       "      <td>1</td>\n",
       "      <td>30</td>\n",
       "      <td>St</td>\n",
       "      <td>2017-06-30 11:22:35</td>\n",
       "    </tr>\n",
       "    <tr>\n",
       "      <th>2</th>\n",
       "      <td>2</td>\n",
       "      <td>SHL</td>\n",
       "      <td>48</td>\n",
       "      <td>7055448</td>\n",
       "      <td>1</td>\n",
       "      <td>30</td>\n",
       "      <td>St</td>\n",
       "      <td>2017-06-30 12:04:50</td>\n",
       "    </tr>\n",
       "    <tr>\n",
       "      <th>3</th>\n",
       "      <td>2</td>\n",
       "      <td>SHL</td>\n",
       "      <td>48</td>\n",
       "      <td>7055448</td>\n",
       "      <td>1</td>\n",
       "      <td>20</td>\n",
       "      <td>St</td>\n",
       "      <td>2017-06-30 12:04:51</td>\n",
       "    </tr>\n",
       "    <tr>\n",
       "      <th>4</th>\n",
       "      <td>2</td>\n",
       "      <td>SHL</td>\n",
       "      <td>48</td>\n",
       "      <td>7055448</td>\n",
       "      <td>1</td>\n",
       "      <td>30</td>\n",
       "      <td>St</td>\n",
       "      <td>2017-06-30 12:05:02</td>\n",
       "    </tr>\n",
       "  </tbody>\n",
       "</table>\n",
       "</div>"
      ],
      "text/plain": [
       "  product_id category source_order_id order_number  position_in_order  \\\n",
       "0          2      SHL              48      7055448                  1   \n",
       "1          2      SHL              48      7055448                  1   \n",
       "2          2      SHL              48      7055448                  1   \n",
       "3          2      SHL              48      7055448                  1   \n",
       "4          2      SHL              48      7055448                  1   \n",
       "\n",
       "   pick_volume quantity_unit           date_time  \n",
       "0           29            St 2017-06-30 11:15:24  \n",
       "1           30            St 2017-06-30 11:22:35  \n",
       "2           30            St 2017-06-30 12:04:50  \n",
       "3           20            St 2017-06-30 12:04:51  \n",
       "4           30            St 2017-06-30 12:05:02  "
      ]
     },
     "execution_count": 67,
     "metadata": {},
     "output_type": "execute_result"
    }
   ],
   "source": [
    "# check head of data to evaluate if any change damaged pick_data\n",
    "pick_data.head()"
   ]
  },
  {
   "cell_type": "code",
   "execution_count": 68,
   "metadata": {},
   "outputs": [
    {
     "data": {
      "text/html": [
       "<div>\n",
       "<style scoped>\n",
       "    .dataframe tbody tr th:only-of-type {\n",
       "        vertical-align: middle;\n",
       "    }\n",
       "\n",
       "    .dataframe tbody tr th {\n",
       "        vertical-align: top;\n",
       "    }\n",
       "\n",
       "    .dataframe thead th {\n",
       "        text-align: right;\n",
       "    }\n",
       "</style>\n",
       "<table border=\"1\" class=\"dataframe\">\n",
       "  <thead>\n",
       "    <tr style=\"text-align: right;\">\n",
       "      <th></th>\n",
       "      <th>product_id</th>\n",
       "      <th>category</th>\n",
       "      <th>source_order_id</th>\n",
       "      <th>order_number</th>\n",
       "      <th>position_in_order</th>\n",
       "      <th>pick_volume</th>\n",
       "      <th>quantity_unit</th>\n",
       "      <th>date_time</th>\n",
       "    </tr>\n",
       "  </thead>\n",
       "  <tbody>\n",
       "    <tr>\n",
       "      <th>0</th>\n",
       "      <td>2</td>\n",
       "      <td>SHL</td>\n",
       "      <td>48</td>\n",
       "      <td>7055448</td>\n",
       "      <td>1</td>\n",
       "      <td>29</td>\n",
       "      <td>St</td>\n",
       "      <td>2017-06-30 11:15:24</td>\n",
       "    </tr>\n",
       "    <tr>\n",
       "      <th>1</th>\n",
       "      <td>2</td>\n",
       "      <td>SHL</td>\n",
       "      <td>48</td>\n",
       "      <td>7055448</td>\n",
       "      <td>1</td>\n",
       "      <td>30</td>\n",
       "      <td>St</td>\n",
       "      <td>2017-06-30 11:22:35</td>\n",
       "    </tr>\n",
       "    <tr>\n",
       "      <th>2</th>\n",
       "      <td>2</td>\n",
       "      <td>SHL</td>\n",
       "      <td>48</td>\n",
       "      <td>7055448</td>\n",
       "      <td>1</td>\n",
       "      <td>30</td>\n",
       "      <td>St</td>\n",
       "      <td>2017-06-30 12:04:50</td>\n",
       "    </tr>\n",
       "    <tr>\n",
       "      <th>3</th>\n",
       "      <td>2</td>\n",
       "      <td>SHL</td>\n",
       "      <td>48</td>\n",
       "      <td>7055448</td>\n",
       "      <td>1</td>\n",
       "      <td>20</td>\n",
       "      <td>St</td>\n",
       "      <td>2017-06-30 12:04:51</td>\n",
       "    </tr>\n",
       "    <tr>\n",
       "      <th>4</th>\n",
       "      <td>2</td>\n",
       "      <td>SHL</td>\n",
       "      <td>48</td>\n",
       "      <td>7055448</td>\n",
       "      <td>1</td>\n",
       "      <td>30</td>\n",
       "      <td>St</td>\n",
       "      <td>2017-06-30 12:05:02</td>\n",
       "    </tr>\n",
       "  </tbody>\n",
       "</table>\n",
       "</div>"
      ],
      "text/plain": [
       "  product_id category source_order_id order_number  position_in_order  \\\n",
       "0          2      SHL              48      7055448                  1   \n",
       "1          2      SHL              48      7055448                  1   \n",
       "2          2      SHL              48      7055448                  1   \n",
       "3          2      SHL              48      7055448                  1   \n",
       "4          2      SHL              48      7055448                  1   \n",
       "\n",
       "   pick_volume quantity_unit           date_time  \n",
       "0           29            St 2017-06-30 11:15:24  \n",
       "1           30            St 2017-06-30 11:22:35  \n",
       "2           30            St 2017-06-30 12:04:50  \n",
       "3           20            St 2017-06-30 12:04:51  \n",
       "4           30            St 2017-06-30 12:05:02  "
      ]
     },
     "execution_count": 68,
     "metadata": {},
     "output_type": "execute_result"
    }
   ],
   "source": [
    "pick_data.head()"
   ]
  },
  {
   "cell_type": "markdown",
   "metadata": {},
   "source": [
    "### Data description"
   ]
  },
  {
   "cell_type": "markdown",
   "metadata": {},
   "source": [
    "General information"
   ]
  },
  {
   "cell_type": "code",
   "execution_count": 69,
   "metadata": {},
   "outputs": [
    {
     "name": "stdout",
     "output_type": "stream",
     "text": [
      "<class 'pandas.core.frame.DataFrame'>\n",
      "RangeIndex: 33888990 entries, 0 to 33888989\n",
      "Data columns (total 8 columns):\n",
      " #   Column             Dtype         \n",
      "---  ------             -----         \n",
      " 0   product_id         object        \n",
      " 1   category           object        \n",
      " 2   source_order_id    object        \n",
      " 3   order_number       object        \n",
      " 4   position_in_order  int64         \n",
      " 5   pick_volume        int64         \n",
      " 6   quantity_unit      object        \n",
      " 7   date_time          datetime64[ns]\n",
      "dtypes: datetime64[ns](1), int64(2), object(5)\n",
      "memory usage: 2.0+ GB\n"
     ]
    }
   ],
   "source": [
    "# check all data types before data manipulation\n",
    "pick_data.info()"
   ]
  },
  {
   "cell_type": "markdown",
   "metadata": {},
   "source": [
    "### Data chackpoint (E)"
   ]
  },
  {
   "cell_type": "markdown",
   "metadata": {},
   "source": [
    "Save pick_data_t"
   ]
  },
  {
   "cell_type": "code",
   "execution_count": 70,
   "metadata": {},
   "outputs": [],
   "source": [
    "pick_data_t = pick_data.copy()"
   ]
  },
  {
   "cell_type": "markdown",
   "metadata": {},
   "source": [
    "## Data manipulation (T)"
   ]
  },
  {
   "cell_type": "markdown",
   "metadata": {},
   "source": [
    "### Data homogeneity"
   ]
  },
  {
   "cell_type": "markdown",
   "metadata": {},
   "source": [
    "#### General analysis"
   ]
  },
  {
   "cell_type": "markdown",
   "metadata": {},
   "source": [
    "General view"
   ]
  },
  {
   "cell_type": "code",
   "execution_count": 71,
   "metadata": {},
   "outputs": [
    {
     "name": "stdout",
     "output_type": "stream",
     "text": [
      "The length of the data is:  33888990\n",
      "-----\n",
      "-----\n",
      "product_id\n",
      "The number of unique product_id is:  97338\n",
      "-----\n",
      "category\n",
      "The number of unique category is:  5\n",
      "-----\n",
      "source_order_id\n",
      "The number of unique source_order_id is:  2\n",
      "-----\n",
      "order_number\n",
      "The number of unique order_number is:  6956136\n",
      "-----\n",
      "position_in_order\n",
      "The number of unique position_in_order is:  340\n",
      "-----\n",
      "pick_volume\n",
      "The min value of pick_volume is:  -2000\n",
      "The max value of pick_volume is:  200000\n",
      "-----\n",
      "quantity_unit\n",
      "The number of unique quantity_unit is:  9\n",
      "-----\n",
      "date_time\n",
      "The first date_time of the picks_data is:  2011-06-23 00:00:01\n",
      "The last date_time of the picks_data is:  2020-07-14 11:42:01\n"
     ]
    }
   ],
   "source": [
    "# get a general overview\n",
    "general_overview(pick_data_t)"
   ]
  },
  {
   "cell_type": "markdown",
   "metadata": {},
   "source": [
    "#### Specific analysis"
   ]
  },
  {
   "cell_type": "markdown",
   "metadata": {},
   "source": [
    "##### product_id"
   ]
  },
  {
   "cell_type": "markdown",
   "metadata": {},
   "source": [
    "Check if **product_id** values are homogeneous"
   ]
  },
  {
   "cell_type": "code",
   "execution_count": 95,
   "metadata": {},
   "outputs": [
    {
     "data": {
      "text/html": [
       "<div>\n",
       "<style scoped>\n",
       "    .dataframe tbody tr th:only-of-type {\n",
       "        vertical-align: middle;\n",
       "    }\n",
       "\n",
       "    .dataframe tbody tr th {\n",
       "        vertical-align: top;\n",
       "    }\n",
       "\n",
       "    .dataframe thead th {\n",
       "        text-align: right;\n",
       "    }\n",
       "</style>\n",
       "<table border=\"1\" class=\"dataframe\">\n",
       "  <thead>\n",
       "    <tr style=\"text-align: right;\">\n",
       "      <th></th>\n",
       "      <th>product_id</th>\n",
       "      <th>category</th>\n",
       "      <th>source_order_id</th>\n",
       "      <th>order_number</th>\n",
       "      <th>position_in_order</th>\n",
       "      <th>pick_volume</th>\n",
       "      <th>quantity_unit</th>\n",
       "      <th>date_time</th>\n",
       "    </tr>\n",
       "  </thead>\n",
       "  <tbody>\n",
       "    <tr>\n",
       "      <th>0</th>\n",
       "      <td>2</td>\n",
       "      <td>SHL</td>\n",
       "      <td>48</td>\n",
       "      <td>7055448</td>\n",
       "      <td>1</td>\n",
       "      <td>29</td>\n",
       "      <td>St</td>\n",
       "      <td>2017-06-30 11:15:24</td>\n",
       "    </tr>\n",
       "    <tr>\n",
       "      <th>1</th>\n",
       "      <td>2</td>\n",
       "      <td>SHL</td>\n",
       "      <td>48</td>\n",
       "      <td>7055448</td>\n",
       "      <td>1</td>\n",
       "      <td>30</td>\n",
       "      <td>St</td>\n",
       "      <td>2017-06-30 11:22:35</td>\n",
       "    </tr>\n",
       "    <tr>\n",
       "      <th>2</th>\n",
       "      <td>2</td>\n",
       "      <td>SHL</td>\n",
       "      <td>48</td>\n",
       "      <td>7055448</td>\n",
       "      <td>1</td>\n",
       "      <td>30</td>\n",
       "      <td>St</td>\n",
       "      <td>2017-06-30 12:04:50</td>\n",
       "    </tr>\n",
       "    <tr>\n",
       "      <th>3</th>\n",
       "      <td>2</td>\n",
       "      <td>SHL</td>\n",
       "      <td>48</td>\n",
       "      <td>7055448</td>\n",
       "      <td>1</td>\n",
       "      <td>20</td>\n",
       "      <td>St</td>\n",
       "      <td>2017-06-30 12:04:51</td>\n",
       "    </tr>\n",
       "    <tr>\n",
       "      <th>4</th>\n",
       "      <td>2</td>\n",
       "      <td>SHL</td>\n",
       "      <td>48</td>\n",
       "      <td>7055448</td>\n",
       "      <td>1</td>\n",
       "      <td>30</td>\n",
       "      <td>St</td>\n",
       "      <td>2017-06-30 12:05:02</td>\n",
       "    </tr>\n",
       "  </tbody>\n",
       "</table>\n",
       "</div>"
      ],
      "text/plain": [
       "  product_id category source_order_id order_number  position_in_order  \\\n",
       "0          2      SHL              48      7055448                  1   \n",
       "1          2      SHL              48      7055448                  1   \n",
       "2          2      SHL              48      7055448                  1   \n",
       "3          2      SHL              48      7055448                  1   \n",
       "4          2      SHL              48      7055448                  1   \n",
       "\n",
       "   pick_volume quantity_unit           date_time  \n",
       "0           29            St 2017-06-30 11:15:24  \n",
       "1           30            St 2017-06-30 11:22:35  \n",
       "2           30            St 2017-06-30 12:04:50  \n",
       "3           20            St 2017-06-30 12:04:51  \n",
       "4           30            St 2017-06-30 12:05:02  "
      ]
     },
     "execution_count": 95,
     "metadata": {},
     "output_type": "execute_result"
    }
   ],
   "source": [
    "pick_data_t.head()"
   ]
  },
  {
   "cell_type": "code",
   "execution_count": 97,
   "metadata": {},
   "outputs": [
    {
     "data": {
      "text/plain": [
       "False"
      ]
     },
     "execution_count": 97,
     "metadata": {},
     "output_type": "execute_result"
    }
   ],
   "source": [
    "all(x.isdigit() for x in list(set(list(pick_data_t[\"product_id\"].values))))"
   ]
  },
  {
   "cell_type": "markdown",
   "metadata": {},
   "source": [
    "* **product_id** values are not always numerical"
   ]
  },
  {
   "cell_type": "markdown",
   "metadata": {},
   "source": [
    "##### category"
   ]
  },
  {
   "cell_type": "markdown",
   "metadata": {},
   "source": [
    "Check if products come from the same category everytime"
   ]
  },
  {
   "cell_type": "code",
   "execution_count": 72,
   "metadata": {},
   "outputs": [
    {
     "name": "stdout",
     "output_type": "stream",
     "text": [
      "{'AKL', 'Kabellager', 'Manuell', 'HRL', 'SHL'}\n"
     ]
    }
   ],
   "source": [
    "# check data in category\n",
    "print(set(pick_data_t.category.values))"
   ]
  },
  {
   "cell_type": "code",
   "execution_count": 73,
   "metadata": {},
   "outputs": [
    {
     "name": "stdout",
     "output_type": "stream",
     "text": [
      "AKL  shares  5  product_id with  Kabellager\n",
      "AKL  shares  11  product_id with  Manuell\n",
      "AKL  shares  2452  product_id with  HRL\n",
      "AKL  shares  42198  product_id with  SHL\n",
      "Kabellager  shares  29  product_id with  Manuell\n",
      "Kabellager  shares  550  product_id with  HRL\n",
      "Kabellager  shares  0  product_id with  SHL\n",
      "Manuell  shares  178  product_id with  HRL\n",
      "Manuell  shares  9  product_id with  SHL\n",
      "HRL  shares  1622  product_id with  SHL\n"
     ]
    }
   ],
   "source": [
    "# create a loop to evaluation how many products are picked from different categories\n",
    "\n",
    "category_unique_list = list(set(pick_data_t.category.values))\n",
    "\n",
    "for i, j in list(combinations(category_unique_list, 2)):\n",
    "            \n",
    "            # create a merge dataframe matching the products the categories (warehouses) share with each other\n",
    "            list_i = list(set(list(pick_data_t[pick_data_t[\"category\"]==i][\"product_id\"].values)))\n",
    "            list_j = list(set(list(pick_data_t[pick_data_t[\"category\"]==j][\"product_id\"].values)))\n",
    "            \n",
    "            # compare lists to identify common values\n",
    "            common_values_i_j = [x for x in list_i if x in list_j]\n",
    "            \n",
    "            # print the merge result\n",
    "            print(i, \" shares \", len(common_values_i_j), \" product_id with \", j)"
   ]
  },
  {
   "cell_type": "markdown",
   "metadata": {},
   "source": [
    "* Same **product_id** values can be picked from **different category** values"
   ]
  },
  {
   "cell_type": "markdown",
   "metadata": {},
   "source": [
    "##### source_order_id"
   ]
  },
  {
   "cell_type": "markdown",
   "metadata": {},
   "source": [
    "Check if **source_order_id** can vary in the same **order_number**"
   ]
  },
  {
   "cell_type": "code",
   "execution_count": 74,
   "metadata": {},
   "outputs": [
    {
     "name": "stdout",
     "output_type": "stream",
     "text": [
      "{'46', '48'}\n"
     ]
    }
   ],
   "source": [
    "# check data in source_order_id\n",
    "print(set(pick_data_t.source_order_id.values))"
   ]
  },
  {
   "cell_type": "code",
   "execution_count": 75,
   "metadata": {},
   "outputs": [
    {
     "data": {
      "text/html": [
       "<div>\n",
       "<style scoped>\n",
       "    .dataframe tbody tr th:only-of-type {\n",
       "        vertical-align: middle;\n",
       "    }\n",
       "\n",
       "    .dataframe tbody tr th {\n",
       "        vertical-align: top;\n",
       "    }\n",
       "\n",
       "    .dataframe thead th {\n",
       "        text-align: right;\n",
       "    }\n",
       "</style>\n",
       "<table border=\"1\" class=\"dataframe\">\n",
       "  <thead>\n",
       "    <tr style=\"text-align: right;\">\n",
       "      <th></th>\n",
       "      <th>product_id</th>\n",
       "      <th>category</th>\n",
       "      <th>source_order_id</th>\n",
       "      <th>order_number</th>\n",
       "      <th>position_in_order</th>\n",
       "      <th>pick_volume</th>\n",
       "      <th>quantity_unit</th>\n",
       "      <th>date_time</th>\n",
       "    </tr>\n",
       "  </thead>\n",
       "  <tbody>\n",
       "    <tr>\n",
       "      <th>0</th>\n",
       "      <td>2</td>\n",
       "      <td>SHL</td>\n",
       "      <td>48</td>\n",
       "      <td>7055448</td>\n",
       "      <td>1</td>\n",
       "      <td>29</td>\n",
       "      <td>St</td>\n",
       "      <td>2017-06-30 11:15:24</td>\n",
       "    </tr>\n",
       "    <tr>\n",
       "      <th>1</th>\n",
       "      <td>2</td>\n",
       "      <td>SHL</td>\n",
       "      <td>48</td>\n",
       "      <td>7055448</td>\n",
       "      <td>1</td>\n",
       "      <td>30</td>\n",
       "      <td>St</td>\n",
       "      <td>2017-06-30 11:22:35</td>\n",
       "    </tr>\n",
       "    <tr>\n",
       "      <th>2</th>\n",
       "      <td>2</td>\n",
       "      <td>SHL</td>\n",
       "      <td>48</td>\n",
       "      <td>7055448</td>\n",
       "      <td>1</td>\n",
       "      <td>30</td>\n",
       "      <td>St</td>\n",
       "      <td>2017-06-30 12:04:50</td>\n",
       "    </tr>\n",
       "    <tr>\n",
       "      <th>3</th>\n",
       "      <td>2</td>\n",
       "      <td>SHL</td>\n",
       "      <td>48</td>\n",
       "      <td>7055448</td>\n",
       "      <td>1</td>\n",
       "      <td>20</td>\n",
       "      <td>St</td>\n",
       "      <td>2017-06-30 12:04:51</td>\n",
       "    </tr>\n",
       "    <tr>\n",
       "      <th>4</th>\n",
       "      <td>2</td>\n",
       "      <td>SHL</td>\n",
       "      <td>48</td>\n",
       "      <td>7055448</td>\n",
       "      <td>1</td>\n",
       "      <td>30</td>\n",
       "      <td>St</td>\n",
       "      <td>2017-06-30 12:05:02</td>\n",
       "    </tr>\n",
       "  </tbody>\n",
       "</table>\n",
       "</div>"
      ],
      "text/plain": [
       "  product_id category source_order_id order_number  position_in_order  \\\n",
       "0          2      SHL              48      7055448                  1   \n",
       "1          2      SHL              48      7055448                  1   \n",
       "2          2      SHL              48      7055448                  1   \n",
       "3          2      SHL              48      7055448                  1   \n",
       "4          2      SHL              48      7055448                  1   \n",
       "\n",
       "   pick_volume quantity_unit           date_time  \n",
       "0           29            St 2017-06-30 11:15:24  \n",
       "1           30            St 2017-06-30 11:22:35  \n",
       "2           30            St 2017-06-30 12:04:50  \n",
       "3           20            St 2017-06-30 12:04:51  \n",
       "4           30            St 2017-06-30 12:05:02  "
      ]
     },
     "execution_count": 75,
     "metadata": {},
     "output_type": "execute_result"
    }
   ],
   "source": [
    "pick_data_t.head()"
   ]
  },
  {
   "cell_type": "code",
   "execution_count": 76,
   "metadata": {},
   "outputs": [
    {
     "name": "stdout",
     "output_type": "stream",
     "text": [
      "The number of same order_number shared between 46 & 48:  475719\n"
     ]
    }
   ],
   "source": [
    "# check how many times 48 and 46 are sharing orders accross the entire dataset\n",
    "order_source_set_48 = list(set(list(pick_data_t[pick_data_t[\"source_order_id\"] == \"48\"][\"order_number\"].values)))\n",
    "order_source_set_46 = list(set(list(pick_data_t[pick_data_t[\"source_order_id\"] == \"46\"][\"order_number\"].values)))\n",
    "\n",
    "# common orders between source_order_id\n",
    "# common_source_order_order_number = [x for x in order_source_set_48 if x in order_source_set_46]\n",
    "common_source_order_order_number = set(order_source_set_48).intersection(order_source_set_46)\n",
    "\n",
    "print(\"The number of same order_number shared between 46 & 48: \", len(common_source_order_order_number))"
   ]
  },
  {
   "cell_type": "markdown",
   "metadata": {},
   "source": [
    "##### quantity_unit"
   ]
  },
  {
   "cell_type": "markdown",
   "metadata": {},
   "source": [
    "Check if quantity units are homogeneous for a **product_id**"
   ]
  },
  {
   "cell_type": "code",
   "execution_count": 77,
   "metadata": {},
   "outputs": [
    {
     "name": "stdout",
     "output_type": "stream",
     "text": [
      "{'St', 'Mt', 'Ei', 'kg', 'Ro', 'Bl', 'VE', 'Pa', 'Se'}\n"
     ]
    }
   ],
   "source": [
    "# check data in source_order_id\n",
    "print(set(pick_data_t.quantity_unit.values))"
   ]
  },
  {
   "cell_type": "code",
   "execution_count": 93,
   "metadata": {},
   "outputs": [
    {
     "name": "stdout",
     "output_type": "stream",
     "text": [
      "The quantity_unit  St  shares  7  with  Mt\n",
      "The quantity_unit  St  shares  0  with  Ei\n",
      "The quantity_unit  St  shares  0  with  kg\n",
      "The quantity_unit  St  shares  0  with  Ro\n",
      "The quantity_unit  St  shares  5  with  Bl\n",
      "The quantity_unit  St  shares  33  with  VE\n",
      "The quantity_unit  St  shares  28  with  Pa\n",
      "The quantity_unit  St  shares  0  with  Se\n",
      "The quantity_unit  Mt  shares  0  with  Ei\n",
      "The quantity_unit  Mt  shares  0  with  kg\n",
      "The quantity_unit  Mt  shares  0  with  Ro\n",
      "The quantity_unit  Mt  shares  0  with  Bl\n",
      "The quantity_unit  Mt  shares  0  with  VE\n",
      "The quantity_unit  Mt  shares  0  with  Pa\n",
      "The quantity_unit  Mt  shares  0  with  Se\n",
      "The quantity_unit  Ei  shares  0  with  kg\n",
      "The quantity_unit  Ei  shares  0  with  Ro\n",
      "The quantity_unit  Ei  shares  0  with  Bl\n",
      "The quantity_unit  Ei  shares  0  with  VE\n",
      "The quantity_unit  Ei  shares  0  with  Pa\n",
      "The quantity_unit  Ei  shares  0  with  Se\n",
      "The quantity_unit  kg  shares  0  with  Ro\n",
      "The quantity_unit  kg  shares  0  with  Bl\n",
      "The quantity_unit  kg  shares  0  with  VE\n",
      "The quantity_unit  kg  shares  0  with  Pa\n",
      "The quantity_unit  kg  shares  0  with  Se\n",
      "The quantity_unit  Ro  shares  0  with  Bl\n",
      "The quantity_unit  Ro  shares  0  with  VE\n",
      "The quantity_unit  Ro  shares  0  with  Pa\n",
      "The quantity_unit  Ro  shares  0  with  Se\n",
      "The quantity_unit  Bl  shares  0  with  VE\n",
      "The quantity_unit  Bl  shares  0  with  Pa\n",
      "The quantity_unit  Bl  shares  0  with  Se\n",
      "The quantity_unit  VE  shares  0  with  Pa\n",
      "The quantity_unit  VE  shares  0  with  Se\n",
      "The quantity_unit  Pa  shares  0  with  Se\n"
     ]
    }
   ],
   "source": [
    "# create empty dict for interation\n",
    "quantity_unit_product_dict = {}\n",
    "\n",
    "# create a set of unique product_id values for each quantity unit\n",
    "product_list_St = list(set(pick_data_t[pick_data_t[\"quantity_unit\"] == \"St\"][\"product_id\"].values))\n",
    "product_list_Mt = list(set(pick_data_t[pick_data_t[\"quantity_unit\"] == \"Mt\"][\"product_id\"].values))\n",
    "product_list_Ei = list(set(pick_data_t[pick_data_t[\"quantity_unit\"] == \"Ei\"][\"product_id\"].values))\n",
    "product_list_kg = list(set(pick_data_t[pick_data_t[\"quantity_unit\"] == \"kg\"][\"product_id\"].values))\n",
    "product_list_Ro = list(set(pick_data_t[pick_data_t[\"quantity_unit\"] == \"Ro\"][\"product_id\"].values))\n",
    "product_list_Bl = list(set(pick_data_t[pick_data_t[\"quantity_unit\"] == \"Bl\"][\"product_id\"].values))\n",
    "product_list_VE = list(set(pick_data_t[pick_data_t[\"quantity_unit\"] == \"VE\"][\"product_id\"].values))\n",
    "product_list_Pa = list(set(pick_data_t[pick_data_t[\"quantity_unit\"] == \"Pa\"][\"product_id\"].values))\n",
    "product_list_Se = list(set(pick_data_t[pick_data_t[\"quantity_unit\"] == \"Se\"][\"product_id\"].values))\n",
    "\n",
    "# configure dictionary\n",
    "quantity_unit_product_dict[\"product_list_St\"] = product_list_St\n",
    "quantity_unit_product_dict[\"product_list_Mt\"] = product_list_Mt\n",
    "quantity_unit_product_dict[\"product_list_Ei\"] = product_list_Ei\n",
    "quantity_unit_product_dict[\"product_list_kg\"] = product_list_kg\n",
    "quantity_unit_product_dict[\"product_list_Ro\"] = product_list_Ro\n",
    "quantity_unit_product_dict[\"product_list_Bl\"] = product_list_Bl\n",
    "quantity_unit_product_dict[\"product_list_VE\"] = product_list_VE\n",
    "quantity_unit_product_dict[\"product_list_Pa\"] = product_list_Pa\n",
    "quantity_unit_product_dict[\"product_list_Se\"] = product_list_Se\n",
    "\n",
    "# common orders between source_order_id\n",
    "for i, j in list(combinations(list(quantity_unit_product_dict.keys()), 2)):\n",
    "    common_product_id_quantity_unit = set(quantity_unit_product_dict[i]).intersection(quantity_unit_product_dict[j])\n",
    "    print(\"The quantity_unit \", i[-2:], \" shares \", len(common_product_id_quantity_unit), \" with \", j[-2:])"
   ]
  },
  {
   "cell_type": "markdown",
   "metadata": {},
   "source": [
    "* We see that there are some **product_id** values that are measured in **different quantities**"
   ]
  },
  {
   "cell_type": "markdown",
   "metadata": {},
   "source": [
    "##### position_in_order"
   ]
  },
  {
   "cell_type": "code",
   "execution_count": null,
   "metadata": {},
   "outputs": [],
   "source": [
    "# check data in position_in_order\n",
    "position_in_order_set_list = list(set([int(x) for x in pick_data_t.position_in_order.values]))\n",
    "print(position_in_order_set_list)"
   ]
  },
  {
   "cell_type": "markdown",
   "metadata": {},
   "source": [
    "* **position_in_order** seems to be **semi-continous** so it's a good idea to check some examples of how that variable behaviors in some **order_number** cases"
   ]
  },
  {
   "cell_type": "markdown",
   "metadata": {},
   "source": [
    "> We proceed to theck the behavior of the variable **position_in_order** within a giving **order_number**"
   ]
  },
  {
   "cell_type": "markdown",
   "metadata": {},
   "source": [
    "Check if **position_in_order** is a continues sequence from **1** to **n**"
   ]
  },
  {
   "cell_type": "code",
   "execution_count": null,
   "metadata": {},
   "outputs": [],
   "source": [
    "# check random order_number with position_in_order > 10\n",
    "random_position = pick_data_t[pick_data_t[\"position_in_order\"] > 10].head(1)[\"order_number\"].values[0]\n",
    "pick_data_t[pick_data_t[\"order_number\"] == random_position].sort_values(by=\"position_in_order\")"
   ]
  },
  {
   "cell_type": "code",
   "execution_count": null,
   "metadata": {},
   "outputs": [],
   "source": [
    "# check if values in position_in_order are sequential\n",
    "sorted_list = [int(x) for x in set(pick_data_t[pick_data_t[\"order_number\"] == random_position].sort_values(by=\"position_in_order\")[\"position_in_order\"].values)]\n",
    "sequential_count = count_non_sequential(sorted_list)\n",
    "print(\"Max. position: \", sorted(sorted_list)[-1])\n",
    "print(\"Number of breaks: \", sequential_count)\n",
    "if count_non_sequential(sorted_list) == 0:\n",
    "    print(\"The order_number: \", random_position, \" IS sequential\")\n",
    "else:\n",
    "    print(\"The order_number: \", random_position, \" IS NOT sequential\")"
   ]
  },
  {
   "cell_type": "code",
   "execution_count": null,
   "metadata": {},
   "outputs": [],
   "source": [
    "# check random order_number with position_in_order > 100\n",
    "random_position = pick_data_t[pick_data_t[\"position_in_order\"] > 100].head(1)[\"order_number\"].values[0]\n",
    "pick_data_t[pick_data_t[\"order_number\"] == random_position].sort_values(by=\"position_in_order\")"
   ]
  },
  {
   "cell_type": "code",
   "execution_count": null,
   "metadata": {},
   "outputs": [],
   "source": [
    "# check if values in position_in_order are sequential\n",
    "sorted_list = [int(x) for x in set(pick_data_t[pick_data_t[\"order_number\"] == random_position].sort_values(by=\"position_in_order\")[\"position_in_order\"].values)]\n",
    "sequential_count = count_non_sequential(sorted_list)\n",
    "print(\"Max. position: \", sorted(sorted_list)[-1])\n",
    "print(\"Number of breaks: \", sequential_count)\n",
    "if count_non_sequential(sorted_list) == 0:\n",
    "    print(\"The order_number: \", random_position, \" IS sequential\")\n",
    "else:\n",
    "    print(\"The order_number: \", random_position, \" IS NOT sequential\")"
   ]
  },
  {
   "cell_type": "code",
   "execution_count": null,
   "metadata": {},
   "outputs": [],
   "source": [
    "# check random order_number with position_in_order > 200\n",
    "random_position = pick_data_t[pick_data_t[\"position_in_order\"] > 200].head(1)[\"order_number\"].values[0]\n",
    "pick_data_t[pick_data_t[\"order_number\"] == random_position].sort_values(by=\"position_in_order\")"
   ]
  },
  {
   "cell_type": "code",
   "execution_count": null,
   "metadata": {},
   "outputs": [],
   "source": [
    "# check if values in position_in_order are sequential\n",
    "sorted_list = [int(x) for x in set(pick_data_t[pick_data_t[\"order_number\"] == random_position].sort_values(by=\"position_in_order\")[\"position_in_order\"].values)]\n",
    "sequential_count = count_non_sequential(sorted_list)\n",
    "print(\"Max. position: \", sorted(sorted_list)[-1])\n",
    "print(\"Number of breaks: \", sequential_count)\n",
    "if count_non_sequential(sorted_list) == 0:\n",
    "    print(\"The order_number: \", random_position, \" IS sequential\")\n",
    "else:\n",
    "    print(\"The order_number: \", random_position, \" IS NOT sequential\")"
   ]
  },
  {
   "cell_type": "code",
   "execution_count": null,
   "metadata": {},
   "outputs": [],
   "source": [
    "# check random order_number with position_in_order > 250\n",
    "random_position = pick_data_t[pick_data_t[\"position_in_order\"] > 250].head(1)[\"order_number\"].values[0]\n",
    "pick_data_t[pick_data_t[\"order_number\"] == random_position].sort_values(by=\"position_in_order\")"
   ]
  },
  {
   "cell_type": "code",
   "execution_count": null,
   "metadata": {},
   "outputs": [],
   "source": [
    "# check if values in position_in_order are sequential\n",
    "sorted_list = [int(x) for x in set(pick_data_t[pick_data_t[\"order_number\"] == random_position].sort_values(by=\"position_in_order\")[\"position_in_order\"].values)]\n",
    "sequential_count = count_non_sequential(sorted_list)\n",
    "print(\"Max. position: \", sorted(sorted_list)[-1])\n",
    "print(\"Number of breaks: \", sequential_count)\n",
    "if count_non_sequential(sorted_list) == 0:\n",
    "    print(\"The order_number: \", random_position, \" IS sequential\")\n",
    "else:\n",
    "    print(\"The order_number: \", random_position, \" IS NOT sequential\")"
   ]
  },
  {
   "cell_type": "code",
   "execution_count": null,
   "metadata": {},
   "outputs": [],
   "source": [
    "# check random order_number with position_in_order > 300\n",
    "random_position = pick_data_t[pick_data_t[\"position_in_order\"] > 300].head(1)[\"order_number\"].values[0]\n",
    "pick_data_t[pick_data_t[\"order_number\"] == random_position].sort_values(by=\"position_in_order\")"
   ]
  },
  {
   "cell_type": "code",
   "execution_count": null,
   "metadata": {},
   "outputs": [],
   "source": [
    "# check if values in position_in_order are sequential\n",
    "sorted_list = [int(x) for x in set(pick_data_t[pick_data_t[\"order_number\"] == random_position].sort_values(by=\"position_in_order\")[\"position_in_order\"].values)]\n",
    "sequential_count = count_non_sequential(sorted_list)\n",
    "print(\"Max. position: \", sorted(sorted_list)[-1])\n",
    "print(\"Number of breaks: \", sequential_count)\n",
    "if count_non_sequential(sorted_list) == 0:\n",
    "    print(\"The order_number: \", random_position, \" IS sequential\")\n",
    "else:\n",
    "    print(\"The order_number: \", random_position, \" IS NOT sequential\")"
   ]
  },
  {
   "cell_type": "code",
   "execution_count": null,
   "metadata": {},
   "outputs": [],
   "source": [
    "# check random order_number with position_in_order > 400\n",
    "random_position = pick_data_t[pick_data_t[\"position_in_order\"] > 400].head(1)[\"order_number\"].values[0]\n",
    "pick_data_t[pick_data_t[\"order_number\"] == random_position].sort_values(by=\"position_in_order\")"
   ]
  },
  {
   "cell_type": "code",
   "execution_count": null,
   "metadata": {},
   "outputs": [],
   "source": [
    "# check if values in position_in_order are sequential\n",
    "sorted_list = [int(x) for x in set(pick_data_t[pick_data_t[\"order_number\"] == random_position].sort_values(by=\"position_in_order\")[\"position_in_order\"].values)]\n",
    "sequential_count = count_non_sequential(sorted_list)\n",
    "print(\"Max. position: \", sorted(sorted_list)[-1])\n",
    "print(\"Number of breaks: \", sequential_count)\n",
    "if count_non_sequential(sorted_list) == 0:\n",
    "    print(\"The order_number: \", random_position, \" IS sequential\")\n",
    "else:\n",
    "    print(\"The order_number: \", random_position, \" IS NOT sequential\")"
   ]
  },
  {
   "cell_type": "markdown",
   "metadata": {},
   "source": [
    "> From the previous analysis we can check different things:\n",
    "\n",
    "    1) The grater the max position_in_order, the more number of breaks in the the sequence of the   variable (1; n)\n",
    "\n",
    "    2) We have to evaluate what to do with this order_number, since they could damage future analysis because of the breakes in the sequence"
   ]
  },
  {
   "cell_type": "markdown",
   "metadata": {},
   "source": [
    "### Missing values"
   ]
  },
  {
   "cell_type": "markdown",
   "metadata": {},
   "source": [
    "Checking misiing values over all columns"
   ]
  },
  {
   "cell_type": "code",
   "execution_count": null,
   "metadata": {},
   "outputs": [],
   "source": [
    "# check count of missing values for each variable \n",
    "pick_data_t.isna().sum()"
   ]
  },
  {
   "cell_type": "markdown",
   "metadata": {},
   "source": [
    "* Since there are no missing values, we can assume that the data is complete and we can proceed to validate the consistency of the variables"
   ]
  },
  {
   "cell_type": "markdown",
   "metadata": {},
   "source": [
    "### Duplicates"
   ]
  },
  {
   "cell_type": "markdown",
   "metadata": {},
   "source": [
    "#### General analysis"
   ]
  },
  {
   "cell_type": "markdown",
   "metadata": {},
   "source": [
    "Check duplicates based on **all columns**"
   ]
  },
  {
   "cell_type": "code",
   "execution_count": null,
   "metadata": {},
   "outputs": [],
   "source": [
    "# get duplicates dataframe over the all columns\n",
    "duplicates_pick_date = pick_data.duplicated(subset = list(pick_data.columns))\n",
    "pick_data[duplicates_pick_date].head()"
   ]
  },
  {
   "cell_type": "markdown",
   "metadata": {},
   "source": [
    "Get total length of perfect matches"
   ]
  },
  {
   "cell_type": "code",
   "execution_count": null,
   "metadata": {},
   "outputs": [],
   "source": [
    "# get the count of duplicated values\n",
    "print(len(pick_data[duplicates_pick_date]))"
   ]
  },
  {
   "cell_type": "markdown",
   "metadata": {},
   "source": [
    "* We see that **8.024** rows are duplicates evaluating **all columns**"
   ]
  },
  {
   "cell_type": "markdown",
   "metadata": {},
   "source": [
    "#### Specific analysis"
   ]
  },
  {
   "cell_type": "markdown",
   "metadata": {},
   "source": [
    "Check one duplicate example based on **all** column before taking any decission"
   ]
  },
  {
   "cell_type": "code",
   "execution_count": null,
   "metadata": {},
   "outputs": [],
   "source": [
    "# check the duplicated cases for row 14 over all columns (because we saw the indexin the previous output)\n",
    "index_to_check = 1327\n",
    "columns_to_evaluate = list(pick_data.columns)\n",
    "\n",
    "check_duplicates_row_columns(pick_data, index_to_check, columns_to_evaluate)"
   ]
  },
  {
   "cell_type": "markdown",
   "metadata": {},
   "source": [
    "* This is one of the **8.024** cases where registers are **exactly the same**"
   ]
  },
  {
   "cell_type": "markdown",
   "metadata": {},
   "source": [
    "> Comparing this register with another register that doesn't follow this behavior"
   ]
  },
  {
   "cell_type": "markdown",
   "metadata": {},
   "source": [
    "Getting registers **outside** the behavior of perfect duplicates"
   ]
  },
  {
   "cell_type": "code",
   "execution_count": null,
   "metadata": {},
   "outputs": [],
   "source": [
    "pick_data[~duplicates_pick_date].head()"
   ]
  },
  {
   "cell_type": "markdown",
   "metadata": {},
   "source": [
    "Check one **orde_number** that is **outside** the behavior of perfect duplicates"
   ]
  },
  {
   "cell_type": "code",
   "execution_count": null,
   "metadata": {},
   "outputs": [],
   "source": [
    "pick_data[pick_data[\"order_number\"]==\"7055448\"].head()"
   ]
  },
  {
   "cell_type": "markdown",
   "metadata": {},
   "source": [
    "* We see the **picks** are placed in a way that **date_time** and **pick_volume** could actually **overlap** within an **order_number**"
   ]
  },
  {
   "cell_type": "markdown",
   "metadata": {},
   "source": [
    "> **Not recommendable to drop duplicates for several reasons:**\n",
    "\n",
    "    1) We don't have a unique ID for pick_data, wich makes it difficult to make decissions over duplicates\n",
    "\n",
    "    2) Orders are placed in a way that date_time and pick_volme can overlap within an order_number"
   ]
  },
  {
   "cell_type": "markdown",
   "metadata": {},
   "source": [
    "### Outliers"
   ]
  },
  {
   "cell_type": "markdown",
   "metadata": {},
   "source": [
    "#### Idenfy outliers"
   ]
  },
  {
   "cell_type": "markdown",
   "metadata": {},
   "source": [
    "> For outliers identification we need to understand the variable where they could be"
   ]
  },
  {
   "cell_type": "markdown",
   "metadata": {},
   "source": [
    "Overview of pick_data "
   ]
  },
  {
   "cell_type": "code",
   "execution_count": null,
   "metadata": {},
   "outputs": [],
   "source": [
    "# checking structure of data\n",
    "pick_data.info()"
   ]
  },
  {
   "cell_type": "code",
   "execution_count": null,
   "metadata": {},
   "outputs": [],
   "source": [
    "# get a general overview\n",
    "general_overview(pick_data)"
   ]
  },
  {
   "cell_type": "code",
   "execution_count": null,
   "metadata": {},
   "outputs": [],
   "source": [
    "pick_data.head()"
   ]
  },
  {
   "cell_type": "markdown",
   "metadata": {},
   "source": [
    "* We are going to execute the outlier identification over all **integer** variables:\n",
    "\n",
    "    1) **pick_volume**\n",
    "    2) **position_in_order**"
   ]
  },
  {
   "cell_type": "markdown",
   "metadata": {},
   "source": [
    "> **pick_volume** has to be evaluated by product"
   ]
  },
  {
   "cell_type": "markdown",
   "metadata": {},
   "source": [
    "> **position_in_order** was already evaluated in *data homogeneity*"
   ]
  },
  {
   "cell_type": "markdown",
   "metadata": {},
   "source": [
    "###### pick_volume"
   ]
  },
  {
   "cell_type": "markdown",
   "metadata": {},
   "source": [
    "Check value ranges over **all** the dataframe"
   ]
  },
  {
   "cell_type": "code",
   "execution_count": null,
   "metadata": {},
   "outputs": [],
   "source": [
    "print(pick_data[\"pick_volume\"].min())\n",
    "print(pick_data[\"pick_volume\"].max())"
   ]
  },
  {
   "cell_type": "markdown",
   "metadata": {},
   "source": [
    "* The range in **pick_volumne** has to be equal or greater than 1 "
   ]
  },
  {
   "cell_type": "markdown",
   "metadata": {},
   "source": [
    "Check the dataframe filtered by **undesired pick_volume range**"
   ]
  },
  {
   "cell_type": "code",
   "execution_count": null,
   "metadata": {},
   "outputs": [],
   "source": [
    "pick_data[pick_data[\"pick_volume\"]<=0]"
   ]
  },
  {
   "cell_type": "markdown",
   "metadata": {},
   "source": [
    "* There are **190.371 registers** that are **adding noise** to the dataframe"
   ]
  },
  {
   "cell_type": "markdown",
   "metadata": {},
   "source": [
    "Drop 190.371 registers (see above)"
   ]
  },
  {
   "cell_type": "code",
   "execution_count": null,
   "metadata": {},
   "outputs": [],
   "source": [
    "pick_data = pick_data[pick_data[\"pick_volume\"]>0].reset_index(drop=True)\n",
    "pick_data.head()"
   ]
  },
  {
   "cell_type": "code",
   "execution_count": null,
   "metadata": {},
   "outputs": [],
   "source": [
    "# get a general overview\n",
    "general_overview(pick_data)"
   ]
  },
  {
   "cell_type": "markdown",
   "metadata": {},
   "source": [
    "Boxplot to evaluate frequency of pick_volume over **all data**"
   ]
  },
  {
   "cell_type": "code",
   "execution_count": null,
   "metadata": {},
   "outputs": [],
   "source": [
    "pick_volume_boxplot = pick_data.boxplot(column=['pick_volume'], vert = False)"
   ]
  },
  {
   "cell_type": "markdown",
   "metadata": {},
   "source": [
    "Check highest **pick_volume** values"
   ]
  },
  {
   "cell_type": "code",
   "execution_count": null,
   "metadata": {},
   "outputs": [],
   "source": [
    "pick_data[pick_data[\"pick_volume\"] > 25000]"
   ]
  },
  {
   "cell_type": "markdown",
   "metadata": {},
   "source": [
    "Check number of outliers from a **product_id**"
   ]
  },
  {
   "cell_type": "code",
   "execution_count": 50,
   "metadata": {},
   "outputs": [],
   "source": [
    "product_id = \"500103\""
   ]
  },
  {
   "cell_type": "code",
   "execution_count": null,
   "metadata": {},
   "outputs": [],
   "source": [
    "product_id_volume_outliers(0.05, 0.95, pick_data, product_id)"
   ]
  },
  {
   "cell_type": "code",
   "execution_count": null,
   "metadata": {},
   "outputs": [],
   "source": [
    "pick_data[pick_data[\"product_id\"] == product_id].boxplot(column=['pick_volume'], vert = False)\n",
    "plt.show()"
   ]
  },
  {
   "cell_type": "markdown",
   "metadata": {},
   "source": [
    "Check order"
   ]
  },
  {
   "cell_type": "code",
   "execution_count": null,
   "metadata": {},
   "outputs": [],
   "source": [
    "pick_data[pick_data[\"order_number\"] == \"7981876\"]"
   ]
  },
  {
   "cell_type": "markdown",
   "metadata": {},
   "source": [
    "## Upload"
   ]
  },
  {
   "cell_type": "markdown",
   "metadata": {},
   "source": [
    "Write csv file"
   ]
  },
  {
   "cell_type": "code",
   "execution_count": 55,
   "metadata": {},
   "outputs": [],
   "source": [
    "pick_data.to_csv(\"pick_data_upload.csv\", index=False)"
   ]
  },
  {
   "cell_type": "markdown",
   "metadata": {},
   "source": [
    "Check that csv file is well written"
   ]
  },
  {
   "cell_type": "code",
   "execution_count": null,
   "metadata": {},
   "outputs": [],
   "source": [
    "pick_data_test = pd.read_csv(\"pick_data_upload.csv\")\n",
    "pick_data_test.head()"
   ]
  }
 ],
 "metadata": {
  "kernelspec": {
   "display_name": "Python 3",
   "language": "python",
   "name": "python3"
  },
  "language_info": {
   "codemirror_mode": {
    "name": "ipython",
    "version": 3
   },
   "file_extension": ".py",
   "mimetype": "text/x-python",
   "name": "python",
   "nbconvert_exporter": "python",
   "pygments_lexer": "ipython3",
   "version": "3.12.2"
  }
 },
 "nbformat": 4,
 "nbformat_minor": 2
}
